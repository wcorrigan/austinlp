{
 "metadata": {
  "name": "",
  "signature": "sha256:15c495a8e4c8a5c1ad67ed1cc0409110e99e48bb19f80ff4ee093f86a9ac7a3a"
 },
 "nbformat": 3,
 "nbformat_minor": 0,
 "worksheets": [
  {
   "cells": [
    {
     "cell_type": "heading",
     "level": 3,
     "metadata": {},
     "source": [
      "Types Representing Program Structure"
     ]
    },
    {
     "cell_type": "heading",
     "level": 4,
     "metadata": {},
     "source": [
      "Callable Types"
     ]
    },
    {
     "cell_type": "markdown",
     "metadata": {},
     "source": [
      "Callable types represent objects that support the function call operation\n",
      "* User-defined functions\n",
      "* Built-in functions\n",
      "* Instance Methods\n",
      "* Classes"
     ]
    },
    {
     "cell_type": "heading",
     "level": 4,
     "metadata": {},
     "source": [
      "User-defined functions"
     ]
    },
    {
     "cell_type": "markdown",
     "metadata": {},
     "source": [
      "User-defined functions are callable objects created at the module level by using the *def* statement or with the *lambda* operator"
     ]
    },
    {
     "cell_type": "code",
     "collapsed": false,
     "input": [
      "def foo(x,y):\n",
      "    return result\n",
      "bar = foo(x,y)"
     ],
     "language": "python",
     "metadata": {},
     "outputs": [],
     "prompt_number": 1
    },
    {
     "cell_type": "code",
     "collapsed": false,
     "input": [
      "bar = lambda x,y: x+y"
     ],
     "language": "python",
     "metadata": {},
     "outputs": [],
     "prompt_number": 2
    },
    {
     "cell_type": "heading",
     "level": 4,
     "metadata": {},
     "source": [
      "Methods"
     ]
    },
    {
     "cell_type": "markdown",
     "metadata": {},
     "source": [
      "Methods are functions that are defined inside a class definition\n",
      "* Instance methods: a method that operates on an instance belonging to a given class\n",
      "* Class methods: operates on the class itself\n",
      "* Static methods: a function that happens to be packaged inside a class"
     ]
    },
    {
     "cell_type": "heading",
     "level": 4,
     "metadata": {},
     "source": [
      "Modules"
     ]
    },
    {
     "cell_type": "markdown",
     "metadata": {},
     "source": [
      "The Module is a type of container that holds Objects loaded with the *import* statement\n",
      "\n",
      "When the statement *import foo* appears in a program, the name *foo* is made available in the calling context"
     ]
    }
   ],
   "metadata": {}
  }
 ]
}