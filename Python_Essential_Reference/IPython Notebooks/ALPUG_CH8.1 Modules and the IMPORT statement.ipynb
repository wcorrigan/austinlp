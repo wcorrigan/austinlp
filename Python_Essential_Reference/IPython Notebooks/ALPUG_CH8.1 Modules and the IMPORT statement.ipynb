{
 "metadata": {
  "name": ""
 },
 "nbformat": 3,
 "nbformat_minor": 0,
 "worksheets": [
  {
   "cells": [
    {
     "cell_type": "code",
     "collapsed": false,
     "input": [
      "# Any Python source file can be used as a Module\n",
      "# spam.py example\n",
      "# load this code as a module by using IMPORT\n",
      "a = 37\n",
      "def foo():\n",
      "    print(\"I'm foo and a is %s\" % a)\n",
      "def bar():\n",
      "    print(\"I'm bar and I'm calling foo\")\n",
      "    foo()\n",
      "class Spam(object):\n",
      "    def grok(self):\n",
      "        print(\"I'm Spam.grok\")"
     ],
     "language": "python",
     "metadata": {},
     "outputs": []
    },
    {
     "cell_type": "code",
     "collapsed": false,
     "input": [
      "# put the module somewhere on the local system...\n",
      "# iPython notebook will look in the working directory\n",
      "# so let's find it.\n",
      "import os\n",
      "os.getcwd()"
     ],
     "language": "python",
     "metadata": {},
     "outputs": []
    },
    {
     "cell_type": "code",
     "collapsed": false,
     "input": [
      "# example\n",
      "import spam     # Loads and executes the module 'spam'\n",
      "x = spam.a      # Accesses a member of the module 'spam'\n",
      "spam.foo()      # Call a function in module 'spam'\n",
      "s = spam.Spam() # Create an instance of spam.Spam()\n",
      "s.grok()        #"
     ],
     "language": "python",
     "metadata": {},
     "outputs": []
    },
    {
     "cell_type": "code",
     "collapsed": false,
     "input": [
      "# more importing: use comma-separated list\n",
      "import socket, os, re"
     ],
     "language": "python",
     "metadata": {},
     "outputs": []
    },
    {
     "cell_type": "code",
     "collapsed": false,
     "input": [
      "# the name used to refer to a module can be changed \n",
      "# using the \"as\" qualifier\n",
      "import spam as sp\n",
      "import socket as net\n",
      "sp.foo()\n",
      "sp.bar()\n",
      "net.gethostname()"
     ],
     "language": "python",
     "metadata": {},
     "outputs": []
    },
    {
     "cell_type": "code",
     "collapsed": false,
     "input": [
      "# why would we need the \"as\" qualifier?\n",
      "# note: this is mock code and will not execute\n",
      "format = 'csv'\n",
      "if format == 'xml':\n",
      "    import xmlreader as reader\n",
      "elif format == 'csv':\n",
      "    import csvreader as reader\n",
      "data = reader.read_data(filename)"
     ],
     "language": "python",
     "metadata": {},
     "outputs": []
    },
    {
     "cell_type": "code",
     "collapsed": false,
     "input": [
      "# what is loaded?\n",
      "import sys\n",
      "#dir(sys.modules)#.__class__\n",
      "print sys.modules"
     ],
     "language": "python",
     "metadata": {},
     "outputs": []
    },
    {
     "cell_type": "code",
     "collapsed": false,
     "input": [],
     "language": "python",
     "metadata": {},
     "outputs": []
    }
   ],
   "metadata": {}
  }
 ]
}