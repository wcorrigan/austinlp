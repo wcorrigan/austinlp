{
 "metadata": {
  "name": ""
 },
 "nbformat": 3,
 "nbformat_minor": 0,
 "worksheets": [
  {
   "cells": [
    {
     "cell_type": "code",
     "collapsed": false,
     "input": [
      "# \"import\" vs command line execution of modules\n",
      "# command-line ex: python spam.py\n",
      "#\n",
      "# Each module defines a variable, \"__name__\"\n",
      "# Programs specified on the command line\n",
      "# run inside the \"__main__\" module.\n",
      "#\n",
      "# Check if running as a program\n",
      "if __name__ == '__main__':\n",
      "    print(\"Command line execution\")\n",
      "else:\n",
      "    print(\"Imported as a module\")"
     ],
     "language": "python",
     "metadata": {},
     "outputs": [
      {
       "output_type": "stream",
       "stream": "stdout",
       "text": [
        "Command line execution\n"
       ]
      }
     ],
     "prompt_number": 1
    },
    {
     "cell_type": "code",
     "collapsed": false,
     "input": [],
     "language": "python",
     "metadata": {},
     "outputs": []
    }
   ],
   "metadata": {}
  }
 ]
}