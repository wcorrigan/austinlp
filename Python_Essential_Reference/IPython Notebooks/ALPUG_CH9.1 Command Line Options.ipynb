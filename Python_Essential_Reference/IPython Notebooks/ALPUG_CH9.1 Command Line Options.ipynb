{
 "metadata": {
  "name": ""
 },
 "nbformat": 3,
 "nbformat_minor": 0,
 "worksheets": [
  {
   "cells": [
    {
     "cell_type": "code",
     "collapsed": false,
     "input": [
      "# Module: sys\n",
      "# Command-line options are placed in the list \"sys.argv\"\n",
      "# Coding Standard: \n",
      "#   Command-line programs should write an error to sys.stderr with a non-zero exit code\n",
      "\n",
      "import sys\n",
      "if len(sys.argv) != 3:\n",
      "    sys.stderr.write(\"Usage : python %s inputfile outputfile\\n\" % sys.argv[0])\n",
      "    raise SystemExit(1)\n",
      "inputfile = sys.argv[1]\n",
      "outputfile = sys.argv[2]\n"
     ],
     "language": "python",
     "metadata": {},
     "outputs": []
    },
    {
     "cell_type": "code",
     "collapsed": false,
     "input": [
      "# Module: optparse\n",
      "# Command-line options can more simply be parsed using a system lib\n",
      "\n",
      "import optparse\n",
      "p = optparse.OptionParser()\n",
      "# An option taking an argument\n",
      "#   action=\"store\" signifies a required argument\n",
      "p.add_option(\"-o\", action=\"store\", dest=\"outfile\")\n",
      "p.add_option(\"--output\", action=\"store\", dest=\"outfile\")\n",
      "# An option that sets a boolean flag\n",
      "#   action=\"store_true\" defines a boolean option\n",
      "p.add_option(\"-d\", action=\"store_true\", dest=\"debug\")\n",
      "p.add_option(\"--debug\", action=\"store_true\", dest=\"debug\")\n",
      "# Set default values for selected options\n",
      "p.set_defaults(debug=False)\n",
      "\n",
      "# Parse the command line\n",
      "#   opts holds parsed option values\n",
      "#   args holds a list of input items not parsed as options\n",
      "opts, args = p.parse_args()\n",
      "\n",
      "# Retrieve the option settings\n",
      "outfilename = opts.outfile\n",
      "debugmode = opts.debug\n"
     ],
     "language": "python",
     "metadata": {},
     "outputs": []
    },
    {
     "cell_type": "code",
     "collapsed": false,
     "input": [],
     "language": "python",
     "metadata": {},
     "outputs": []
    }
   ],
   "metadata": {}
  }
 ]
}