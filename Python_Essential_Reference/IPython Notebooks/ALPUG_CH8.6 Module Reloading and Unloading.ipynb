{
 "metadata": {
  "name": ""
 },
 "nbformat": 3,
 "nbformat_minor": 0,
 "worksheets": [
  {
   "cells": [
    {
     "cell_type": "code",
     "collapsed": false,
     "input": [
      "# Python offers no real support for reloading or unloading\n",
      "# of previously imported modules.\n",
      "#\n",
      "# Older versions provided a \"reload()\" function,\n",
      "# but it's been removed in Python 3"
     ],
     "language": "python",
     "metadata": {},
     "outputs": []
    }
   ],
   "metadata": {}
  }
 ]
}