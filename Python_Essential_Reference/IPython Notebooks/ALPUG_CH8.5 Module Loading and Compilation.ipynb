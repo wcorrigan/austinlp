{
 "metadata": {
  "name": ""
 },
 "nbformat": 3,
 "nbformat_minor": 0,
 "worksheets": [
  {
   "cells": [
    {
     "cell_type": "code",
     "collapsed": false,
     "input": [
      "# Modules loaded with \"import\" fall into four categories\n",
      "# 1) Code written in Python (.py files)\n",
      "# 2) C or C++ extensions compiled into shared libraries or DLLs\n",
      "# 3) Packages containing a collection of modules\n",
      "# 4) Built-in modules written in C and linked into the Python interpreter"
     ],
     "language": "python",
     "metadata": {},
     "outputs": []
    },
    {
     "cell_type": "code",
     "collapsed": false,
     "input": [
      "# When looking for a module, the interpreter searches each of\n",
      "# the directores in sys.path for the following files, in order\n",
      "# 1) A directory, foo, defining a package\n",
      "# 2) foo.pyd, foo.so, foomodule.so, or foomodule.dll\n",
      "# 3) foo.pyo (only if the -O or -OO option has been used)\n",
      "# 4) foo.pyc\n",
      "# 5) foo.py (also foo.pyw on Windows)"
     ],
     "language": "python",
     "metadata": {},
     "outputs": []
    },
    {
     "cell_type": "code",
     "collapsed": false,
     "input": [
      "# The first time a .py file is imported, it's compiled into bytecode\n",
      "# and written back as a .pyc file.\n",
      "#\n",
      "# Timestamps are key here - if the .py file has an older date than the\n",
      "# .pyc file, the .py file will not be loaded! \n",
      "# (see order of loading... pyc first, py next)"
     ],
     "language": "python",
     "metadata": {},
     "outputs": []
    }
   ],
   "metadata": {}
  }
 ]
}