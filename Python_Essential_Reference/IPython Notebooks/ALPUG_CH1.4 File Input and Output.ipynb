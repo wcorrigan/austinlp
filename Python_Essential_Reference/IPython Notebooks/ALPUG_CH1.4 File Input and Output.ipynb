{
 "metadata": {
  "name": ""
 },
 "nbformat": 3,
 "nbformat_minor": 0,
 "worksheets": [
  {
   "cells": [
    {
     "cell_type": "heading",
     "level": 3,
     "metadata": {},
     "source": [
      "File Input and Output"
     ]
    },
    {
     "cell_type": "markdown",
     "metadata": {},
     "source": [
      "Start by creating a file"
     ]
    },
    {
     "cell_type": "code",
     "collapsed": false,
     "input": [
      "myfile = 'c:/temp/ch1pt4a.txt'\n",
      "f = open(myfile, 'w')\n",
      "for x in xrange(10):\n",
      "    f.write(str(x) + \"\\n\")\n",
      "f.close()"
     ],
     "language": "python",
     "metadata": {},
     "outputs": []
    },
    {
     "cell_type": "markdown",
     "metadata": {},
     "source": [
      "Next, read from that file using Iteration (looping over a collection of data)."
     ]
    },
    {
     "cell_type": "code",
     "collapsed": false,
     "input": [
      "myfile = 'c:/temp/ch1pt4a.txt'\n",
      "f = open(myfile)\n",
      "line = f.readline()\n",
      "while line:\n",
      "    print line, #the comma (,) omits newline character\n",
      "    #print(line,end='') #Python 3 syntax\n",
      "    line = f.readline()\n",
      "f.close()"
     ],
     "language": "python",
     "metadata": {},
     "outputs": []
    }
   ],
   "metadata": {}
  }
 ]
}