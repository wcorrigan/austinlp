{
 "metadata": {
  "name": ""
 },
 "nbformat": 3,
 "nbformat_minor": 0,
 "worksheets": [
  {
   "cells": [
    {
     "cell_type": "heading",
     "level": 3,
     "metadata": {},
     "source": [
      "Variables and Arithmetic Expressions"
     ]
    },
    {
     "cell_type": "heading",
     "level": 4,
     "metadata": {},
     "source": [
      "Compound-Interest Calculation"
     ]
    },
    {
     "cell_type": "code",
     "collapsed": false,
     "input": [
      "principal = 1000 # Initial value\n",
      "rate = 0.05 #Interest rate\n",
      "numyears = 5 # Number of years\n",
      "year = 1\n",
      "while year <= numyears:\n",
      "    principal = principal * (1 + rate)\n",
      "    print(year, principal)\n",
      "    year += 1"
     ],
     "language": "python",
     "metadata": {},
     "outputs": []
    }
   ],
   "metadata": {}
  }
 ]
}