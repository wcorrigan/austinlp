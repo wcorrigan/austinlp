{
 "metadata": {
  "name": ""
 },
 "nbformat": 3,
 "nbformat_minor": 0,
 "worksheets": [
  {
   "cells": [
    {
     "cell_type": "code",
     "collapsed": false,
     "input": [
      "# Saving and restoring Objects from File Objects\n",
      "# NOTE: programs should NOT process pickled data from untrusted sources!\n",
      "#       the un-pickling process can trigger the execution of system commands!\n",
      "# Module: pickle\n",
      "#   'pickle' serializes an object into a stream of bytes\n",
      "\n",
      "import pickle\n",
      "# Serialize\n",
      "obj = SomeObject()\n",
      "f = open(filename, 'wb')\n",
      "# export the object \"obj\" to file object \"f\"\n",
      "pickle.dump(obj, f)\n",
      "f.close()\n",
      "\n",
      "# Restore\n",
      "f = open(filename, 'rb')\n",
      "# import from file \"f\" the object \"obj\"\n",
      "obj = pickle.load(f)\n",
      "f.close"
     ],
     "language": "python",
     "metadata": {},
     "outputs": []
    },
    {
     "cell_type": "code",
     "collapsed": false,
     "input": [
      "# Module: shelve\n",
      "#   'shelve' acts like 'pickle', \n",
      "#   but stores in a dictionary-like database file\n",
      "#   The keys must be strings\n",
      "#   The values must be serializable via 'pickle'\n",
      "\n",
      "import shelve\n",
      "# Serialize\n",
      "obj = SomeObject()\n",
      "db = shelve.open(\"filename\")\n",
      "db['mykeystring'] = obj\n",
      "db.close()\n",
      "\n",
      "# Restore\n",
      "db = shelve.open(\"filename\")\n",
      "obj = db['mykeystring']\n",
      "db.close()"
     ],
     "language": "python",
     "metadata": {},
     "outputs": []
    }
   ],
   "metadata": {}
  }
 ]
}