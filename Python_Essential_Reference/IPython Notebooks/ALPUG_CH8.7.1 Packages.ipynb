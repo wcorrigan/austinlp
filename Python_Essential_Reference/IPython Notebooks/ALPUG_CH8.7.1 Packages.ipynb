{
 "metadata": {
  "name": ""
 },
 "nbformat": 3,
 "nbformat_minor": 0,
 "worksheets": [
  {
   "cells": [
    {
     "cell_type": "code",
     "collapsed": false,
     "input": [
      "# Packages allow a collection of modules to be grouped\n",
      "# under a common package name.\n",
      "#\n",
      "# A Package is defined by creating a directory with the\n",
      "# same name as the Package and creating the file __init__.py.\n",
      "#\n",
      "# Example:\n",
      "Graphics/\n",
      "    __init__.py\n",
      "    Primitive/\n",
      "        __init__.py\n",
      "        lines.py\n",
      "        fill.py\n",
      "        text.py\n",
      "    Graph2d/\n",
      "        __init__.py\n",
      "        plot2d.py\n",
      "    Graph3d/\n",
      "        __init__.py\n",
      "        plot3d.py\n",
      "    Formats/\n",
      "        __init__.py\n",
      "        gif.py\n",
      "        jpeg.py\n",
      "        png.py\n",
      "        tiff.py"
     ],
     "language": "python",
     "metadata": {},
     "outputs": []
    },
    {
     "cell_type": "code",
     "collapsed": false,
     "input": [
      "# The \"import\" statement is used to load modules \n",
      "# from a package in a number of ways."
     ],
     "language": "python",
     "metadata": {},
     "outputs": []
    },
    {
     "cell_type": "code",
     "collapsed": false,
     "input": [
      "# This loads the submodules Graphics.Primitive.fill\n",
      "# The contents of this module have to be explicitly named...\n",
      "import Graphics.Primitive.fill\n",
      "Graphics.Primitive.fill.floodfill(img, x, y, color)"
     ],
     "language": "python",
     "metadata": {},
     "outputs": [],
     "prompt_number": 3
    },
    {
     "cell_type": "code",
     "collapsed": false,
     "input": [
      "# This loads the submodule \"fill\" but makes it available\n",
      "# without the package prefix\n",
      "from Graphics.Primitive import fill\n",
      "fill.floodfill(img, x, y, color)"
     ],
     "language": "python",
     "metadata": {},
     "outputs": [],
     "prompt_number": 2
    },
    {
     "cell_type": "code",
     "collapsed": false,
     "input": [
      "# This loads the submodules \"fill\" but makes the \"floodfill()\"\n",
      "# function directly accessible\n",
      "from Graphics.Primitive.fill import floodfill\n",
      "floodfill(img, x, y, color)"
     ],
     "language": "python",
     "metadata": {},
     "outputs": [],
     "prompt_number": 1
    }
   ],
   "metadata": {}
  }
 ]
}