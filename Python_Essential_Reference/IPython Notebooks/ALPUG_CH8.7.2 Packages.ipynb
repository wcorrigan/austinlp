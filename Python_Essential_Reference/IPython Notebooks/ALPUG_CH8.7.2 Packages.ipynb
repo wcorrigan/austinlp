{
 "metadata": {
  "name": ""
 },
 "nbformat": 3,
 "nbformat_minor": 0,
 "worksheets": [
  {
   "cells": [
    {
     "cell_type": "code",
     "collapsed": false,
     "input": [
      "# Let's try to get all the modules in Formats\n",
      "from Graphics.Formats import *"
     ],
     "language": "python",
     "metadata": {},
     "outputs": []
    },
    {
     "cell_type": "code",
     "collapsed": false,
     "input": [
      "# what do we get...\n",
      "import sys\n",
      "from pprint import pprint\n",
      "pprint(sys.modules)"
     ],
     "language": "python",
     "metadata": {},
     "outputs": []
    },
    {
     "cell_type": "code",
     "collapsed": false,
     "input": [
      "# The \"import *\" statement syntax imports all the names\n",
      "# defined in the __init__.py file in the Module directory.\n",
      "# This can be modified by use of the list, __all__\n",
      "from Graphics.Primitive import *\n",
      "# Graphics/Primitive/__init__.py\n",
      "# __all__ = [\"lines\", \"text\", \"fill\"]"
     ],
     "language": "python",
     "metadata": {},
     "outputs": []
    },
    {
     "cell_type": "code",
     "collapsed": false,
     "input": [
      "# what do we get...\n",
      "import sys\n",
      "sys.modules"
     ],
     "language": "python",
     "metadata": {},
     "outputs": []
    },
    {
     "cell_type": "code",
     "collapsed": false,
     "input": [
      "# How to bring in modules automatically\n",
      "# Recall, this works because the import runs the __init__.py\n",
      "# must use relative imports!\n",
      "# You may end up with a system library loaded instead if you don't.\n",
      "#\n",
      "# Graphics/__init__.py\n",
      "from . import Primitive, Graph2d, Graph3d"
     ],
     "language": "python",
     "metadata": {},
     "outputs": []
    }
   ],
   "metadata": {}
  }
 ]
}