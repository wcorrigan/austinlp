{
 "metadata": {
  "name": ""
 },
 "nbformat": 3,
 "nbformat_minor": 0,
 "worksheets": [
  {
   "cells": [
    {
     "cell_type": "heading",
     "level": 3,
     "metadata": {},
     "source": [
      "Line Structure and Indentation"
     ]
    },
    {
     "cell_type": "heading",
     "level": 4,
     "metadata": {},
     "source": [
      "Line Structure"
     ]
    },
    {
     "cell_type": "markdown",
     "metadata": {},
     "source": [
      "Python statements are terminated with a newline character."
     ]
    },
    {
     "cell_type": "code",
     "collapsed": false,
     "input": [
      "a = 1 + 2\n",
      "print(a)"
     ],
     "language": "python",
     "metadata": {},
     "outputs": []
    },
    {
     "cell_type": "markdown",
     "metadata": {},
     "source": [
      "Long statements can span lines by using the line-continuation character, \\."
     ]
    },
    {
     "cell_type": "code",
     "collapsed": false,
     "input": [
      "a = 1 + \\\n",
      "    2\n",
      "print(a)"
     ],
     "language": "python",
     "metadata": {},
     "outputs": []
    },
    {
     "cell_type": "heading",
     "level": 4,
     "metadata": {},
     "source": [
      "Indentation"
     ]
    },
    {
     "cell_type": "markdown",
     "metadata": {},
     "source": [
      "Indentation is used to denote different blocks of code.\n",
      "\n",
      "Examples include: functions, conditionals, loops, and classes"
     ]
    },
    {
     "cell_type": "heading",
     "level": 5,
     "metadata": {},
     "source": [
      "Example of proper indentation (using 4 spaces)"
     ]
    },
    {
     "cell_type": "code",
     "collapsed": false,
     "input": [
      "a = True\n",
      "if (a is True):\n",
      "    print(\"Value is true\")\n",
      "else:\n",
      "    print(\"Value is not true\")"
     ],
     "language": "python",
     "metadata": {},
     "outputs": []
    },
    {
     "cell_type": "heading",
     "level": 5,
     "metadata": {},
     "source": [
      "Example of alternating indentation (using 4 spaces, and then 6)"
     ]
    },
    {
     "cell_type": "code",
     "collapsed": false,
     "input": [
      "a = False\n",
      "if (a is True):\n",
      "    print(\"Value is true\")\n",
      "else:\n",
      "      print(\"Value is not true\")"
     ],
     "language": "python",
     "metadata": {},
     "outputs": []
    },
    {
     "cell_type": "heading",
     "level": 5,
     "metadata": {},
     "source": [
      "Example of invalid indentation (using 4 spaces, and then 6)"
     ]
    },
    {
     "cell_type": "code",
     "collapsed": false,
     "input": [
      "a = False\n",
      "if (a is True):\n",
      "    print(\"Value is true\")\n",
      "      print(a)\n",
      "else:\n",
      "    print(\"Value is not true\")\n",
      "    print(a)        "
     ],
     "language": "python",
     "metadata": {},
     "outputs": []
    },
    {
     "cell_type": "heading",
     "level": 4,
     "metadata": {},
     "source": [
      "Edge case examples"
     ]
    },
    {
     "cell_type": "markdown",
     "metadata": {},
     "source": [
      "Simple statements can be placed on the same line"
     ]
    },
    {
     "cell_type": "code",
     "collapsed": false,
     "input": [
      "a = False\n",
      "if a: print(\"True\")\n",
      "else: print(\"False\")"
     ],
     "language": "python",
     "metadata": {},
     "outputs": []
    },
    {
     "cell_type": "markdown",
     "metadata": {},
     "source": [
      "Empty blocks can be bypassed with \"pass\""
     ]
    },
    {
     "cell_type": "code",
     "collapsed": false,
     "input": [
      "a = False\n",
      "if a:\n",
      "    pass\n",
      "else:\n",
      "    print(\"False\")"
     ],
     "language": "python",
     "metadata": {},
     "outputs": []
    },
    {
     "cell_type": "markdown",
     "metadata": {},
     "source": [
      "Comments extend from the # symbol to the end of the line"
     ]
    },
    {
     "cell_type": "code",
     "collapsed": false,
     "input": [
      "a = False #initialize a as False\n",
      "print(a)"
     ],
     "language": "python",
     "metadata": {},
     "outputs": []
    }
   ],
   "metadata": {}
  }
 ]
}