{
 "metadata": {
  "name": ""
 },
 "nbformat": 3,
 "nbformat_minor": 0,
 "worksheets": [
  {
   "cells": [
    {
     "cell_type": "heading",
     "level": 3,
     "metadata": {},
     "source": [
      "Identifiers and Reserved Words"
     ]
    },
    {
     "cell_type": "markdown",
     "metadata": {},
     "source": [
      "An identifier is a name used to identify variables, functions, classes, modules, and other objects.\n",
      "\n",
      "Identifiers can include letters, numbers, and the underscore character and must start w a nonnumeric character."
     ]
    },
    {
     "cell_type": "heading",
     "level": 5,
     "metadata": {},
     "source": [
      "Identifiers are case-sensitive."
     ]
    },
    {
     "cell_type": "code",
     "collapsed": false,
     "input": [
      "foo = \"lower\"\n",
      "FOO = \"upper\"\n",
      "print(foo, FOO)"
     ],
     "language": "python",
     "metadata": {},
     "outputs": []
    },
    {
     "cell_type": "heading",
     "level": 5,
     "metadata": {},
     "source": [
      "Certain words are \"reserved\" and cannot be used as identifier names."
     ]
    },
    {
     "cell_type": "markdown",
     "metadata": {},
     "source": [
      "Examples include (not complete list): \n",
      "\n",
      "        and, if, else, for, try, while, print, return, in, break, or"
     ]
    },
    {
     "cell_type": "heading",
     "level": 5,
     "metadata": {},
     "source": [
      "Underscores can have special meaning"
     ]
    },
    {
     "cell_type": "markdown",
     "metadata": {},
     "source": [
      "Identifiers starting or ending with underscores often have special meanings."
     ]
    },
    {
     "cell_type": "markdown",
     "metadata": {},
     "source": [
      "Identifiers starting with a single underscore are not imported by the statement: \n",
      "\n",
      "        from module import *"
     ]
    },
    {
     "cell_type": "markdown",
     "metadata": {},
     "source": [
      "Identifiers with leading and trailing double underscores are reserved for special methods.\n",
      "\n",
      "        __init__"
     ]
    },
    {
     "cell_type": "markdown",
     "metadata": {},
     "source": [
      "Identifiers with leading double underscores are used to implement private class members.\n",
      "\n",
      "        __bar"
     ]
    }
   ],
   "metadata": {}
  }
 ]
}