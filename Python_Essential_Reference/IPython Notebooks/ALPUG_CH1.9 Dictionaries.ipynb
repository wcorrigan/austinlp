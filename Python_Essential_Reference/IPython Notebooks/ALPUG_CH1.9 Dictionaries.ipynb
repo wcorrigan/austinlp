{
 "metadata": {
  "name": ""
 },
 "nbformat": 3,
 "nbformat_minor": 0,
 "worksheets": [
  {
   "cells": [
    {
     "cell_type": "heading",
     "level": 3,
     "metadata": {},
     "source": [
      "Dictionaries"
     ]
    },
    {
     "cell_type": "markdown",
     "metadata": {},
     "source": [
      "Dictionaries are data-structures defined by key-value pair(s) and are defined by curly-braces ({ })."
     ]
    },
    {
     "cell_type": "code",
     "collapsed": false,
     "input": [
      "stock = {\"name\": \"GOOG\",\n",
      "         \"shares\": 100,\n",
      "         \"price\": 490.25,\n",
      "        }\n",
      "print(stock)"
     ],
     "language": "python",
     "metadata": {},
     "outputs": []
    },
    {
     "cell_type": "markdown",
     "metadata": {},
     "source": [
      "Access data in a dictionary by using the key-name-index."
     ]
    },
    {
     "cell_type": "code",
     "collapsed": false,
     "input": [
      "name = stock[\"name\"]\n",
      "print(name)"
     ],
     "language": "python",
     "metadata": {},
     "outputs": []
    },
    {
     "cell_type": "markdown",
     "metadata": {},
     "source": [
      "Dictionaries function well as lookup containers."
     ]
    },
    {
     "cell_type": "code",
     "collapsed": false,
     "input": [
      "prices = {\"GOOG\": 490.15,\n",
      "          \"AAPL\": 123.23,\n",
      "          \"MSFT\": 90.98,\n",
      "         }\n",
      "if \"GOOG\" in prices: print(\"Found GOOG\")"
     ],
     "language": "python",
     "metadata": {},
     "outputs": []
    },
    {
     "cell_type": "markdown",
     "metadata": {},
     "source": [
      "Default values can be returned when doing lookups."
     ]
    },
    {
     "cell_type": "code",
     "collapsed": false,
     "input": [
      "print(prices.get(\"ASDF\", 0.0))"
     ],
     "language": "python",
     "metadata": {},
     "outputs": []
    },
    {
     "cell_type": "markdown",
     "metadata": {},
     "source": [
      "Removing keys is easy."
     ]
    },
    {
     "cell_type": "code",
     "collapsed": false,
     "input": [
      "del prices[\"MSFT\"]\n",
      "print prices"
     ],
     "language": "python",
     "metadata": {},
     "outputs": []
    },
    {
     "cell_type": "markdown",
     "metadata": {},
     "source": [
      "Getting a list of all keys is also easy."
     ]
    },
    {
     "cell_type": "code",
     "collapsed": false,
     "input": [
      "for x in list(prices): print x"
     ],
     "language": "python",
     "metadata": {},
     "outputs": []
    }
   ],
   "metadata": {}
  }
 ]
}