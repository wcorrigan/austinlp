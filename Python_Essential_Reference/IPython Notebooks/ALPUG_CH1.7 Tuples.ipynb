{
 "metadata": {
  "name": ""
 },
 "nbformat": 3,
 "nbformat_minor": 0,
 "worksheets": [
  {
   "cells": [
    {
     "cell_type": "heading",
     "level": 3,
     "metadata": {},
     "source": [
      "Tuples"
     ]
    },
    {
     "cell_type": "markdown",
     "metadata": {},
     "source": [
      "Tuples are immutable (locked values) and function similarly to lists, but are defined (typically) with parantheses."
     ]
    },
    {
     "cell_type": "code",
     "collapsed": false,
     "input": [
      "stock = ('GOOG', 100, 490.25)\n",
      "print(stock)\n",
      "name, shares, price = stock\n",
      "print(name, shares, price)"
     ],
     "language": "python",
     "metadata": {},
     "outputs": []
    },
    {
     "cell_type": "markdown",
     "metadata": {},
     "source": [
      "You cannot change the value of a tuple"
     ]
    },
    {
     "cell_type": "code",
     "collapsed": false,
     "input": [
      "stock[0] = 7"
     ],
     "language": "python",
     "metadata": {},
     "outputs": []
    },
    {
     "cell_type": "markdown",
     "metadata": {},
     "source": [
      "You cannot append to a tuple"
     ]
    },
    {
     "cell_type": "code",
     "collapsed": false,
     "input": [
      "stock.append(\"20141231\")"
     ],
     "language": "python",
     "metadata": {},
     "outputs": []
    }
   ],
   "metadata": {}
  }
 ]
}