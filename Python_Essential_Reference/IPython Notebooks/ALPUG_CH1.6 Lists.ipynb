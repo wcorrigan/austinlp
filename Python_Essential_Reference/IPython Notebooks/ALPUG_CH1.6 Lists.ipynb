{
 "metadata": {
  "name": ""
 },
 "nbformat": 3,
 "nbformat_minor": 0,
 "worksheets": [
  {
   "cells": [
    {
     "cell_type": "heading",
     "level": 3,
     "metadata": {},
     "source": [
      "Lists"
     ]
    },
    {
     "cell_type": "markdown",
     "metadata": {},
     "source": [
      "Lists are sequences of arbitrary objects and are created by enclosing the values in square braces ([ ])."
     ]
    },
    {
     "cell_type": "code",
     "collapsed": false,
     "input": [
      "vowels = ['a', 'e', 'i', 'o', 'u']\n",
      "print(vowels[2])"
     ],
     "language": "python",
     "metadata": {},
     "outputs": []
    },
    {
     "cell_type": "markdown",
     "metadata": {},
     "source": [
      "Altering lists can be done by using the index"
     ]
    },
    {
     "cell_type": "code",
     "collapsed": false,
     "input": [
      "vowels[0]= 'A'\n",
      "print(vowels[0])"
     ],
     "language": "python",
     "metadata": {},
     "outputs": []
    },
    {
     "cell_type": "markdown",
     "metadata": {},
     "source": [
      "Adding to a list is called appending"
     ]
    },
    {
     "cell_type": "code",
     "collapsed": false,
     "input": [
      "sometimes = [] #creates an empty list\n",
      "sometimes.append('y')\n",
      "print(sometimes)"
     ],
     "language": "python",
     "metadata": {},
     "outputs": []
    },
    {
     "cell_type": "markdown",
     "metadata": {},
     "source": [
      "Appending (adding) lists together is also easy"
     ]
    },
    {
     "cell_type": "code",
     "collapsed": false,
     "input": [
      "all_vowels = vowels + sometimes\n",
      "for x in all_vowels: print(x)"
     ],
     "language": "python",
     "metadata": {},
     "outputs": []
    },
    {
     "cell_type": "markdown",
     "metadata": {},
     "source": [
      "Lists of lists?"
     ]
    },
    {
     "cell_type": "code",
     "collapsed": false,
     "input": [
      "mylist = list()\n",
      "a = ['1', '2']\n",
      "b = [3, 4, 5]\n",
      "mylist.append(a)\n",
      "mylist.append(b)\n",
      "print(mylist)\n",
      "print(mylist[0][0]) #access complex data structures"
     ],
     "language": "python",
     "metadata": {},
     "outputs": []
    }
   ],
   "metadata": {}
  }
 ]
}