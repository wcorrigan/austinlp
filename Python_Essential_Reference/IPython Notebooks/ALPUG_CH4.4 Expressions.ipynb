{
 "metadata": {
  "name": "Chapter 4 - Part 4 - Expressions"
 },
 "nbformat": 3,
 "nbformat_minor": 0,
 "worksheets": [
  {
   "cells": [
    {
     "cell_type": "heading",
     "level": 2,
     "metadata": {},
     "source": [
      "Truth Values"
     ]
    },
    {
     "cell_type": "raw",
     "metadata": {},
     "source": [
      "True Values:\n",
      "    True\n",
      "    Non-zero numbers\n",
      "    Non-empty sequences (e.g. lists, tuples, sets, dictionaries, etc.)\n",
      "    \n",
      "False Values:\n",
      "    False\n",
      "    Zero (e.g. 0, 0.0, Decimal('0'))\n",
      "    Empty sequences (e.g. [], (), set(), {})\n",
      "    \n",
      "If you want to determine the truth value of a value, you can use the built-in bool() function."
     ]
    },
    {
     "cell_type": "code",
     "collapsed": false,
     "input": [
      "bool(0.0)"
     ],
     "language": "python",
     "metadata": {},
     "outputs": []
    },
    {
     "cell_type": "code",
     "collapsed": false,
     "input": [
      "bool(0.1)"
     ],
     "language": "python",
     "metadata": {},
     "outputs": []
    },
    {
     "cell_type": "code",
     "collapsed": false,
     "input": [
      "from decimal import Decimal\n",
      "bool(Decimal(0))"
     ],
     "language": "python",
     "metadata": {},
     "outputs": []
    },
    {
     "cell_type": "code",
     "collapsed": false,
     "input": [
      "bool([])"
     ],
     "language": "python",
     "metadata": {},
     "outputs": []
    },
    {
     "cell_type": "heading",
     "level": 2,
     "metadata": {},
     "source": [
      "Boolean Expressions - or, and, not"
     ]
    },
    {
     "cell_type": "code",
     "collapsed": false,
     "input": [
      "a = 1\n",
      "b = 2\n",
      "c = 0"
     ],
     "language": "python",
     "metadata": {},
     "outputs": []
    },
    {
     "cell_type": "code",
     "collapsed": false,
     "input": [
      "a and b"
     ],
     "language": "python",
     "metadata": {},
     "outputs": []
    },
    {
     "cell_type": "code",
     "collapsed": false,
     "input": [
      "a and c"
     ],
     "language": "python",
     "metadata": {},
     "outputs": []
    },
    {
     "cell_type": "code",
     "collapsed": false,
     "input": [
      "a or b"
     ],
     "language": "python",
     "metadata": {},
     "outputs": []
    },
    {
     "cell_type": "code",
     "collapsed": false,
     "input": [
      "a or c"
     ],
     "language": "python",
     "metadata": {},
     "outputs": []
    },
    {
     "cell_type": "code",
     "collapsed": false,
     "input": [
      "not a"
     ],
     "language": "python",
     "metadata": {},
     "outputs": []
    },
    {
     "cell_type": "code",
     "collapsed": false,
     "input": [
      "a or not b and c"
     ],
     "language": "python",
     "metadata": {},
     "outputs": []
    },
    {
     "cell_type": "heading",
     "level": 3,
     "metadata": {},
     "source": [
      "Expressions are short-circuited"
     ]
    },
    {
     "cell_type": "raw",
     "metadata": {},
     "source": [
      "Let's show this with the use of a function with side effects."
     ]
    },
    {
     "cell_type": "code",
     "collapsed": false,
     "input": [
      "def foo():\n",
      "    print \"foo was called\"\n",
      "    return False"
     ],
     "language": "python",
     "metadata": {},
     "outputs": []
    },
    {
     "cell_type": "code",
     "collapsed": false,
     "input": [
      "0 and foo()"
     ],
     "language": "python",
     "metadata": {},
     "outputs": []
    },
    {
     "cell_type": "code",
     "collapsed": false,
     "input": [
      "1 and foo()"
     ],
     "language": "python",
     "metadata": {},
     "outputs": []
    },
    {
     "cell_type": "heading",
     "level": 2,
     "metadata": {},
     "source": [
      "Equality vs. Identity"
     ]
    },
    {
     "cell_type": "raw",
     "metadata": {},
     "source": [
      "Equality operator (==) tests values of both side for equality.\n",
      "For example, with lists, tuples, dictionaries, and sets this means that both sides contain the same items."
     ]
    },
    {
     "cell_type": "code",
     "collapsed": false,
     "input": [
      "a = [1,2,3]\n",
      "b = [1,2,3]"
     ],
     "language": "python",
     "metadata": {},
     "outputs": []
    },
    {
     "cell_type": "code",
     "collapsed": false,
     "input": [
      "a == b"
     ],
     "language": "python",
     "metadata": {},
     "outputs": []
    },
    {
     "cell_type": "raw",
     "metadata": {},
     "source": [
      "Identity operators (is and is not) test if both sides are the same object (i.e. point to same object in memory)"
     ]
    },
    {
     "cell_type": "code",
     "collapsed": false,
     "input": [
      "a is b"
     ],
     "language": "python",
     "metadata": {},
     "outputs": []
    },
    {
     "cell_type": "code",
     "collapsed": false,
     "input": [
      "a = [1,2,3]\n",
      "b = a"
     ],
     "language": "python",
     "metadata": {},
     "outputs": []
    },
    {
     "cell_type": "code",
     "collapsed": false,
     "input": [
      "a is b"
     ],
     "language": "python",
     "metadata": {},
     "outputs": []
    },
    {
     "cell_type": "code",
     "collapsed": false,
     "input": [
      "a = b = [1,2,3]\n",
      "a is b"
     ],
     "language": "python",
     "metadata": {},
     "outputs": []
    },
    {
     "cell_type": "heading",
     "level": 2,
     "metadata": {},
     "source": [
      "Order of Evaluation"
     ]
    },
    {
     "cell_type": "raw",
     "metadata": {},
     "source": [
      "Highest to lowest:\n",
      "Tuple, list, dictionary creation\n",
      "Indexing and slicing\n",
      "Attribute access\n",
      "Function calls\n",
      "Unary operators (+, -, ~)\n",
      "Power (**)\n",
      "Multiplication, division, floor division, modulo (*, /, // , %)\n",
      "Bit shifts (<<, >>)\n",
      "Bitwise and (&)\n",
      "Bitwise xor (^)\n",
      "Bitwise or (|)\n",
      "Comparison, identity, membership (<, >, <=, >=, ==, !=, is, is not, in, not in)\n",
      "Logical negation (not)\n",
      "Logical and (and)\n",
      "Logical or (or)\n",
      "Anonymous functions (lambda)"
     ]
    },
    {
     "cell_type": "raw",
     "metadata": {},
     "source": [
      "Can make use of parenthesis to override default order of evaluation, e.g.:\n",
      "\n",
      "a or b and c or d     # Equiv. to: a or (b and c) or d\n",
      "\n",
      "vs.\n",
      "\n",
      "(a or b) and (c or d)"
     ]
    },
    {
     "cell_type": "heading",
     "level": 2,
     "metadata": {},
     "source": [
      "Conditional Expressions"
     ]
    },
    {
     "cell_type": "raw",
     "metadata": {},
     "source": [
      "Useful when conditionally assigning a variable."
     ]
    },
    {
     "cell_type": "code",
     "collapsed": false,
     "input": [
      "mylist = None"
     ],
     "language": "python",
     "metadata": {},
     "outputs": []
    },
    {
     "cell_type": "code",
     "collapsed": false,
     "input": [
      "if mylist is None:\n",
      "    myset = set([1,2,3])\n",
      "else:\n",
      "    myset = set(mylist)\n",
      "myset"
     ],
     "language": "python",
     "metadata": {},
     "outputs": []
    },
    {
     "cell_type": "raw",
     "metadata": {},
     "source": [
      "The above can be shorted using the conditional expression:\n"
     ]
    },
    {
     "cell_type": "code",
     "collapsed": false,
     "input": [
      "myset = set([1,2,3]) if mylist is None else set(mylist)\n",
      "myset"
     ],
     "language": "python",
     "metadata": {},
     "outputs": []
    }
   ],
   "metadata": {}
  }
 ]
}