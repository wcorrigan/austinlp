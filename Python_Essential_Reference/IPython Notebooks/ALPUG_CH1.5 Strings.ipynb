{
 "metadata": {
  "name": ""
 },
 "nbformat": 3,
 "nbformat_minor": 0,
 "worksheets": [
  {
   "cells": [
    {
     "cell_type": "heading",
     "level": 3,
     "metadata": {},
     "source": [
      "Strings"
     ]
    },
    {
     "cell_type": "markdown",
     "metadata": {},
     "source": [
      "To create a string, enclose the text in single ('), double (\"), or triple (''') quotes."
     ]
    },
    {
     "cell_type": "code",
     "collapsed": false,
     "input": [
      "a = 'Hello world'\n",
      "b = \"More Hello world\"\n",
      "c = '''Max Hello world'''\n",
      "print(a)\n",
      "print(b)\n",
      "print(c)"
     ],
     "language": "python",
     "metadata": {},
     "outputs": []
    },
    {
     "cell_type": "markdown",
     "metadata": {},
     "source": [
      "Triple quotes are useful when creating strings spanning multiple lines."
     ]
    },
    {
     "cell_type": "code",
     "collapsed": false,
     "input": [
      "d = '''Text\n",
      "more text\n",
      "and some more'''\n",
      "print(d)"
     ],
     "language": "python",
     "metadata": {},
     "outputs": []
    },
    {
     "cell_type": "markdown",
     "metadata": {},
     "source": [
      "Strings are stored as indexed sequences of characters, starting with index 0."
     ]
    },
    {
     "cell_type": "code",
     "collapsed": false,
     "input": [
      "a = \"Hello World\"\n",
      "print(a[0])\n",
      "print(a[6])\n",
      "print(a[-1]) #negative index starts at the end"
     ],
     "language": "python",
     "metadata": {},
     "outputs": []
    },
    {
     "cell_type": "markdown",
     "metadata": {},
     "source": [
      "Substrings can be extracted with the slice operator"
     ]
    },
    {
     "cell_type": "code",
     "collapsed": false,
     "input": [
      "a = \"Hello world\"\n",
      "print(a[0:5])\n",
      "print(a[:5]) #omitting an index-point uses a default\n",
      "print(a[6:])"
     ],
     "language": "python",
     "metadata": {},
     "outputs": []
    },
    {
     "cell_type": "markdown",
     "metadata": {},
     "source": [
      "Concatenate (add) strings easily"
     ]
    },
    {
     "cell_type": "code",
     "collapsed": false,
     "input": [
      "a = \"Hello\"\n",
      "b = \"World\"\n",
      "print(a + \" \" + b)"
     ],
     "language": "python",
     "metadata": {},
     "outputs": []
    },
    {
     "cell_type": "markdown",
     "metadata": {},
     "source": [
      "Strings are strings, but can be converted to integers"
     ]
    },
    {
     "cell_type": "code",
     "collapsed": false,
     "input": [
      "a = '1'\n",
      "b = '2'\n",
      "print(a + b)\n",
      "print(int(a) + int(b))"
     ],
     "language": "python",
     "metadata": {},
     "outputs": []
    }
   ],
   "metadata": {}
  }
 ]
}