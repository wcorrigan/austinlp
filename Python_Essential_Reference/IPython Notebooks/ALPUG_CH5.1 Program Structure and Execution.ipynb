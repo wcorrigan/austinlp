{
 "metadata": {
  "name": ""
 },
 "nbformat": 3,
 "nbformat_minor": 0,
 "worksheets": [
  {
   "cells": [
    {
     "cell_type": "code",
     "collapsed": false,
     "input": [
      "# Program Structure and Execution\n",
      "debug = False\n",
      "if debug:\n",
      "    def square(x):\n",
      "        if not isinstance(x,float):\n",
      "            raise TypeError(\"Expected a float\")\n",
      "        return x * x\n",
      "else:\n",
      "    def square(x):\n",
      "        return x * x\n",
      "x = 6\n",
      "square(x)"
     ],
     "language": "python",
     "metadata": {},
     "outputs": []
    },
    {
     "cell_type": "code",
     "collapsed": false,
     "input": [],
     "language": "python",
     "metadata": {},
     "outputs": []
    }
   ],
   "metadata": {}
  }
 ]
}