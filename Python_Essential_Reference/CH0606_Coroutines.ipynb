{
 "metadata": {
  "name": ""
 },
 "nbformat": 3,
 "nbformat_minor": 0,
 "worksheets": [
  {
   "cells": [
    {
     "cell_type": "code",
     "collapsed": false,
     "input": [
      "# Coroutines are functions.\n",
      "# Coroutines are functions which assign a value\n",
      "#     by using the YIELD statement\n",
      "def receiver():\n",
      "    print \"Ready...\"\n",
      "    while True:\n",
      "        x = (yield)\n",
      "        print(\"Received... %s\" % x)"
     ],
     "language": "python",
     "metadata": {},
     "outputs": [],
     "prompt_number": 17
    },
    {
     "cell_type": "code",
     "collapsed": false,
     "input": [
      "# try it out\n",
      "r = receiver()\n",
      "r.next()\n",
      "r.send(1)\n",
      "r.send(2)"
     ],
     "language": "python",
     "metadata": {},
     "outputs": [
      {
       "output_type": "stream",
       "stream": "stdout",
       "text": [
        "Ready...\n",
        "Received... 1\n",
        "Received... 2\n"
       ]
      }
     ],
     "prompt_number": 18
    },
    {
     "cell_type": "code",
     "collapsed": false,
     "input": [
      "# forgetting NEXT() happens...\n",
      "# let's create a coroutine DECORATOR\n",
      "def initCoroutine(func):\n",
      "    def start(*args, **kwargs):\n",
      "        coroutine = func(*args, **kwargs)\n",
      "        coroutine.next()\n",
      "        return coroutine\n",
      "    return start\n",
      "\n",
      "@initCoroutine\n",
      "def receiver2():\n",
      "    print \"Ready...\"\n",
      "    while True:\n",
      "        x = (yield)\n",
      "        print(\"Received... %s\" % x)"
     ],
     "language": "python",
     "metadata": {},
     "outputs": [],
     "prompt_number": 19
    },
    {
     "cell_type": "code",
     "collapsed": false,
     "input": [
      "# try it out\n",
      "r2 = receiver2()\n",
      "r2.send(1)\n",
      "r2.send(2)"
     ],
     "language": "python",
     "metadata": {},
     "outputs": [
      {
       "output_type": "stream",
       "stream": "stdout",
       "text": [
        "Ready...\n",
        "Received... 1\n",
        "Received... 2\n"
       ]
      }
     ],
     "prompt_number": 20
    },
    {
     "cell_type": "code",
     "collapsed": false,
     "input": [],
     "language": "python",
     "metadata": {},
     "outputs": []
    }
   ],
   "metadata": {}
  }
 ]
}