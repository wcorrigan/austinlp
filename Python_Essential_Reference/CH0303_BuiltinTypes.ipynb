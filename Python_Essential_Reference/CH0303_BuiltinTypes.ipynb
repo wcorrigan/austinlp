{
 "metadata": {
  "name": "",
  "signature": "sha256:f7b3510a2177af64ab760564bf24f082726d8565376aa23d4c587bb615245641"
 },
 "nbformat": 3,
 "nbformat_minor": 0,
 "worksheets": [
  {
   "cells": [
    {
     "cell_type": "heading",
     "level": 3,
     "metadata": {},
     "source": [
      "Built-in Types"
     ]
    },
    {
     "cell_type": "heading",
     "level": 4,
     "metadata": {},
     "source": [
      "The NONE Type"
     ]
    },
    {
     "cell_type": "markdown",
     "metadata": {},
     "source": [
      "1) The *None* type denotes a NULL object\n",
      "\n",
      "2) *None* has no attributes and evaluates to False in Boolean expressions"
     ]
    },
    {
     "cell_type": "heading",
     "level": 4,
     "metadata": {},
     "source": [
      "Numeric Types"
     ]
    },
    {
     "cell_type": "markdown",
     "metadata": {},
     "source": [
      "Python uses 5 numeric types: \n",
      "* Booleans\n",
      "* Integers\n",
      "* Long Integers\n",
      "* Floating-Point Numbers\n",
      "* Complex Numbers"
     ]
    },
    {
     "cell_type": "heading",
     "level": 4,
     "metadata": {},
     "source": [
      "Sequence Types"
     ]
    },
    {
     "cell_type": "markdown",
     "metadata": {},
     "source": [
      "Sequences represent *ordered* sets of objects indexed by non-negative integers\n",
      "* Strings\n",
      "* Lists\n",
      "* Tuples"
     ]
    },
    {
     "cell_type": "markdown",
     "metadata": {},
     "source": [
      "All sequences support iteration"
     ]
    },
    {
     "cell_type": "heading",
     "level": 4,
     "metadata": {},
     "source": [
      "Mapping Types"
     ]
    },
    {
     "cell_type": "markdown",
     "metadata": {},
     "source": [
      "A Mapping object represents an *unordered* abritrary collection of Objects indexed by key-values\n",
      "* Dictionaries"
     ]
    },
    {
     "cell_type": "heading",
     "level": 4,
     "metadata": {},
     "source": [
      "Set Types"
     ]
    },
    {
     "cell_type": "markdown",
     "metadata": {},
     "source": [
      "A Set is an *unordered*, *unindexed* collection of unique items"
     ]
    }
   ],
   "metadata": {}
  }
 ]
}