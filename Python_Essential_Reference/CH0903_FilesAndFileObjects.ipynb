{
 "metadata": {
  "name": ""
 },
 "nbformat": 3,
 "nbformat_minor": 0,
 "worksheets": [
  {
   "cells": [
    {
     "cell_type": "code",
     "collapsed": false,
     "input": [
      "# Function: open() opens and creates a file object\n",
      "\n",
      "# Open a file \"foo\" for reading\n",
      "f = open(\"foo\")\n",
      "# Explicitly open for reading\n",
      "f = open(\"foo\", 'r')\n",
      "# Open for writing\n",
      "f = open(\"foo\", 'w')\n",
      "# Open in append mode\n",
      "f = open(\"foo\", 'a')\n"
     ],
     "language": "python",
     "metadata": {},
     "outputs": [],
     "prompt_number": 1
    },
    {
     "cell_type": "code",
     "collapsed": false,
     "input": [
      "# Additional \"modes\"\n",
      "\n",
      "# text mode (default): performs newline translation of '\\n'\n",
      "#   on windows returns \"\\r\\n\", writes back \"\\n\"\n",
      "# 'rt' = read, text file\n",
      "# 'wt' = write, text file\n",
      "\n",
      "# binary mode: disables newline translation\n",
      "# 'rb' = read, binary file\n",
      "\n",
      "# universal: parses newline chars as '\\n'\n",
      "# 'U' or 'rU' = read file and accept various new-line formats"
     ],
     "language": "python",
     "metadata": {},
     "outputs": [],
     "prompt_number": 2
    },
    {
     "cell_type": "code",
     "collapsed": false,
     "input": [
      "# Python 2 and 3 options with function open() differ\n",
      "# Python 3 offers four(4) additional options\n",
      "#   encoding, newline, errors, closefd"
     ],
     "language": "python",
     "metadata": {},
     "outputs": [],
     "prompt_number": 3
    },
    {
     "cell_type": "code",
     "collapsed": false,
     "input": [
      "# File Method/Attribute subset\n",
      "\n",
      "# returns the entire file as a string\n",
      "f.read()\n",
      "# returns the next line, including the newline\n",
      "f.readline()\n",
      "# returns a list of all lines\n",
      "f.readlines()\n",
      "# writes a string to the file\n",
      "f.write()\n",
      "# writes a list of string to the file\n",
      "f.writelines()\n",
      "# closes the file\n",
      "f.close()\n",
      "# returns the next line or raises StopIteration\n",
      "f.next()\n",
      "\n",
      "# returns whether a file is closed\n",
      "f.closed\n",
      "# returns the file encoding\n",
      "f.encoding"
     ],
     "language": "python",
     "metadata": {},
     "outputs": []
    },
    {
     "cell_type": "code",
     "collapsed": false,
     "input": [
      "# Detect an End of File (EOF) condition\n",
      "\n",
      "while True:\n",
      "    line = f.readline()\n",
      "    # if not at EOF\n",
      "    if not line:\n",
      "        break"
     ],
     "language": "python",
     "metadata": {},
     "outputs": []
    },
    {
     "cell_type": "code",
     "collapsed": false,
     "input": [
      "# Read all lines in a file\n",
      "\n",
      "for line in f:\n",
      "    # do x...\n",
      "    print(line)"
     ],
     "language": "python",
     "metadata": {},
     "outputs": []
    }
   ],
   "metadata": {}
  }
 ]
}