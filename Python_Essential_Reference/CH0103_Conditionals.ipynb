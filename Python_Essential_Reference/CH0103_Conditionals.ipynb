{
 "metadata": {
  "name": ""
 },
 "nbformat": 3,
 "nbformat_minor": 0,
 "worksheets": [
  {
   "cells": [
    {
     "cell_type": "heading",
     "level": 3,
     "metadata": {},
     "source": [
      "Conditionals"
     ]
    },
    {
     "cell_type": "heading",
     "level": 4,
     "metadata": {},
     "source": [
      "'if' and 'else' statements"
     ]
    },
    {
     "cell_type": "code",
     "collapsed": false,
     "input": [
      "a = 1\n",
      "b = 2\n",
      "if a < b:\n",
      "    print(\"a is less than b\")\n",
      "else:\n",
      "    print(\"a is not less than b\")"
     ],
     "language": "python",
     "metadata": {},
     "outputs": [
      {
       "output_type": "stream",
       "stream": "stdout",
       "text": [
        "a is less than b\n"
       ]
      }
     ],
     "prompt_number": 1
    },
    {
     "cell_type": "markdown",
     "metadata": {},
     "source": [
      "Denote blocks of 'if' and 'else' clauses with indentation.\n",
      "The 'else' clause is optional."
     ]
    },
    {
     "cell_type": "code",
     "collapsed": false,
     "input": [
      "if a < b:\n",
      "    pass\n",
      "else:\n",
      "    print(\"a is not less than b\")"
     ],
     "language": "python",
     "metadata": {},
     "outputs": []
    },
    {
     "cell_type": "heading",
     "level": 4,
     "metadata": {},
     "source": [
      "'elif' statement"
     ]
    },
    {
     "cell_type": "code",
     "collapsed": false,
     "input": [
      "if suffix == '.htm':\n",
      "    content = 'text/html'\n",
      "elif suffix == '.jpg':\n",
      "    content = 'image/jpeg'\n",
      "elif suffix == '.png':\n",
      "    content = 'image/png'\n",
      "else:\n",
      "    raise RuntimeError(\"Unknown content type\")"
     ],
     "language": "python",
     "metadata": {},
     "outputs": []
    },
    {
     "cell_type": "heading",
     "level": 4,
     "metadata": {},
     "source": [
      "True and False"
     ]
    },
    {
     "cell_type": "code",
     "collapsed": false,
     "input": [
      "if 'spam' in s:\n",
      "    has_spam = True\n",
      "else:\n",
      "    has_spam = False"
     ],
     "language": "python",
     "metadata": {},
     "outputs": []
    },
    {
     "cell_type": "code",
     "collapsed": false,
     "input": [
      "has_spam = 'spam' in s"
     ],
     "language": "python",
     "metadata": {},
     "outputs": []
    }
   ],
   "metadata": {}
  }
 ]
}