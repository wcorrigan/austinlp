{
 "metadata": {
  "name": ""
 },
 "nbformat": 3,
 "nbformat_minor": 0,
 "worksheets": [
  {
   "cells": [
    {
     "cell_type": "code",
     "collapsed": false,
     "input": [
      "# Interpreter Options and Environment\n",
      "python [options] [-c cmd | filename | - ] [args]"
     ],
     "language": "python",
     "metadata": {},
     "outputs": []
    },
    {
     "cell_type": "code",
     "collapsed": false,
     "input": [
      "# Command-line Arguments\n",
      "-h          Displays a list of all available command-line options\n",
      "-i          Enters Interactive mode after program executes\n",
      "-m <module> Runs a library module <module> as a script\n",
      "-v          Verbose mode\n",
      "-c <cmd>    Executes <cmd> as a string"
     ],
     "language": "python",
     "metadata": {},
     "outputs": []
    },
    {
     "cell_type": "code",
     "collapsed": false,
     "input": [
      "# Example (try this)\n",
      "python -c \"print('Hello world')\""
     ],
     "language": "python",
     "metadata": {},
     "outputs": []
    },
    {
     "cell_type": "code",
     "collapsed": false,
     "input": [
      "# Interactive Sessions\n",
      ">>>         Designates the beginning of a new statement\n",
      "...         Designates a statement continuation"
     ],
     "language": "python",
     "metadata": {},
     "outputs": []
    },
    {
     "cell_type": "code",
     "collapsed": false,
     "input": [
      "# Example (try this)\n",
      "# First, initialize an interative interpreter\n",
      "for x in range(0,4):\n",
      "    print x,"
     ],
     "language": "python",
     "metadata": {},
     "outputs": [
      {
       "output_type": "stream",
       "stream": "stdout",
       "text": [
        "0 1 2 3\n"
       ]
      }
     ],
     "prompt_number": 2
    },
    {
     "cell_type": "code",
     "collapsed": false,
     "input": [
      "# Special variable \"_\" (try this)\n",
      "7 + 3\n",
      "_ + 2"
     ],
     "language": "python",
     "metadata": {},
     "outputs": []
    },
    {
     "cell_type": "code",
     "collapsed": false,
     "input": [
      "# Launching Python Applications\n",
      "# start with a line detailing where python lives\n",
      "\n",
      "#!/usr/bin/env python\n",
      "print \"Hello world\""
     ],
     "language": "python",
     "metadata": {},
     "outputs": []
    },
    {
     "cell_type": "code",
     "collapsed": false,
     "input": [
      "# Enabling Future Features\n",
      "# No feature name is ever deleted from __future__\n",
      "from future import <feature>"
     ],
     "language": "python",
     "metadata": {},
     "outputs": []
    },
    {
     "cell_type": "code",
     "collapsed": false,
     "input": [
      "# Example (try this)\n",
      "#from __future__ import braces\n",
      "print(\"foo\")\n",
      "print \"foo\""
     ],
     "language": "python",
     "metadata": {},
     "outputs": [
      {
       "output_type": "stream",
       "stream": "stdout",
       "text": [
        "foo\n",
        "foo\n"
       ]
      }
     ],
     "prompt_number": 4
    },
    {
     "cell_type": "code",
     "collapsed": false,
     "input": [],
     "language": "python",
     "metadata": {},
     "outputs": []
    }
   ],
   "metadata": {}
  }
 ]
}