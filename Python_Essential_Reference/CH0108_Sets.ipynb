{
 "metadata": {
  "name": ""
 },
 "nbformat": 3,
 "nbformat_minor": 0,
 "worksheets": [
  {
   "cells": [
    {
     "cell_type": "heading",
     "level": 3,
     "metadata": {},
     "source": [
      "Sets"
     ]
    },
    {
     "cell_type": "markdown",
     "metadata": {},
     "source": [
      "Sets are unordered (vs ordered with a list) collections of objects and are declared with the set() function."
     ]
    },
    {
     "cell_type": "code",
     "collapsed": false,
     "input": [
      "foo = set([1,2,3,4,5,])\n",
      "print(foo)"
     ],
     "language": "python",
     "metadata": {},
     "outputs": []
    },
    {
     "cell_type": "markdown",
     "metadata": {},
     "source": [
      "Sets do not duplicate values"
     ]
    },
    {
     "cell_type": "code",
     "collapsed": false,
     "input": [
      "bar = set(\"Hello world\")\n",
      "print(bar)"
     ],
     "language": "python",
     "metadata": {},
     "outputs": []
    },
    {
     "cell_type": "markdown",
     "metadata": {},
     "source": [
      "Adjusting sets is easy"
     ]
    },
    {
     "cell_type": "code",
     "collapsed": false,
     "input": [
      "bar.add('ATX') #add a single item\n",
      "print(bar)"
     ],
     "language": "python",
     "metadata": {},
     "outputs": []
    },
    {
     "cell_type": "code",
     "collapsed": false,
     "input": [
      "baz.update([11,13]) #add multiple items\n",
      "print(baz)"
     ],
     "language": "python",
     "metadata": {},
     "outputs": []
    },
    {
     "cell_type": "code",
     "collapsed": false,
     "input": [
      "bar.remove(' ')\n",
      "print(bar)"
     ],
     "language": "python",
     "metadata": {},
     "outputs": []
    },
    {
     "cell_type": "markdown",
     "metadata": {},
     "source": [
      "Sets support several operations, including: union, intersection, difference, and symmetric difference."
     ]
    },
    {
     "cell_type": "code",
     "collapsed": false,
     "input": [
      "baz = set([1,2,3,5,7])\n",
      "print foo | baz # union"
     ],
     "language": "python",
     "metadata": {},
     "outputs": []
    },
    {
     "cell_type": "code",
     "collapsed": false,
     "input": [
      "print foo & baz # intersection"
     ],
     "language": "python",
     "metadata": {},
     "outputs": []
    },
    {
     "cell_type": "code",
     "collapsed": false,
     "input": [
      "print foo - baz # set diff: in foo but not in baz"
     ],
     "language": "python",
     "metadata": {},
     "outputs": []
    },
    {
     "cell_type": "code",
     "collapsed": false,
     "input": [
      "print foo ^ baz # symmetric diff: in foo or baz, not both"
     ],
     "language": "python",
     "metadata": {},
     "outputs": []
    }
   ],
   "metadata": {}
  }
 ]
}