{
 "metadata": {
  "name": ""
 },
 "nbformat": 3,
 "nbformat_minor": 0,
 "worksheets": [
  {
   "cells": [
    {
     "cell_type": "code",
     "collapsed": false,
     "input": [
      "# Python Module: sys\n",
      "# Three (3) different file objects exist\n",
      "\n",
      "# input characters stream\n",
      "sys.stdin\n",
      "# output stream produced via \"print()\"\n",
      "sys.stdout\n",
      "# receives error messages\n",
      "sys.stderr"
     ],
     "language": "python",
     "metadata": {},
     "outputs": []
    },
    {
     "cell_type": "code",
     "collapsed": false,
     "input": [
      "# One method of obtaining user input\n",
      "# includes raw string, including newline\n",
      "\n",
      "import sys\n",
      "sys.stdout.write(\"Enter your name: \")\n",
      "name = sys.stdin.readline()"
     ],
     "language": "python",
     "metadata": {},
     "outputs": []
    },
    {
     "cell_type": "code",
     "collapsed": false,
     "input": [
      "# Built-in function: raw_input()\n",
      "# Does not include newlines\n",
      "\n",
      "name = raw_input(\"Enter your name: \")"
     ],
     "language": "python",
     "metadata": {},
     "outputs": []
    }
   ],
   "metadata": {}
  }
 ]
}