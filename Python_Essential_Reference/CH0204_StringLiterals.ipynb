{
 "metadata": {
  "name": ""
 },
 "nbformat": 3,
 "nbformat_minor": 0,
 "worksheets": [
  {
   "cells": [
    {
     "cell_type": "heading",
     "level": 3,
     "metadata": {},
     "source": [
      "String Literals"
     ]
    },
    {
     "cell_type": "markdown",
     "metadata": {},
     "source": [
      "String literals are used to specify a sequence of characters and are defined by enclosing text in single, double, or triple quotes."
     ]
    },
    {
     "cell_type": "code",
     "collapsed": false,
     "input": [
      "print('Hello World 1')\n",
      "print(\"Hello World 2\")\n",
      "print('''Hello World 3''')"
     ],
     "language": "python",
     "metadata": {},
     "outputs": []
    },
    {
     "cell_type": "markdown",
     "metadata": {},
     "source": [
      "The quote type used must match at start and end."
     ]
    },
    {
     "cell_type": "code",
     "collapsed": false,
     "input": [
      "print(\"Hello World')"
     ],
     "language": "python",
     "metadata": {},
     "outputs": []
    },
    {
     "cell_type": "markdown",
     "metadata": {},
     "source": [
      "Single and double quoted must be defined on a single line."
     ]
    },
    {
     "cell_type": "code",
     "collapsed": false,
     "input": [
      "print('Hello\n",
      "      World)"
     ],
     "language": "python",
     "metadata": {},
     "outputs": []
    },
    {
     "cell_type": "markdown",
     "metadata": {},
     "source": [
      "Triple can span multiple lines, and include all formatting between the start and end."
     ]
    },
    {
     "cell_type": "code",
     "collapsed": false,
     "input": [
      "print('''Hello \n",
      "World \n",
      "3''')"
     ],
     "language": "python",
     "metadata": {},
     "outputs": []
    },
    {
     "cell_type": "markdown",
     "metadata": {},
     "source": [
      "Adjacent strings are concatenated to form a single string."
     ]
    },
    {
     "cell_type": "code",
     "collapsed": false,
     "input": [
      "print('Hello' \" \" '''World''')"
     ],
     "language": "python",
     "metadata": {},
     "outputs": []
    },
    {
     "cell_type": "markdown",
     "metadata": {},
     "source": [
      "The backslash character is used to escape special characters.\n",
      "Examples include: newlines, backslashes, and quotes."
     ]
    },
    {
     "cell_type": "code",
     "collapsed": false,
     "input": [
      "print(\"Hello \\\n",
      "World\")\n",
      "print(\"Hello \\\\World\")"
     ],
     "language": "python",
     "metadata": {},
     "outputs": []
    }
   ],
   "metadata": {}
  }
 ]
}