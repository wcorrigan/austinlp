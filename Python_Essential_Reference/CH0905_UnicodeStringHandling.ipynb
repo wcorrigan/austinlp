{
 "metadata": {
  "name": ""
 },
 "nbformat": 3,
 "nbformat_minor": 0,
 "worksheets": [
  {
   "cells": [
    {
     "cell_type": "code",
     "collapsed": false,
     "input": [
      "# Decoding: works with a string of raw bytes\n",
      "#   containing an encoded representation of\n",
      "#   a Unicode string (International characters)\n",
      "\n",
      "# Convert to a Unicode string\n",
      "s.decode([encoding [,errors]])"
     ],
     "language": "python",
     "metadata": {},
     "outputs": []
    },
    {
     "cell_type": "code",
     "collapsed": false,
     "input": [
      "# Encoding: works with a Unicode string\n",
      "\n",
      "# Convert to an encoded byte string\n",
      "u.encode([encoding [,errors]])"
     ],
     "language": "python",
     "metadata": {},
     "outputs": []
    },
    {
     "cell_type": "code",
     "collapsed": false,
     "input": [
      "# 'encoding' examples\n",
      "\n",
      "'ascii'  # 7 bit ASCII\n",
      "'utf-8'  # 8-bit variable length encoding\n",
      "'unicode-escape'  # Same format as u\"mystring\""
     ],
     "language": "python",
     "metadata": {},
     "outputs": []
    },
    {
     "cell_type": "code",
     "collapsed": false,
     "input": [
      "# 'errors' examples\n",
      "\n",
      "'strict'  # Raises a UnicodeError when appropriate\n",
      "'ignore'  # Ignores invalid characters\n",
      "'xmlcharrefreplace'  # Replaces invalid characters with an XML reference"
     ],
     "language": "python",
     "metadata": {},
     "outputs": []
    },
    {
     "cell_type": "code",
     "collapsed": false,
     "input": [
      "# Unicode I/O\n",
      "# External representation of files (vs strings) use\n",
      "#   many of the same rules as above\n",
      "# Module: codecs\n",
      "#   Contains a collection of functions for converting to and from Unicode\n",
      "\n",
      "import codecs\n",
      "# read\n",
      "f = codecs.open('foo.txt', 'r', 'utf-8', 'strict')\n",
      "#write\n",
      "w = codecs.open('bar.txt', 'w', 'utf-8')\n",
      "# wrap a file; requires being opened in Binary Mode\n",
      "f = open('foo.txt', 'rb')\n",
      "fenc = codecs.EncodedFile(f, 'utf-8', 'utf-8', 'ignore')"
     ],
     "language": "python",
     "metadata": {},
     "outputs": [],
     "prompt_number": 1
    }
   ],
   "metadata": {}
  }
 ]
}