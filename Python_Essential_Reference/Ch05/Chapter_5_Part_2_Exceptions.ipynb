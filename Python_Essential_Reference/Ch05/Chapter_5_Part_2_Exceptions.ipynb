{
 "metadata": {
  "name": "",
  "signature": "sha256:d61cd63ed61ffeb1d3952095c9fa5cbb0d046e731c5f79a68a3496f9fbf6549f"
 },
 "nbformat": 3,
 "nbformat_minor": 0,
 "worksheets": [
  {
   "cells": [
    {
     "cell_type": "raw",
     "metadata": {},
     "source": [
      "Exceptions represent errors.  When raised, they break out of the normal control flow.\n",
      "Unless caught by calling code, the exception will \"bubble up\" and terminate the Python interpreter."
     ]
    },
    {
     "cell_type": "heading",
     "level": 2,
     "metadata": {},
     "source": [
      "The raise Statement"
     ]
    },
    {
     "cell_type": "code",
     "collapsed": false,
     "input": [
      "raise RuntimeError(\"Sorry Dave, I'm afraid I can't do that\")"
     ],
     "language": "python",
     "metadata": {},
     "outputs": [
      {
       "ename": "RuntimeError",
       "evalue": "Sorry Dave, I'm afraid I can't do that",
       "output_type": "pyerr",
       "traceback": [
        "\u001b[0;31m---------------------------------------------------------------------------\u001b[0m\n\u001b[0;31mRuntimeError\u001b[0m                              Traceback (most recent call last)",
        "\u001b[0;32m<ipython-input-1-857237d88fc4>\u001b[0m in \u001b[0;36m<module>\u001b[0;34m()\u001b[0m\n\u001b[0;32m----> 1\u001b[0;31m \u001b[0;32mraise\u001b[0m \u001b[0mRuntimeError\u001b[0m\u001b[0;34m(\u001b[0m\u001b[0;34m\"Sorry Dave, I'm afraid I can't do that\"\u001b[0m\u001b[0;34m)\u001b[0m\u001b[0;34m\u001b[0m\u001b[0m\n\u001b[0m",
        "\u001b[0;31mRuntimeError\u001b[0m: Sorry Dave, I'm afraid I can't do that"
       ]
      }
     ],
     "prompt_number": 1
    },
    {
     "cell_type": "heading",
     "level": 2,
     "metadata": {},
     "source": [
      "Catching exceptions with try/except"
     ]
    },
    {
     "cell_type": "code",
     "collapsed": false,
     "input": [
      "int('foo')"
     ],
     "language": "python",
     "metadata": {},
     "outputs": []
    },
    {
     "cell_type": "code",
     "collapsed": false,
     "input": [
      "try:\n",
      "    print int('foo')\n",
      "except ValueError:\n",
      "    print 'Could not convert to int'"
     ],
     "language": "python",
     "metadata": {},
     "outputs": []
    },
    {
     "cell_type": "code",
     "collapsed": false,
     "input": [
      "try:\n",
      "    print int(None)\n",
      "except ValueError:\n",
      "    print 'Could not convert to int'"
     ],
     "language": "python",
     "metadata": {},
     "outputs": []
    },
    {
     "cell_type": "code",
     "collapsed": false,
     "input": [
      "try:\n",
      "    print int(None)\n",
      "except ValueError:\n",
      "    print 'Could not convert to int'\n",
      "except TypeError:\n",
      "    print 'Could not convert to int'"
     ],
     "language": "python",
     "metadata": {},
     "outputs": []
    },
    {
     "cell_type": "code",
     "collapsed": false,
     "input": [
      "try:\n",
      "    print int(None)\n",
      "except (ValueError, TypeError):\n",
      "    print 'Could not convert to int'"
     ],
     "language": "python",
     "metadata": {},
     "outputs": []
    },
    {
     "cell_type": "heading",
     "level": 2,
     "metadata": {},
     "source": [
      "Catching everything"
     ]
    },
    {
     "cell_type": "code",
     "collapsed": false,
     "input": [
      "# Try really hard not to do this, you have been warned!!!\n",
      "# This will catch things you don't want to catch, e.g. keyboard interrupt, program exit\n",
      "try:\n",
      "    int('foo')\n",
      "except:\n",
      "    print 'Could not convert to int'"
     ],
     "language": "python",
     "metadata": {},
     "outputs": []
    },
    {
     "cell_type": "code",
     "collapsed": false,
     "input": [
      "# Catch everything except program exit exceptions.  Not much better!!!\n",
      "try:\n",
      "    int('foo')\n",
      "except Exception:  # Most exceptions inherit from this Exception class.\n",
      "    print 'Could not convert to int'"
     ],
     "language": "python",
     "metadata": {},
     "outputs": []
    },
    {
     "cell_type": "heading",
     "level": 2,
     "metadata": {},
     "source": [
      "Cleaning up with try/finally or try/except/finally"
     ]
    },
    {
     "cell_type": "code",
     "collapsed": false,
     "input": [
      "f = None\n",
      "try:\n",
      "    f = open('myfile')\n",
      "    print f.read()\n",
      "finally:\n",
      "    if f:  # Don't close unless opened.\n",
      "        f.close()"
     ],
     "language": "python",
     "metadata": {},
     "outputs": []
    },
    {
     "cell_type": "code",
     "collapsed": false,
     "input": [
      "f = None\n",
      "try:\n",
      "    f = open('myfile')\n",
      "    print f.read()\n",
      "except IOError:\n",
      "    print 'error opening or reading file'\n",
      "finally:\n",
      "    if f:  # Don't close unless opened.\n",
      "        f.close()"
     ],
     "language": "python",
     "metadata": {},
     "outputs": []
    },
    {
     "cell_type": "heading",
     "level": 2,
     "metadata": {},
     "source": [
      "Defining your own exceptions"
     ]
    },
    {
     "cell_type": "code",
     "collapsed": false,
     "input": [
      "class HALError(Exception): pass"
     ],
     "language": "python",
     "metadata": {},
     "outputs": []
    },
    {
     "cell_type": "code",
     "collapsed": false,
     "input": [
      "raise HALError(\"Sorry Dave, I'm afraid I can't do that\")"
     ],
     "language": "python",
     "metadata": {},
     "outputs": []
    },
    {
     "cell_type": "code",
     "collapsed": false,
     "input": [
      "class HAL9000Error(Exception):\n",
      "    def __init__(self, msg):\n",
      "        msg = \"Sorry Dave, \" + msg\n",
      "        self.args = (msg,)\n",
      "        self.errmsg = msg"
     ],
     "language": "python",
     "metadata": {},
     "outputs": []
    },
    {
     "cell_type": "code",
     "collapsed": false,
     "input": [
      "raise HAL9000Error(\"I'm afraid I can't do that\")"
     ],
     "language": "python",
     "metadata": {},
     "outputs": []
    },
    {
     "cell_type": "heading",
     "level": 2,
     "metadata": {},
     "source": [
      "Context Managers and the with Statement"
     ]
    },
    {
     "cell_type": "raw",
     "metadata": {},
     "source": [
      "In some circumstances, it's important to perform \"clean up\" actions, as we saw with the try/finally above.\n",
      "\n",
      "Context Managers are designed to make these situations less cumbersome to use.\n",
      "Technically, they are any object that defines an __enter__() and __exit__() method.\n",
      "Python has provided a few convenient context managers..."
     ]
    },
    {
     "cell_type": "code",
     "collapsed": false,
     "input": [
      "with open('myfile') as f:\n",
      "    print f.read()"
     ],
     "language": "python",
     "metadata": {},
     "outputs": []
    },
    {
     "cell_type": "code",
     "collapsed": false,
     "input": [
      "import threading\n",
      "with threading.Lock():\n",
      "    # Critical section\n",
      "    print 'Hello World'"
     ],
     "language": "python",
     "metadata": {},
     "outputs": []
    },
    {
     "cell_type": "raw",
     "metadata": {},
     "source": [
      "The context manager object can do anything it needs within it's __enter__() and __exit__() methods.\n",
      "Exceptions aren't caught unless the are explictly caught within the context manager.  For example..."
     ]
    },
    {
     "cell_type": "code",
     "collapsed": false,
     "input": [
      "import threading\n",
      "with threading.Lock():\n",
      "    raise ValueError(\"invalid value\")"
     ],
     "language": "python",
     "metadata": {},
     "outputs": []
    },
    {
     "cell_type": "code",
     "collapsed": false,
     "input": [],
     "language": "python",
     "metadata": {},
     "outputs": [],
     "prompt_number": 1
    },
    {
     "cell_type": "code",
     "collapsed": false,
     "input": [],
     "language": "python",
     "metadata": {},
     "outputs": []
    }
   ],
   "metadata": {}
  }
 ]
}