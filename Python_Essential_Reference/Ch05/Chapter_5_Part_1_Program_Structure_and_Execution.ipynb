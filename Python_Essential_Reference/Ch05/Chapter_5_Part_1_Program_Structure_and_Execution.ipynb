{
 "metadata": {
  "name": "Chapter 5 - Part 1 - Program Structure and Execution"
 },
 "nbformat": 3,
 "nbformat_minor": 0,
 "worksheets": [
  {
   "cells": [
    {
     "cell_type": "heading",
     "level": 2,
     "metadata": {},
     "source": [
      "Conditional Execution (if statements)"
     ]
    },
    {
     "cell_type": "raw",
     "metadata": {},
     "source": [
      "Basic form:\n",
      "\n",
      "if expression:\n",
      "    statements\n",
      "\n",
      "With optional elif and/or else expressions:\n",
      "\n",
      "if expression:\n",
      "    statements\n",
      "elif expression:\n",
      "    statements\n",
      "elif expression:\n",
      "    statements\n",
      "...\n",
      "else:\n",
      "    statements"
     ]
    },
    {
     "cell_type": "code",
     "collapsed": false,
     "input": [
      "if True:\n",
      "    print 'Yep, it\\'s true'"
     ],
     "language": "python",
     "metadata": {},
     "outputs": []
    },
    {
     "cell_type": "code",
     "collapsed": false,
     "input": [
      "if True:\n",
      "    print 'It is true'\n",
      "else:\n",
      "    print 'It is false'"
     ],
     "language": "python",
     "metadata": {},
     "outputs": []
    },
    {
     "cell_type": "code",
     "collapsed": false,
     "input": [
      "# Note: Python 3 does not allow comparison of \"unorderable\" types (e.g. None).\n",
      "# Python 2 allows it, but you will get garbage out.\n",
      "\n",
      "x = None\n",
      "if x == 0:\n",
      "    print 'is zero'\n",
      "elif x < 0:\n",
      "    print 'is negative'\n",
      "elif x > 0:\n",
      "    print 'is positive'\n",
      "else:\n",
      "    print 'what are you trying to do here?'"
     ],
     "language": "python",
     "metadata": {},
     "outputs": []
    },
    {
     "cell_type": "heading",
     "level": 2,
     "metadata": {},
     "source": [
      "Loops and Iteration"
     ]
    },
    {
     "cell_type": "heading",
     "level": 3,
     "metadata": {},
     "source": [
      "For Loops"
     ]
    },
    {
     "cell_type": "raw",
     "metadata": {},
     "source": [
      "Basic form:\n",
      "\n",
      "for x in y:\n",
      "    statements\n",
      "\n",
      "In the above, y is any iterable and x will be a reference to the current item in the iteration.\n",
      "\n",
      "    \n",
      "An optional else clause will execute after loop is exhausted:\n",
      "\n",
      "for x in y:\n",
      "    statements\n",
      "else:\n",
      "    statements\n",
      "    \n",
      "Inside the for block, you can use the keywords:\n",
      "    break - Terminates execution of the loop.\n",
      "    continue - Skips to the next item in the sequence"
     ]
    },
    {
     "cell_type": "code",
     "collapsed": false,
     "input": [
      "for x in range(3):\n",
      "    print x"
     ],
     "language": "python",
     "metadata": {},
     "outputs": []
    },
    {
     "cell_type": "raw",
     "metadata": {},
     "source": [
      "The built-in function zip() will zip together two iterables of the same length, given you back a list of tuples..."
     ]
    },
    {
     "cell_type": "code",
     "collapsed": false,
     "input": [
      "l1 = [1,2,3]\n",
      "l2 = ['one', 'two', 'three']\n",
      "l3 = [1.0, 2.0, 3.0]\n",
      "zip(l1, l2, l3)"
     ],
     "language": "python",
     "metadata": {},
     "outputs": []
    },
    {
     "cell_type": "raw",
     "metadata": {},
     "source": [
      "You can unpack variables in for loop..."
     ]
    },
    {
     "cell_type": "code",
     "collapsed": false,
     "input": [
      "for x, y, z in zip(l1, l2, l3):\n",
      "    print x, y, z"
     ],
     "language": "python",
     "metadata": {},
     "outputs": []
    },
    {
     "cell_type": "raw",
     "metadata": {},
     "source": [
      "If you need a reference to the index of the loop's iteration, use the built-in enumerate() function..."
     ]
    },
    {
     "cell_type": "code",
     "collapsed": false,
     "input": [
      "for i, item in enumerate('abc'):\n",
      "    print 'Item {} is: {}'.format(i, item)"
     ],
     "language": "python",
     "metadata": {},
     "outputs": []
    },
    {
     "cell_type": "raw",
     "metadata": {},
     "source": [
      "You'll rarely see use of an else block on a for loop, but one use case is when trying to perform a check on some sequence."
     ]
    },
    {
     "cell_type": "code",
     "collapsed": false,
     "input": [
      "# For loop without else.\n",
      "found_sep = False\n",
      "for line in lines:\n",
      "    line = line.strip()\n",
      "    if not line:  # Blank line.\n",
      "        found_sep = True\n",
      "        break\n",
      "    print line\n",
      "if not found_sep:\n",
      "    raise RuntimeError(\"Missing blank line separator\")"
     ],
     "language": "python",
     "metadata": {},
     "outputs": []
    },
    {
     "cell_type": "code",
     "collapsed": false,
     "input": [
      "# Same as above, but using for/else.\n",
      "for line in lines:\n",
      "    line = line.strip()\n",
      "    if not line:  # Blank line.\n",
      "        break\n",
      "    print line\n",
      "else:\n",
      "    raise RuntimeError(\"Missing blank line separator\")"
     ],
     "language": "python",
     "metadata": {},
     "outputs": []
    },
    {
     "cell_type": "heading",
     "level": 3,
     "metadata": {},
     "source": [
      "While Loops"
     ]
    },
    {
     "cell_type": "code",
     "collapsed": false,
     "input": [
      "# Sometimes you wan't to iterate forever, but not usually.\n",
      "#while True:\n",
      "#    pass"
     ],
     "language": "python",
     "metadata": {},
     "outputs": []
    },
    {
     "cell_type": "code",
     "collapsed": false,
     "input": [
      "x = 0\n",
      "while x < 10:\n",
      "    print 'x is:', x\n",
      "    x += 1"
     ],
     "language": "python",
     "metadata": {},
     "outputs": []
    },
    {
     "cell_type": "code",
     "collapsed": false,
     "input": [
      "d = {'a': 1, 'b': 2, 'c': 3}\n",
      "while d:\n",
      "    key, value = d.popitem()\n",
      "    print(\"key: {}\\tvalue: {}\".format(key, value))"
     ],
     "language": "python",
     "metadata": {},
     "outputs": []
    },
    {
     "cell_type": "code",
     "collapsed": false,
     "input": [
      "string = \" 1 \\n 2 \\n 3 \\n\" + \"\\n 4 \"\n",
      "lines = string.splitlines()"
     ],
     "language": "python",
     "metadata": {},
     "outputs": []
    },
    {
     "cell_type": "heading",
     "level": 2,
     "metadata": {},
     "source": [
      "Looping Exercise"
     ]
    },
    {
     "cell_type": "raw",
     "metadata": {},
     "source": [
      "1. Write a for loop that will print out each character of a string, terminating if it hits a space character.\n",
      "\n",
      "2. Write a while loop that behaves the same as #1.\n",
      "\n",
      "\n",
      "\n",
      "\n",
      "\n",
      "\n",
      "\n",
      "\n",
      "\n",
      "\n",
      "\n",
      "\n",
      "\n",
      "\n",
      "\n",
      "\n",
      "\n"
     ]
    },
    {
     "cell_type": "code",
     "collapsed": false,
     "input": [
      "s = 'one two'"
     ],
     "language": "python",
     "metadata": {},
     "outputs": []
    },
    {
     "cell_type": "code",
     "collapsed": false,
     "input": [
      "for char in s:\n",
      "    if char == ' ':\n",
      "        break\n",
      "    print char"
     ],
     "language": "python",
     "metadata": {},
     "outputs": []
    },
    {
     "cell_type": "code",
     "collapsed": false,
     "input": [
      "index = 0\n",
      "while index < len(s) and s[index] != ' ':\n",
      "    print s[index]\n",
      "    index += 1"
     ],
     "language": "python",
     "metadata": {},
     "outputs": []
    },
    {
     "cell_type": "code",
     "collapsed": false,
     "input": [],
     "language": "python",
     "metadata": {},
     "outputs": []
    }
   ],
   "metadata": {}
  }
 ]
}