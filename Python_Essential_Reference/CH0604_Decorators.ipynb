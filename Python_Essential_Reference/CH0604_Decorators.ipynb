{
 "metadata": {
  "name": ""
 },
 "nbformat": 3,
 "nbformat_minor": 0,
 "worksheets": [
  {
   "cells": [
    {
     "cell_type": "code",
     "collapsed": false,
     "input": [
      "# Decorators are functions called using special syntax: @\n",
      "# Decorators wrap another function or class,\n",
      "#     with the intent to alter functionality/behavior\n",
      "def myDecorator(func):\n",
      "    def callf(*args, **kwargs):\n",
      "        print \"logging...\"\n",
      "        r = func(*args, **kwargs)\n",
      "        print \"logging2...\"\n",
      "        return r\n",
      "    return callf\n",
      "def myFunc(text):\n",
      "    return text"
     ],
     "language": "python",
     "metadata": {},
     "outputs": []
    },
    {
     "cell_type": "code",
     "collapsed": false,
     "input": [
      "# try w/o a Decorator\n",
      "myFunc(\"whoa\")"
     ],
     "language": "python",
     "metadata": {},
     "outputs": []
    },
    {
     "cell_type": "code",
     "collapsed": false,
     "input": [
      "# add a Decorator\n",
      "@myDecorator\n",
      "def myFunc2(text):\n",
      "    return text"
     ],
     "language": "python",
     "metadata": {},
     "outputs": [],
     "prompt_number": 45
    },
    {
     "cell_type": "code",
     "collapsed": false,
     "input": [
      "# try it out\n",
      "myFunc2(\"whoa\")"
     ],
     "language": "python",
     "metadata": {},
     "outputs": [
      {
       "output_type": "stream",
       "stream": "stdout",
       "text": [
        "logging...\n",
        "logging2...\n"
       ]
      },
      {
       "metadata": {},
       "output_type": "pyout",
       "prompt_number": 46,
       "text": [
        "'whoa'"
       ]
      }
     ],
     "prompt_number": 46
    },
    {
     "cell_type": "code",
     "collapsed": false,
     "input": [
      "a =myFunc2(\"whoa\")"
     ],
     "language": "python",
     "metadata": {},
     "outputs": [
      {
       "output_type": "stream",
       "stream": "stdout",
       "text": [
        "logging...\n",
        "logging2...\n"
       ]
      }
     ],
     "prompt_number": 47
    },
    {
     "cell_type": "code",
     "collapsed": false,
     "input": [],
     "language": "python",
     "metadata": {},
     "outputs": []
    }
   ],
   "metadata": {}
  }
 ]
}