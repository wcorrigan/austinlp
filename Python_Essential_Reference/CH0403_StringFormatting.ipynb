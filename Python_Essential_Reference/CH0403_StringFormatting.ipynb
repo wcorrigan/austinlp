{
 "metadata": {
  "name": "Chapter 4 - Part 3 - String Formatting"
 },
 "nbformat": 3,
 "nbformat_minor": 0,
 "worksheets": [
  {
   "cells": [
    {
     "cell_type": "heading",
     "level": 1,
     "metadata": {},
     "source": [
      "String Formatting (old way)"
     ]
    },
    {
     "cell_type": "raw",
     "metadata": {},
     "source": [
      "format % value"
     ]
    },
    {
     "cell_type": "heading",
     "level": 2,
     "metadata": {},
     "source": [
      "Format spec"
     ]
    },
    {
     "cell_type": "raw",
     "metadata": {},
     "source": [
      "Syntax:\n",
      "%\n",
      "(optional) Followed by an key name in parens\n",
      "(optional) Followed by one or more of -, +, or 0 (left align, right align, zero fill)\n",
      "(optional) Followed by a number representing minimum field width (i.e. pad)\n",
      "(optional) Followed by a period\n",
      "(optional) Followed by a number representing precision\n",
      "Followed by a string format character\n",
      "\n",
      "Example string format characters:\n",
      "f - floating point value\n",
      "e - scientific notation\n",
      "x - hexadecimal\n",
      "s - string of any object, as returned by str()\n",
      "r - string representation of any object, as returned by repr()\n",
      "% - literal % character\n"
     ]
    },
    {
     "cell_type": "heading",
     "level": 2,
     "metadata": {},
     "source": [
      "Examples"
     ]
    },
    {
     "cell_type": "code",
     "collapsed": false,
     "input": [
      "\"%d\" % 42"
     ],
     "language": "python",
     "metadata": {},
     "outputs": []
    },
    {
     "cell_type": "code",
     "collapsed": false,
     "input": [
      "\"%5d\" % 42"
     ],
     "language": "python",
     "metadata": {},
     "outputs": []
    },
    {
     "cell_type": "code",
     "collapsed": false,
     "input": [
      "\"%05d\" % 42"
     ],
     "language": "python",
     "metadata": {},
     "outputs": []
    },
    {
     "cell_type": "code",
     "collapsed": false,
     "input": [
      "\"%-5d\" % 42"
     ],
     "language": "python",
     "metadata": {},
     "outputs": []
    },
    {
     "cell_type": "code",
     "collapsed": false,
     "input": [
      "\"%-5.2d\" % 42"
     ],
     "language": "python",
     "metadata": {},
     "outputs": []
    },
    {
     "cell_type": "code",
     "collapsed": false,
     "input": [
      "\"%5.2f\" % 42.123"
     ],
     "language": "python",
     "metadata": {},
     "outputs": []
    },
    {
     "cell_type": "code",
     "collapsed": false,
     "input": [
      "\"%015.5f\" % 42.123"
     ],
     "language": "python",
     "metadata": {},
     "outputs": []
    },
    {
     "cell_type": "code",
     "collapsed": false,
     "input": [
      "\"%015.5f\" % 42"
     ],
     "language": "python",
     "metadata": {},
     "outputs": []
    },
    {
     "cell_type": "code",
     "collapsed": false,
     "input": [
      "\"%(age)s\" % {'age': 42, 'height': 60}"
     ],
     "language": "python",
     "metadata": {},
     "outputs": []
    },
    {
     "cell_type": "code",
     "collapsed": false,
     "input": [
      "print \"age: %(age)d\\nheight: %(height)0.2f\" % {'age': 42, 'height': 60}"
     ],
     "language": "python",
     "metadata": {},
     "outputs": []
    },
    {
     "cell_type": "heading",
     "level": 1,
     "metadata": {},
     "source": [
      "String Formatting (new way)"
     ]
    },
    {
     "cell_type": "raw",
     "metadata": {},
     "source": [
      "Now use format() method on string objects instead of using modulo operator.\n",
      "But, the format spec is fairly similar.\n",
      "\n",
      "String format now takes the form:\n",
      "{[index]:format}\n",
      "\n",
      "Where format spec string takes the form:\n",
      "(Optional) fill character\n",
      "(Optional) alignment (< for left, > for right, ^ for center)\n",
      "(Optional) sign:\n",
      "    + for leading sign on all\n",
      "    - for leading sign only on negative (default)\n",
      "    ' ' (space) for sign on negative and leading space on positive\n",
      "(Optional) 0 for leading zero pad\n",
      "(Optional) width\n",
      "(Optional) .precision\n",
      "(Optional) format type character"
     ]
    },
    {
     "cell_type": "code",
     "collapsed": false,
     "input": [
      "\"hello {0:d} and {1:d}\".format(41, 42)"
     ],
     "language": "python",
     "metadata": {},
     "outputs": []
    },
    {
     "cell_type": "code",
     "collapsed": false,
     "input": [
      "\"hello {1:d} and {0:d}\".format(41, 42)"
     ],
     "language": "python",
     "metadata": {},
     "outputs": []
    },
    {
     "cell_type": "raw",
     "metadata": {},
     "source": [
      "If no format type character given, then defaul to str() value:"
     ]
    },
    {
     "cell_type": "code",
     "collapsed": false,
     "input": [
      "\"hello {1} and {0}\".format(41, 42)"
     ],
     "language": "python",
     "metadata": {},
     "outputs": []
    },
    {
     "cell_type": "raw",
     "metadata": {},
     "source": [
      "On newer 2.x and 3.x Pythons, index can be removed to auto index in order given:"
     ]
    },
    {
     "cell_type": "code",
     "collapsed": false,
     "input": [
      "\"hello {} and {}\".format(41, 42)"
     ],
     "language": "python",
     "metadata": {},
     "outputs": []
    },
    {
     "cell_type": "code",
     "collapsed": false,
     "input": [
      "\"hello {:=^-20.3f} {:!> 20.3f} world\".format(-42.4242, 42.4242)"
     ],
     "language": "python",
     "metadata": {},
     "outputs": []
    },
    {
     "cell_type": "code",
     "collapsed": false,
     "input": [
      "print \"age: {age}\\nheight: {height:0.2f}\".format(age=42, height=60)"
     ],
     "language": "python",
     "metadata": {},
     "outputs": []
    },
    {
     "cell_type": "code",
     "collapsed": false,
     "input": [
      "data = {'age': 42, 'height': 60}\n",
      "print \"age: {age}\\nheight: {height:0.2f}\".format(**data)"
     ],
     "language": "python",
     "metadata": {},
     "outputs": []
    },
    {
     "cell_type": "code",
     "collapsed": false,
     "input": [
      "data = {'age': 42, 'height': 60}\n",
      "print \"age: {d[age]}\\nheight: {d[height]:0.2f}\".format(d=data)"
     ],
     "language": "python",
     "metadata": {},
     "outputs": []
    },
    {
     "cell_type": "heading",
     "level": 1,
     "metadata": {},
     "source": [
      "Exercise"
     ]
    },
    {
     "cell_type": "raw",
     "metadata": {},
     "source": [
      "Given a list of prices, print out a formatted receipt with a total.\n",
      "Assume there will always only be three prices in the list.\n",
      "\n",
      "For example, given:\n",
      "items = [14.56, 0.63, 2.23]\n",
      "\n",
      "Print a receipt in the form below (total width of 20 characters):\n",
      "====================\n",
      "apples         14.56\n",
      "bananas         0.63\n",
      "pears           2.23\n",
      "====================\n",
      "Total:         17.42\n",
      "====================\n",
      "\n",
      "\n",
      "\n",
      "\n",
      "\n",
      "\n",
      "\n",
      "\n",
      "\n",
      "\n",
      "\n",
      "\n",
      "\n",
      "\n",
      "\n",
      "\n",
      "\n",
      "\n"
     ]
    },
    {
     "cell_type": "code",
     "collapsed": false,
     "input": [
      "items = [14.56, 0.63, 2.23]\n",
      "receipt = \"\"\"\\\n",
      "{sep}\n",
      "item 1 {items[0]:>13.2f}\n",
      "item 2 {items[1]:>13.2f}\n",
      "item 3 {items[2]:>13.2f}\n",
      "{sep}\n",
      "Total: {total:>13.2f}\n",
      "{sep}\n",
      "\"\"\"\n",
      "print receipt.format(items=items, total=sum(items), sep='='*20)"
     ],
     "language": "python",
     "metadata": {},
     "outputs": []
    }
   ],
   "metadata": {}
  }
 ]
}