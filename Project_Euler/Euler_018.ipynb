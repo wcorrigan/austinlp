{
 "metadata": {
  "name": "",
  "signature": "sha256:e2d5bcc39fc76f45a1942dd5ba4242abaedf4c5a57e74aae574b5fd4bff15714"
 },
 "nbformat": 3,
 "nbformat_minor": 0,
 "worksheets": [
  {
   "cells": [
    {
     "cell_type": "markdown",
     "metadata": {},
     "source": [
      "<img src=\"https://projecteuler.net/themes/default/pe_logo_default.png\" alt=\"Project Euler\" align=\"left\"> \n",
      "<br>\n",
      "\n",
      "# [Problem 18 - Maximum path sum I.](https://projecteuler.net/problem=18)\n",
      "\n",
      "\n",
      "\n",
      "By starting at the top of the triangle below and moving to adjacent numbers on the row below, the maximum total from top to bottom is 23.\n",
      "\n",
      "<p style=\"text-align:center;font-family:courier new;font-size:12pt;\"><span style=\"color:#ff0000;\"><b>3</b></span><br />\n",
      "<span style=\"color:#ff0000;\"><b>7</b></span> 4<br />\n",
      "2 <span style=\"color:#ff0000;\"><b>4</b></span> 6<br />\n",
      "8 5 <span style=\"color:#ff0000;\"><b>9</b></span> 3</p>\n",
      "\n",
      "That is, $3 + 7 + 4 + 9 = 23$.\n",
      "\n",
      "Find the maximum total from top to bottom of the triangle below:\n",
      "\n",
      "<p style=\"text-align:center;font-family:courier new;\">75<br />\n",
      "95 64<br />\n",
      "17 47 82<br />\n",
      "18 35 87 10<br />\n",
      "20 04 82 47 65<br />\n",
      "19 01 23 75 03 34<br />\n",
      "88 02 77 73 07 63 67<br />\n",
      "99 65 04 28 06 16 70 92<br />\n",
      "41 41 26 56 83 40 80 70 33<br />\n",
      "41 48 72 33 47 32 37 16 94 29<br />\n",
      "53 71 44 65 25 43 91 52 97 51 14<br />\n",
      "70 11 33 28 77 73 17 78 39 68 17 57<br />\n",
      "91 71 52 38 17 14 91 43 58 50 27 29 48<br />\n",
      "63 66 04 68 89 53 67 30 73 16 69 87 40 31<br />\n",
      "04 62 98 27 23 09 70 98 73 93 38 53 60 04 23</p>\n",
      "\n",
      "NOTE: As there are only 16384 routes, it is possible to solve this problem by trying every route. However, [Problem 67](https://projecteuler.net/problem=67), is the same challenge with a triangle containing one-hundred rows; it cannot be solved by brute force, and requires a clever method! ;o)"
     ]
    },
    {
     "cell_type": "code",
     "collapsed": false,
     "input": [
      "triangle = [\n",
      "    [75],\n",
      "    [95, 64],\n",
      "    [17, 47, 82],\n",
      "    [18, 35, 87, 10],\n",
      "    [20,  4, 82, 47, 65],\n",
      "    [19,  1, 23, 75,  3, 34],\n",
      "    [88,  2, 77, 73,  7, 63, 67],\n",
      "    [99, 65,  4, 28,  6, 16, 70, 92],\n",
      "    [41, 41, 26, 56, 83, 40, 80, 70, 33],\n",
      "    [41, 48, 72, 33, 47, 32, 37, 16, 94, 29],\n",
      "    [53, 71, 44, 65, 25, 43, 91, 52, 97, 51, 14],\n",
      "    [70, 11, 33, 28, 77, 73, 17, 78, 39, 68, 17, 57],\n",
      "    [91, 71, 52, 38, 17, 14, 91, 43, 58, 50, 27, 29, 48],\n",
      "    [63, 66,  4, 68, 89, 53, 67, 30, 73, 16, 69, 87, 40, 31],\n",
      "    [ 4, 62, 98, 27, 23,  9, 70, 98, 73, 93, 38, 53, 60,  4, 23]\n",
      "]"
     ],
     "language": "python",
     "metadata": {},
     "outputs": []
    },
    {
     "cell_type": "code",
     "collapsed": false,
     "input": [],
     "language": "python",
     "metadata": {},
     "outputs": []
    }
   ],
   "metadata": {}
  }
 ]
}