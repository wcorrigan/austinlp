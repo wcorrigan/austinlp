{
 "metadata": {
  "name": "",
  "signature": "sha256:6b6551720c991c4e7ea515f97130a546f129405f000d3e6b856494728579c233"
 },
 "nbformat": 3,
 "nbformat_minor": 0,
 "worksheets": [
  {
   "cells": [
    {
     "cell_type": "markdown",
     "metadata": {},
     "source": [
      "<img src=\"https://projecteuler.net/themes/default/pe_logo_default.png\" alt=\"Project Euler\" align=\"left\"> \n",
      "<br>\n",
      "\n",
      "# [Problem 6 - Sum square difference.](https://projecteuler.net/problem=6)\n",
      "\n",
      "The sum of the squares of the first ten natural numbers is,\n",
      "$1^2 + 2^2 + ... + 10^2 = 385$\n",
      "\n",
      "The square of the sum of the first ten natural numbers is,\n",
      "$(1 + 2 + ... + 10)^2 = 55^2 = 3025$\n",
      "\n",
      "Hence the difference between the sum of the squares of the first ten natural numbers and the square of the sum is $3025 \u2212 385 = 2640$.\n",
      "\n",
      "Find the difference between the sum of the squares of the first one hundred natural numbers and the square of the sum."
     ]
    },
    {
     "cell_type": "markdown",
     "metadata": {},
     "source": [
      "----\n",
      "\n",
      "Let's write a function that takes the size of the problem as a parameter, then verify it on the \"first 10\" version of the problem before attempting the bigger \"first 100\" problem.\n",
      "\n",
      "----"
     ]
    },
    {
     "cell_type": "code",
     "collapsed": false,
     "input": [
      "def sum_of_squares(n):\n",
      "    x = 0\n",
      "    for i in range(1, n+1):\n",
      "        x += i**2\n",
      "    return x\n",
      "\n",
      "def square_of_sum(n):\n",
      "    x = 0\n",
      "    for i in range(1, n+1):\n",
      "        x += i\n",
      "    return x**2\n",
      "\n",
      "def diff_sum_squares(n):\n",
      "    return square_of_sum(n) - sum_of_squares(n)"
     ],
     "language": "python",
     "metadata": {},
     "outputs": []
    },
    {
     "cell_type": "code",
     "collapsed": false,
     "input": [
      "# Let's test our code for some simple cases\n",
      "assert diff_sum_squares(1) == 0\n",
      "assert diff_sum_squares(2) == 4\n",
      "assert diff_sum_squares(3) == 22"
     ],
     "language": "python",
     "metadata": {},
     "outputs": []
    },
    {
     "cell_type": "code",
     "collapsed": false,
     "input": [
      "# Let's test our code for n = 10\n",
      "assert diff_sum_squares(10) == 2640"
     ],
     "language": "python",
     "metadata": {},
     "outputs": []
    },
    {
     "cell_type": "code",
     "collapsed": false,
     "input": [
      "# Ok, all is well.  Let's run the n = 100 case\n",
      "diff_sum_squares(100)"
     ],
     "language": "python",
     "metadata": {},
     "outputs": []
    },
    {
     "cell_type": "code",
     "collapsed": false,
     "input": [],
     "language": "python",
     "metadata": {},
     "outputs": []
    }
   ],
   "metadata": {}
  }
 ]
}