{
 "metadata": {
  "name": "",
  "signature": "sha256:9c27e4c6027f81ca529d33a881acbb466a44cc3ae756571068fda1e0e46f0959"
 },
 "nbformat": 3,
 "nbformat_minor": 0,
 "worksheets": [
  {
   "cells": [
    {
     "cell_type": "markdown",
     "metadata": {},
     "source": [
      "<img src=\"https://projecteuler.net/themes/default/pe_logo_default.png\" alt=\"Project Euler\" align=\"left\"> \n",
      "<br>\n",
      "\n",
      "# [Problem 20 - Factorial digit sum.](https://projecteuler.net/problem=20)\n",
      "\n",
      "$n!$ means $n \u00d7 (n \u2212 1) \u00d7 ... \u00d7 3 \u00d7 2 \u00d7 1$\n",
      "\n",
      "For example, $10! = 10 \u00d7 9 \u00d7 ... \u00d7 3 \u00d7 2 \u00d7 1 = 3628800$,\n",
      "and the sum of the digits in the number $10!$ is $3 + 6 + 2 + 8 + 8 + 0 + 0 = 27$.\n",
      "\n",
      "Find the sum of the digits in the number $100!$\n"
     ]
    },
    {
     "cell_type": "markdown",
     "metadata": {},
     "source": [
      "----\n",
      "Just line in [problem 16](https://projecteuler.net/problem=16), Python's ability to deal with large integers will help us significantly here.\n",
      "\n",
      "Here's the plan of attack\n",
      "- Calculate the result of $N!$\n",
      "- Convert this result to a string\n",
      "- Step through each character in this result string\n",
      "- Convert each character back to an integer, and add it to our running total"
     ]
    },
    {
     "cell_type": "code",
     "collapsed": false,
     "input": [
      "from math import factorial"
     ],
     "language": "python",
     "metadata": {},
     "outputs": []
    },
    {
     "cell_type": "code",
     "collapsed": false,
     "input": [
      "def euler_020(n):\n",
      "    result = factorial(n)\n",
      "    string_result = str(result)\n",
      "    answer = 0\n",
      "    for c in string_result:\n",
      "        answer += int(c)\n",
      "    return answer"
     ],
     "language": "python",
     "metadata": {},
     "outputs": []
    },
    {
     "cell_type": "code",
     "collapsed": false,
     "input": [
      "# Test our function using the example given\n",
      "euler_020(10)\n",
      "# We should see the result 27"
     ],
     "language": "python",
     "metadata": {},
     "outputs": []
    },
    {
     "cell_type": "code",
     "collapsed": false,
     "input": [
      "# Calculate the solution to our problem\n",
      "euler_020(100)"
     ],
     "language": "python",
     "metadata": {},
     "outputs": []
    },
    {
     "cell_type": "code",
     "collapsed": false,
     "input": [],
     "language": "python",
     "metadata": {},
     "outputs": []
    }
   ],
   "metadata": {}
  }
 ]
}