{
 "metadata": {
  "name": "",
  "signature": "sha256:aee59b9b9d3d3663d09bbfe68e18db5a04794f20e68da7b2b52f6a368e707776"
 },
 "nbformat": 3,
 "nbformat_minor": 0,
 "worksheets": [
  {
   "cells": [
    {
     "cell_type": "markdown",
     "metadata": {},
     "source": [
      "<img src=\"https://projecteuler.net/themes/default/pe_logo_default.png\" alt=\"Project Euler\" align=\"left\"> \n",
      "<br>\n",
      "\n",
      "# [Problem 9 - Special Pythagorean triplet.](https://projecteuler.net/problem=9)\n",
      "\n",
      "A Pythagorean triplet is a set of three natural numbers, $a < b < c$, for which,\n",
      "$a^2 + b^2 = c^2$\n",
      "\n",
      "For example, $3^2 + 4^2 = 9 + 16 = 25 = 5^2$.\n",
      "\n",
      "There exists exactly one Pythagorean triplet for which $a + b + c = 1000$.\n",
      "Find the product $abc$.\n"
     ]
    },
    {
     "cell_type": "markdown",
     "metadata": {},
     "source": [
      "----\n",
      "Since a + b + c are equal to 1000, and a < b < c, the minimum value for c must be 335.  If c = 334, then at most b = 333, and at most a = 332, and a + b + c = 999 which is too small.\n",
      "\n",
      "The maximum value of c is 997, because if a = 1, and b = 2 and c = 998, then a + b + c = 1001 which is too big.\n",
      "\n",
      "So we're going to search for c values between 335 and 997.\n",
      "\n",
      "----"
     ]
    },
    {
     "cell_type": "code",
     "collapsed": false,
     "input": [
      "def find_answer(cmin, cmax, target):\n",
      "    # Loop through all possible values of c\n",
      "    for c in range(cmin, cmax):\n",
      "        \n",
      "        # Loop through all possible values of b\n",
      "        for b in range(2, c):\n",
      "            \n",
      "            # Loop through all possible values of a\n",
      "            for a in range(1, b):\n",
      "                \n",
      "                # Check that these values of a, b, & c are a Pythagorean triplet\n",
      "                if (a**2 + b**2) == c**2:\n",
      "                    \n",
      "                    # Check if this Pythagorean triplet is the one we're looking for\n",
      "                    if a+b+c == target:\n",
      "                        \n",
      "                        # Yay, we've found the answer we're looking for, print it\n",
      "                        print(\"{a}^2 + {b}^2 = {c}^2, a + b + c = {s}, abc = {p}\".format(a=a, b=b, c=c, s=a+b+c, p=a*b*c))"
     ],
     "language": "python",
     "metadata": {},
     "outputs": []
    },
    {
     "cell_type": "code",
     "collapsed": false,
     "input": [
      "%time find_answer(335, 998, 1000)"
     ],
     "language": "python",
     "metadata": {},
     "outputs": []
    },
    {
     "cell_type": "markdown",
     "metadata": {},
     "source": [
      "OK, we've found the right answer, but it took ~40 seconds on my laptop.  That's within the 1 minute goal, so we can stop now, but let's play around a bit more to see if we can make it faster.\n",
      "\n",
      "There is a bunch of fancy mathematics we could use to make this go a lot faster, look a the Wikipedia article on [Pythagorean triples](https://en.wikipedia.org/wiki/Pythagorean_triples) for more details.\n",
      "\n",
      "But we're trying to learn programming not math, so we're going to stick with this simpler approach and see if we can make it faster.\n",
      "\n",
      "Can you think of any ways to make this code faster?\n",
      "\n",
      "I can think of one.  Since a + b + c = 1000, once we've got b + c there is only one possibility for a.  Our code currently loops through a large number of possibilities, but if there is only one it will go a lot faster."
     ]
    },
    {
     "cell_type": "code",
     "collapsed": false,
     "input": [
      "def find_answer_version2(cmin, cmax, target):\n",
      "    for c in range(cmin, cmax):\n",
      "        for b in range(2, c):\n",
      "            a = target - b - c\n",
      "            if a > b:\n",
      "                continue\n",
      "            if (a**2 + b**2) == c**2:\n",
      "                print(\"{a}^2 + {b}^2 = {c}^2, a + b + c = {s}, abc = {p}\".format(a=a, b=b, c=c, s=a+b+c, p=a*b*c))"
     ],
     "language": "python",
     "metadata": {},
     "outputs": []
    },
    {
     "cell_type": "code",
     "collapsed": false,
     "input": [
      "%time find_answer_version2(335, 998, 1000)"
     ],
     "language": "python",
     "metadata": {},
     "outputs": []
    },
    {
     "cell_type": "markdown",
     "metadata": {},
     "source": [
      "Almost there...\n",
      "\n",
      "Our code is MUCH faster, but we're generating 2 answers because we've got a negative value of a.  This is actually a valid answer given the problem statement, but I think we're looking for positive values only.  Let's enhance our code a little to eliminate negative values of a."
     ]
    },
    {
     "cell_type": "code",
     "collapsed": false,
     "input": [
      "def find_answer_version3(cmin, cmax, target):\n",
      "    for c in xrange(cmin, cmax):\n",
      "        for b in xrange(2, c):\n",
      "            a = target - b - c\n",
      "            if a > b or a < 1:\n",
      "                continue\n",
      "            if (a**2 + b**2) == c**2:\n",
      "                print(\"{a}^2 + {b}^2 = {c}^2, a + b + c = {s}, abc = {p}\".format(a=a, b=b, c=c, s=a+b+c, p=a*b*c))"
     ],
     "language": "python",
     "metadata": {},
     "outputs": []
    },
    {
     "cell_type": "code",
     "collapsed": false,
     "input": [
      "%time find_answer_version3(335, 998, 1000)"
     ],
     "language": "python",
     "metadata": {},
     "outputs": []
    },
    {
     "cell_type": "markdown",
     "metadata": {},
     "source": [
      "Note our first solution took ~40 seconds to run.  This solution takes ~0.1 seconds to run.  That's a 400x speed-up.  Not bad!"
     ]
    },
    {
     "cell_type": "code",
     "collapsed": false,
     "input": [
      "for i in range(10000000000):\n",
      "    print i\n",
      "    if i > 5:\n",
      "        break"
     ],
     "language": "python",
     "metadata": {},
     "outputs": []
    },
    {
     "cell_type": "code",
     "collapsed": false,
     "input": [],
     "language": "python",
     "metadata": {},
     "outputs": []
    }
   ],
   "metadata": {}
  }
 ]
}