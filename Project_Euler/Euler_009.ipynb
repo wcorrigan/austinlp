{
 "metadata": {
  "name": "",
  "signature": "sha256:73b7b3c20214000c6c26da801d4ce6ae0fbe486fc39ece5c70bc3fff14a7e53e"
 },
 "nbformat": 3,
 "nbformat_minor": 0,
 "worksheets": [
  {
   "cells": [
    {
     "cell_type": "markdown",
     "metadata": {},
     "source": [
      "<img src=\"https://projecteuler.net/themes/default/pe_logo_default.png\" alt=\"Project Euler\" align=\"left\"> \n",
      "<br>\n",
      "\n",
      "# [Problem 9 - Special Pythagorean triplet.](https://projecteuler.net/problem=9)\n",
      "\n",
      "A Pythagorean triplet is a set of three natural numbers, $a < b < c$, for which,\n",
      "$a^2 + b^2 = c^2$\n",
      "\n",
      "For example, $3^2 + 4^2 = 9 + 16 = 25 = 5^2$.\n",
      "\n",
      "There exists exactly one Pythagorean triplet for which $a + b + c = 1000$.\n",
      "Find the product $abc$.\n"
     ]
    },
    {
     "cell_type": "code",
     "collapsed": false,
     "input": [],
     "language": "python",
     "metadata": {},
     "outputs": []
    }
   ],
   "metadata": {}
  }
 ]
}