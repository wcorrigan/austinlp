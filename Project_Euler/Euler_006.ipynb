{
 "metadata": {
  "name": "",
  "signature": "sha256:5d682edf055239a971bfebe4109c7647a3850e1eeed5b1e85e059c49d768adbb"
 },
 "nbformat": 3,
 "nbformat_minor": 0,
 "worksheets": [
  {
   "cells": [
    {
     "cell_type": "markdown",
     "metadata": {},
     "source": [
      "<img src=\"https://projecteuler.net/themes/default/pe_logo_default.png\" alt=\"Project Euler\" align=\"left\"> \n",
      "<br>\n",
      "\n",
      "# [Problem 6 - Sum square difference.](https://projecteuler.net/problem=6)\n",
      "\n",
      "The sum of the squares of the first ten natural numbers is,\n",
      "$1^2 + 2^2 + ... + 10^2 = 385$\n",
      "\n",
      "The square of the sum of the first ten natural numbers is,\n",
      "$(1 + 2 + ... + 10)^2 = 55^2 = 3025$\n",
      "\n",
      "Hence the difference between the sum of the squares of the first ten natural numbers and the square of the sum is $3025 \u2212 385 = 2640$.\n",
      "\n",
      "Find the difference between the sum of the squares of the first one hundred natural numbers and the square of the sum."
     ]
    },
    {
     "cell_type": "code",
     "collapsed": false,
     "input": [],
     "language": "python",
     "metadata": {},
     "outputs": []
    }
   ],
   "metadata": {}
  }
 ]
}