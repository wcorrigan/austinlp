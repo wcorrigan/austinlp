{
 "metadata": {
  "name": "",
  "signature": "sha256:92c31f3d6fee3b99c94646383ab2c9d18c7f02e4a7010100d062ae71da03907e"
 },
 "nbformat": 3,
 "nbformat_minor": 0,
 "worksheets": [
  {
   "cells": [
    {
     "cell_type": "markdown",
     "metadata": {},
     "source": [
      "<img src=\"https://projecteuler.net/themes/default/pe_logo_default.png\" alt=\"Project Euler\" align=\"left\"> \n",
      "<br>\n",
      "\n",
      "# [Problem 11 - Largest product in a grid.](https://projecteuler.net/problem=11)\n",
      "\n",
      "In the 20\u00d720 grid below, four numbers along a diagonal line have been marked in red.\n",
      "\n",
      "### See the problem at the Project Euler (link above) for the grid of numbers\n",
      "\n",
      "The product of these numbers is $26 \u00d7 63 \u00d7 78 \u00d7 14 = 1788696$.\n",
      "\n",
      "What is the greatest product of four adjacent numbers in the same direction (up, down, left, right, or diagonally) in the 20\u00d720 grid?\n"
     ]
    },
    {
     "cell_type": "code",
     "collapsed": false,
     "input": [
      "d = [[ 8,  2, 22, 97, 38, 15,  0, 40,  0, 75,  4,  5,  7, 78, 52, 12, 50, 77, 91,  8],\n",
      "     [49, 49, 99, 40, 17, 81, 18, 57, 60, 87, 17, 40, 98, 43, 69, 48,  4, 56, 62,  0],\n",
      "     [81, 49, 31, 73, 55, 79, 14, 29, 93, 71, 40, 67, 53, 88, 30,  3, 49, 13, 36, 65],\n",
      "     [52, 70, 95, 23,  4, 60, 11, 42, 69, 24, 68, 56,  1, 32, 56, 71, 37,  2, 36, 91],\n",
      "     [22, 31, 16, 71, 51, 67, 63, 89, 41, 92, 36, 54, 22, 40, 40, 28, 66, 33, 13, 80],\n",
      "     [24, 47, 32, 60, 99,  3, 45,  2, 44, 75, 33, 53, 78, 36, 84, 20, 35, 17, 12, 50],\n",
      "     [32, 98, 81, 28, 64, 23, 67, 10, 26, 38, 40, 67, 59, 54, 70, 66, 18, 38, 64, 70],\n",
      "     [67, 26, 20, 68,  2, 62, 12, 20, 95, 63, 94, 39, 63,  8, 40, 91, 66, 49, 94, 21],\n",
      "     [24, 55, 58,  5, 66, 73, 99, 26, 97, 17, 78, 78, 96, 83, 14, 88, 34, 89, 63, 72],\n",
      "     [21, 36, 23,  9, 75,  0, 76, 44, 20, 45, 35, 14,  0, 61, 33, 97, 34, 31, 33, 95],\n",
      "     [78, 17, 53, 28, 22, 75, 31, 67, 15, 94,  3, 80,  4, 62, 16, 14,  9, 53, 56, 92],\n",
      "     [16, 39,  5, 42, 96, 35, 31, 47, 55, 58, 88, 24,  0, 17, 54, 24, 36, 29, 85, 57],\n",
      "     [86, 56,  0, 48, 35, 71, 89,  7,  5, 44, 44, 37, 44, 60, 21, 58, 51, 54, 17, 58],\n",
      "     [19, 80, 81, 68,  5, 94, 47, 69, 28, 73, 92, 13, 86, 52, 17, 77,  4, 89, 55, 40],\n",
      "     [ 4, 52,  8, 83, 97, 35, 99, 16,  7, 97, 57, 32, 16, 26, 26, 79, 33, 27, 98, 66],\n",
      "     [88, 36, 68, 87, 57, 62, 20, 72,  3, 46, 33, 67, 46, 55, 12, 32, 63, 93, 53, 69],\n",
      "     [ 4, 42, 16, 73, 38, 25, 39, 11, 24, 94, 72, 18,  8, 46, 29, 32, 40, 62, 76, 36],\n",
      "     [20, 69, 36, 41, 72, 30, 23, 88, 34, 62, 99, 69, 82, 67, 59, 85, 74,  4, 36, 16],\n",
      "     [20, 73, 35, 29, 78, 31, 90,  1, 74, 31, 49, 71, 48, 86, 81, 16, 23, 57,  5, 54],\n",
      "     [ 1, 70, 54, 71, 83, 51, 54, 69, 16, 92, 33, 48, 61, 43, 52,  1, 89, 19, 67, 48]]\n"
     ],
     "language": "python",
     "metadata": {},
     "outputs": []
    },
    {
     "cell_type": "code",
     "collapsed": false,
     "input": [
      "# Print back the table\n",
      "for x in range(len(d[0])):\n",
      "    print \"    \", \n",
      "    for y in range(len(d)):\n",
      "        print \"{0:2}\".format(d[x][y]),\n",
      "    print"
     ],
     "language": "python",
     "metadata": {},
     "outputs": []
    },
    {
     "cell_type": "code",
     "collapsed": false,
     "input": [
      "# Search for horizontal results\n",
      "max_h = 0\n",
      "for x in range(20-3):\n",
      "    for y in range(20):\n",
      "        res = d[x][y] * d[x+1][y] * d[x+2][y] * d[x+3][y]\n",
      "        if (res > max_h):\n",
      "            max_h = res\n",
      "print \"max_h =\", max_h"
     ],
     "language": "python",
     "metadata": {},
     "outputs": []
    },
    {
     "cell_type": "code",
     "collapsed": false,
     "input": [
      "# Search for vertical results\n",
      "max_v = 0\n",
      "for x in range(20):\n",
      "    for y in range(20-3):\n",
      "        res = d[x][y] * d[x][y+1] * d[x][y+2] * d[x][y+3]\n",
      "        if (res > max_v):\n",
      "            max_v = res\n",
      "print \"max_v =\", max_v"
     ],
     "language": "python",
     "metadata": {},
     "outputs": []
    },
    {
     "cell_type": "code",
     "collapsed": false,
     "input": [
      "# Search for diagonal NW/SE results\n",
      "max_nw = 0\n",
      "for x in range(20-3):\n",
      "    for y in range(20-3):\n",
      "        res = d[x][y] * d[x+1][y+1] * d[x+2][y+2] * d[x+3][y+3]\n",
      "        if (res > max_nw):\n",
      "            max_nw = res\n",
      "print \"max_nw =\", max_nw"
     ],
     "language": "python",
     "metadata": {},
     "outputs": []
    },
    {
     "cell_type": "code",
     "collapsed": false,
     "input": [
      "# Search for diagonal NE/SW results\n",
      "max_ne = 0\n",
      "for x in range(20-3):\n",
      "    for y in range(3, 20):\n",
      "        res = d[x][y] * d[x+1][y-1] * d[x+2][y-2] * d[x+3][y-3]\n",
      "        if (res > max_ne):\n",
      "            max_ne = res\n",
      "print \"max_ne =\", max_ne"
     ],
     "language": "python",
     "metadata": {},
     "outputs": []
    },
    {
     "cell_type": "code",
     "collapsed": false,
     "input": [
      "print\n",
      "print \"Answer =\", max(max_h, max_v, max_nw, max_ne)"
     ],
     "language": "python",
     "metadata": {},
     "outputs": []
    },
    {
     "cell_type": "code",
     "collapsed": false,
     "input": [],
     "language": "python",
     "metadata": {},
     "outputs": []
    }
   ],
   "metadata": {}
  }
 ]
}