{
 "metadata": {
  "name": "",
  "signature": "sha256:b6446109e712e35ba667d08b99f9b36d060e50cfd929cdd86eb9b215ce293334"
 },
 "nbformat": 3,
 "nbformat_minor": 0,
 "worksheets": [
  {
   "cells": [
    {
     "cell_type": "markdown",
     "metadata": {},
     "source": [
      "<img src=\"https://projecteuler.net/themes/default/pe_logo_default.png\" alt=\"Project Euler\" align=\"left\"> \n",
      "<br>\n",
      "\n",
      "# [Problem 10 - Summation of primes.](https://projecteuler.net/problem=10)\n",
      "\n",
      "The sum of the primes below 10 is $2 + 3 + 5 + 7 = 17$.\n",
      "\n",
      "Find the sum of all the primes below two million."
     ]
    },
    {
     "cell_type": "code",
     "collapsed": false,
     "input": [],
     "language": "python",
     "metadata": {},
     "outputs": []
    }
   ],
   "metadata": {}
  }
 ]
}