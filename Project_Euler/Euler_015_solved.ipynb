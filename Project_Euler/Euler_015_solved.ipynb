{
 "metadata": {
  "name": "",
  "signature": "sha256:b3e4e5a0b83ec15b8faf67556ca3016d71f0f268ea5797cc3a438d0d565608d9"
 },
 "nbformat": 3,
 "nbformat_minor": 0,
 "worksheets": [
  {
   "cells": [
    {
     "cell_type": "markdown",
     "metadata": {},
     "source": [
      "<img src=\"https://projecteuler.net/themes/default/pe_logo_default.png\" alt=\"Project Euler\" align=\"left\"> \n",
      "<br>\n",
      "\n",
      "# [Problem 15 - Lattice paths.](https://projecteuler.net/problem=15)\n",
      "\n",
      "Starting in the top left corner of a 2\u00d72 grid, and only being able to move to the right and down, there are exactly 6 routes to the bottom right corner.\n",
      "\n",
      "<img src=\"https://projecteuler.net/project/images/p015.gif\" align=\"center\"> \n",
      "\n",
      "How many such routes are there through a 20\u00d720 grid?"
     ]
    },
    {
     "cell_type": "markdown",
     "metadata": {},
     "source": [
      "___\n",
      "We each node on the grid can be reached from the node directly above it, and the node directly to the left of it.  If we add the number of ways to get to each of those two nodes, we get the number of ways to reach this node.\n",
      "\n",
      "A 20 x 20 grid will have 21 x 21 nodes.  Therefore we will calculate our solution by creating a 21 x 21 array, where each item represents the number of ways of getting to that node, and step through the array to calculate our final result"
     ]
    },
    {
     "cell_type": "code",
     "collapsed": false,
     "input": [
      "# We are going to make our solution flexible in the size of the problem\n",
      "# That way we can work out the code and fix the bugs on a smaller version\n",
      "# of the problem before we try to solve the full problem\n",
      "SIZE = 21"
     ],
     "language": "python",
     "metadata": {},
     "outputs": []
    },
    {
     "cell_type": "code",
     "collapsed": false,
     "input": [
      "# Create an empty array of node values\n",
      "nodes = list()\n",
      "for x in range(SIZE):\n",
      "    sublist = list()\n",
      "    for y in range(SIZE):\n",
      "        sublist.append(0)\n",
      "    nodes.append(sublist)"
     ],
     "language": "python",
     "metadata": {},
     "outputs": []
    },
    {
     "cell_type": "code",
     "collapsed": false,
     "input": [
      "# Let's check what our array looks like\n",
      "nodes"
     ],
     "language": "python",
     "metadata": {},
     "outputs": []
    },
    {
     "cell_type": "code",
     "collapsed": false,
     "input": [
      "# Looks good\n",
      "# Next we step through the array and calculate the number of paths to that node\n",
      "# We have to remember to initialize nodes[0][0] to 1\n",
      "for x in range(SIZE):\n",
      "    for y in range(SIZE):\n",
      "        if (x-1) < 0:\n",
      "            value_above = 0\n",
      "        else:\n",
      "            value_above = nodes[x-1][y]\n",
      "            \n",
      "        if (y-1) < 0:\n",
      "            value_left = 0\n",
      "        else:\n",
      "            value_left = nodes[x][y-1]\n",
      "            \n",
      "        if (x == 0) & (y == 0):\n",
      "            nodes[x][y] = 1\n",
      "        else:\n",
      "            nodes[x][y] = value_above + value_left"
     ],
     "language": "python",
     "metadata": {},
     "outputs": []
    },
    {
     "cell_type": "code",
     "collapsed": false,
     "input": [
      "# And let's look at the calculated values\n",
      "nodes"
     ],
     "language": "python",
     "metadata": {},
     "outputs": []
    },
    {
     "cell_type": "code",
     "collapsed": false,
     "input": [
      "# And our answer is in the lower right node, which is nodes[SIZE-1][SIZE-1]\n",
      "print nodes[SIZE-1][SIZE-1]"
     ],
     "language": "python",
     "metadata": {},
     "outputs": []
    }
   ],
   "metadata": {}
  }
 ]
}