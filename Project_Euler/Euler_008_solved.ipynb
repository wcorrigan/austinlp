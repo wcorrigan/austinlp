{
 "metadata": {
  "name": "",
  "signature": "sha256:f06e4ff82493d14ccfeb639bea41974bd37d12e666fc0f3cd2499ff21f1dbcdd"
 },
 "nbformat": 3,
 "nbformat_minor": 0,
 "worksheets": [
  {
   "cells": [
    {
     "cell_type": "markdown",
     "metadata": {},
     "source": [
      "<img src=\"https://projecteuler.net/themes/default/pe_logo_default.png\" alt=\"Project Euler\" align=\"left\"> \n",
      "<br>\n",
      "\n",
      "# [Problem 8 - Largest product in a series.](https://projecteuler.net/problem=8)\n",
      "\n",
      "The four adjacent digits in the 1000-digit number that have the greatest product are 9 \u00d7 9 \u00d7 8 \u00d7 9 = 5832.\n",
      "\n",
      "$$73167176531330624919225119674426574742355349194934$$\n",
      "$$96983520312774506326239578318016984801869478851843$$\n",
      "$$85861560789112949495459501737958331952853208805511$$\n",
      "$$12540698747158523863050715693290963295227443043557$$\n",
      "$$66896648950445244523161731856403098711121722383113$$\n",
      "$$62229893423380308135336276614282806444486645238749$$\n",
      "$$30358907296290491560440772390713810515859307960866$$\n",
      "$$70172427121883998797908792274921901699720888093776$$\n",
      "$$65727333001053367881220235421809751254540594752243$$\n",
      "$$52584907711670556013604839586446706324415722155397$$\n",
      "$$53697817977846174064955149290862569321978468622482$$\n",
      "$$83972241375657056057490261407972968652414535100474$$\n",
      "$$82166370484403199890008895243450658541227588666881$$\n",
      "$$16427171479924442928230863465674813919123162824586$$\n",
      "$$17866458359124566529476545682848912883142607690042$$\n",
      "$$24219022671055626321111109370544217506941658960408$$\n",
      "$$07198403850962455444362981230987879927244284909188$$\n",
      "$$84580156166097919133875499200524063689912560717606$$\n",
      "$$05886116467109405077541002256983155200055935729725$$\n",
      "$$71636269561882670428252483600823257530420752963450$$\n",
      "\n",
      "Find the thirteen adjacent digits in the 1000-digit number that have the greatest product. What is the value of this product?"
     ]
    },
    {
     "cell_type": "markdown",
     "metadata": {},
     "source": [
      "____\n",
      "This problem should be a relatively simple search.  The most interesting part of the problem is probably how we represent the number we're searchin within.\n",
      "____\n"
     ]
    },
    {
     "cell_type": "code",
     "collapsed": false,
     "input": [
      "# This is the number we will be searching within\n",
      "number_1000 = \\\n",
      "\"73167176531330624919225119674426574742355349194934\" + \\\n",
      "\"96983520312774506326239578318016984801869478851843\" + \\\n",
      "\"85861560789112949495459501737958331952853208805511\" + \\\n",
      "\"12540698747158523863050715693290963295227443043557\" + \\\n",
      "\"66896648950445244523161731856403098711121722383113\" + \\\n",
      "\"62229893423380308135336276614282806444486645238749\" + \\\n",
      "\"30358907296290491560440772390713810515859307960866\" + \\\n",
      "\"70172427121883998797908792274921901699720888093776\" + \\\n",
      "\"65727333001053367881220235421809751254540594752243\" + \\\n",
      "\"52584907711670556013604839586446706324415722155397\" + \\\n",
      "\"53697817977846174064955149290862569321978468622482\" + \\\n",
      "\"83972241375657056057490261407972968652414535100474\" + \\\n",
      "\"82166370484403199890008895243450658541227588666881\" + \\\n",
      "\"16427171479924442928230863465674813919123162824586\" + \\\n",
      "\"17866458359124566529476545682848912883142607690042\" + \\\n",
      "\"24219022671055626321111109370544217506941658960408\" + \\\n",
      "\"07198403850962455444362981230987879927244284909188\" + \\\n",
      "\"84580156166097919133875499200524063689912560717606\" + \\\n",
      "\"05886116467109405077541002256983155200055935729725\" + \\\n",
      "\"71636269561882670428252483600823257530420752963450\""
     ],
     "language": "python",
     "metadata": {},
     "outputs": []
    },
    {
     "cell_type": "code",
     "collapsed": false,
     "input": [
      "# Create smaller versions that we can use for testing\n",
      "number_100 = number_1000[0:100]  # First 100 digits\n",
      "number_10 = number_1000[0:10]    # First 10 digits"
     ],
     "language": "python",
     "metadata": {},
     "outputs": []
    },
    {
     "cell_type": "code",
     "collapsed": false,
     "input": [
      "print(\"This number is {} digits long.\".format(len(number_1000)))\n",
      "print(number_1000)"
     ],
     "language": "python",
     "metadata": {},
     "outputs": []
    },
    {
     "cell_type": "code",
     "collapsed": false,
     "input": [
      "print(\"This number is {} digits long.\".format(len(number_100)))\n",
      "print(number_100)"
     ],
     "language": "python",
     "metadata": {},
     "outputs": []
    },
    {
     "cell_type": "code",
     "collapsed": false,
     "input": [
      "print(\"This number is {} digits long.\".format(len(number_10)))\n",
      "print(number_10)"
     ],
     "language": "python",
     "metadata": {},
     "outputs": []
    },
    {
     "cell_type": "code",
     "collapsed": false,
     "input": [
      "def euler_8(number, digits, debug=False):\n",
      "    biggest_product = 0\n",
      "    for start in range(0, len(number)-digits):\n",
      "        product = 1\n",
      "        for offset in range(0, digits):\n",
      "            product *= int(number[start+offset])\n",
      "            if debug:\n",
      "                print(\"{}\".format(number[start+offset])),\n",
      "                if offset != (digits - 1):\n",
      "                    print(\"*\"),\n",
      "                else:\n",
      "                    print(\"= {}\".format(product))\n",
      "        if product > biggest_product:\n",
      "            biggest_product = product\n",
      "            if debug:\n",
      "                print(\"New biggest product found = {}\".format(product))\n",
      "    return biggest_product"
     ],
     "language": "python",
     "metadata": {},
     "outputs": []
    },
    {
     "cell_type": "code",
     "collapsed": false,
     "input": [
      "euler_8(number_10, 2, debug=True)  # From manual calculation, the answer should be 42"
     ],
     "language": "python",
     "metadata": {},
     "outputs": []
    },
    {
     "cell_type": "code",
     "collapsed": false,
     "input": [
      "# Let's try it out on bigger problems\n",
      "euler_8(number_10, 5, debug=True)"
     ],
     "language": "python",
     "metadata": {},
     "outputs": []
    },
    {
     "cell_type": "code",
     "collapsed": false,
     "input": [
      "euler_8(number_100, 5, debug=True)"
     ],
     "language": "python",
     "metadata": {},
     "outputs": []
    },
    {
     "cell_type": "code",
     "collapsed": false,
     "input": [
      "# We were given the result we should find for this case\n",
      "euler_8(number_1000, 4) == 5832"
     ],
     "language": "python",
     "metadata": {},
     "outputs": []
    },
    {
     "cell_type": "code",
     "collapsed": false,
     "input": [
      "# And finally, here's the case we were asked to run\n",
      "euler_8(number_1000, 13)"
     ],
     "language": "python",
     "metadata": {},
     "outputs": []
    },
    {
     "cell_type": "code",
     "collapsed": false,
     "input": [],
     "language": "python",
     "metadata": {},
     "outputs": []
    }
   ],
   "metadata": {}
  }
 ]
}