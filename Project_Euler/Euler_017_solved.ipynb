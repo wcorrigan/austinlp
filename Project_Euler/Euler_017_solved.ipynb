{
 "metadata": {
  "name": "",
  "signature": "sha256:d535f1a0e30c84f99f4eb17e9a5e0ac43db2a58a2b19ce55afa31d0bd8959168"
 },
 "nbformat": 3,
 "nbformat_minor": 0,
 "worksheets": [
  {
   "cells": [
    {
     "cell_type": "markdown",
     "metadata": {},
     "source": [
      "<img src=\"https://projecteuler.net/themes/default/pe_logo_default.png\" alt=\"Project Euler\" align=\"left\"> \n",
      "<br>\n",
      "\n",
      "# [Problem 17 - Number letter counts.](https://projecteuler.net/problem=17)\n",
      "\n",
      "\n",
      "\n",
      "If the numbers $1$ to $5$ are written out in words: one, two, three, four, five, then there are $3 + 3 + 5 + 4 + 4 = 19$ letters used in total.\n",
      "\n",
      "If all the numbers from $1$ to $1000$ (one thousand) inclusive were written out in words, how many letters would be used?\n",
      "\n",
      "**NOTE**: Do not count spaces or hyphens. For example, 342 (three hundred and forty-two) contains 23 letters and 115 (one hundred and fifteen) contains 20 letters. The use of \"and\" when writing out numbers is in compliance with British usage.\n"
     ]
    },
    {
     "cell_type": "code",
     "collapsed": false,
     "input": [
      "def number_to_words(n):\n",
      "    if (n == 1):\n",
      "        return \"One\"\n",
      "    elif (n == 2):\n",
      "        return \"Two\"\n",
      "    elif (n == 3):\n",
      "        return \"Three\"\n",
      "    elif (n == 4):\n",
      "        return \"Four\"\n",
      "    elif (n == 5):\n",
      "        return \"Five\"\n",
      "    elif (n == 6):\n",
      "        return \"Six\"\n",
      "    elif (n == 7):\n",
      "        return \"Seven\"\n",
      "    elif (n == 8):\n",
      "        return \"Eight\"\n",
      "    elif (n == 9):\n",
      "        return \"Nine\"\n",
      "    elif (n == 10):\n",
      "        return \"Ten\"\n",
      "    elif (n == 11):\n",
      "        return \"Eleven\"\n",
      "    elif (n == 12):\n",
      "        return \"Twelve\"\n",
      "    elif (n == 13):\n",
      "        return \"Thirteen\"\n",
      "    elif (n == 14):\n",
      "        return \"Fourteen\"\n",
      "    elif (n == 15):\n",
      "        return \"Fifteen\"\n",
      "    elif (n == 16):\n",
      "        return \"Sixteen\"\n",
      "    elif (n == 17):\n",
      "        return \"Seventeen\"\n",
      "    elif (n == 18):\n",
      "        return \"Eighteen\"\n",
      "    elif (n == 19):\n",
      "        return \"Nineteen\"\n",
      "    elif (n == 20):\n",
      "        return \"Twenty\"\n",
      "    elif (n >= 21) & (n <= 29):\n",
      "        return \"Twenty-\" + number_to_words(n-20)\n",
      "    elif (n == 30):\n",
      "        return \"Thirty\"\n",
      "    elif (n >= 31) & (n <= 39):\n",
      "        return \"Thirty-\" + number_to_words(n-30)\n",
      "    elif (n == 40):\n",
      "        return \"Forty\"\n",
      "    elif (n >= 41) & (n <= 49):\n",
      "        return \"Forty-\" + number_to_words(n-40)\n",
      "    elif (n == 50):\n",
      "        return \"Fifty\"\n",
      "    elif (n >= 51) & (n <= 59):\n",
      "        return \"Fifty-\" + number_to_words(n-50)\n",
      "    elif (n == 60):\n",
      "        return \"Sixty\"\n",
      "    elif (n >= 61) & (n <= 69):\n",
      "        return \"Sixty-\" + number_to_words(n-60)\n",
      "    elif (n == 70):\n",
      "        return \"Seventy\"\n",
      "    elif (n >= 71) & (n <= 79):\n",
      "        return \"Seventy-\" + number_to_words(n-70)\n",
      "    elif (n == 80):\n",
      "        return \"Eighty\"\n",
      "    elif (n >= 81) & (n <= 89):\n",
      "        return \"Eighty-\" + number_to_words(n-80)\n",
      "    elif (n == 90):\n",
      "        return \"Ninety\"\n",
      "    elif (n >= 91) & (n <= 99):\n",
      "        return \"Ninety-\" + number_to_words(n-90)\n",
      "    elif (n >= 100) & (n < 1000) & ((n%100) == 0):\n",
      "        return number_to_words(n/100) + \" Hundred\"\n",
      "    elif (n >= 100) & (n <= 999):\n",
      "        return number_to_words(n/100) + \" Hundred and \" + number_to_words(n%100)\n",
      "    elif (n >= 1000) & (n < 1000000) & ((n%1000) == 0):\n",
      "        return number_to_words(n/1000) + \" Thousand\"\n",
      "    elif (n >= 1000) & (n <= 999999):\n",
      "        return number_to_words(n/1000) + \" Thousand, \" + number_to_words(n%1000)\n"
     ],
     "language": "python",
     "metadata": {},
     "outputs": []
    },
    {
     "cell_type": "code",
     "collapsed": false,
     "input": [
      "# Test our number_to_words function\n",
      "for n in range(1,1001):\n",
      "    print(\"{} {}\".format(n, number_to_words(n)))"
     ],
     "language": "python",
     "metadata": {},
     "outputs": []
    },
    {
     "cell_type": "code",
     "collapsed": false,
     "input": [
      "def count_letters(number):\n",
      "    count = 0\n",
      "    for c in number:\n",
      "        if c.isalpha():\n",
      "            count += 1\n",
      "    return count"
     ],
     "language": "python",
     "metadata": {},
     "outputs": []
    },
    {
     "cell_type": "code",
     "collapsed": false,
     "input": [
      "count_letters(number_to_words(342))"
     ],
     "language": "python",
     "metadata": {},
     "outputs": []
    },
    {
     "cell_type": "code",
     "collapsed": false,
     "input": [
      "count_letters(number_to_words(115))"
     ],
     "language": "python",
     "metadata": {},
     "outputs": []
    },
    {
     "cell_type": "code",
     "collapsed": false,
     "input": [
      "def euler_017(limit):\n",
      "    result = 0\n",
      "    for n in range(1,limit+1):\n",
      "        result += count_letters(number_to_words(n))\n",
      "    return result"
     ],
     "language": "python",
     "metadata": {},
     "outputs": []
    },
    {
     "cell_type": "code",
     "collapsed": false,
     "input": [
      "euler_017(5)"
     ],
     "language": "python",
     "metadata": {},
     "outputs": []
    },
    {
     "cell_type": "code",
     "collapsed": false,
     "input": [
      "euler_017(1000)"
     ],
     "language": "python",
     "metadata": {},
     "outputs": []
    },
    {
     "cell_type": "code",
     "collapsed": false,
     "input": [],
     "language": "python",
     "metadata": {},
     "outputs": []
    }
   ],
   "metadata": {}
  }
 ]
}