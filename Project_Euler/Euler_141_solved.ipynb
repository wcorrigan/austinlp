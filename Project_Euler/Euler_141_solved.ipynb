{
 "metadata": {
  "name": "",
  "signature": "sha256:f9b2bb19c98652235ce369c791afcf9b254ab6d991481671a509ae97dae2d38b"
 },
 "nbformat": 3,
 "nbformat_minor": 0,
 "worksheets": [
  {
   "cells": [
    {
     "cell_type": "markdown",
     "metadata": {},
     "source": [
      "<img src=\"https://projecteuler.net/themes/default/pe_logo_default.png\" alt=\"Project Euler\" align=\"left\"> \n",
      "<br>\n",
      "\n",
      "# [Problem 141 - Investigating progressive numbers, $n$, which are also square.](https://projecteuler.net/problem=141)\n",
      "====\n",
      "\n",
      "A positive integer, $n$, is divided by $d$ and the quotient and remainder are $q$ and $r$ respectively. In addition $d$, $q$, and $r$ are consecutive positive integer terms in a geometric sequence, but not necessarily in that order.\n",
      "\n",
      "For example, $58$ divided by $6$ has quotient $9$ and remainder $4$. It can also be seen that $4, 6, 9$ are consecutive terms in a geometric sequence (common ratio $3/2$).\n",
      "We will call such numbers, $n$, progressive.\n",
      "\n",
      "Some progressive numbers, such as $9$ and $10404 = 102^2$, happen to also be perfect squares.\n",
      "The sum of all progressive perfect squares below one hundred thousand is $124657$.\n",
      "\n",
      "Find the sum of all progressive perfect squares below one trillion ($10^{12}$)."
     ]
    },
    {
     "cell_type": "markdown",
     "metadata": {},
     "source": [
      "----\n",
      "\n",
      "Let's write a function that takes the size of the problem as a parameter, then verify it on the $n < 10^5$ version of the problem where already know the answer before attempting the bigger $n < 10^{12}$ problem.\n",
      "\n",
      "----"
     ]
    },
    {
     "cell_type": "markdown",
     "metadata": {},
     "source": [
      "So we're looking for\n",
      "$$\\DeclareMathOperator{\\rem}{remainder}$$\n",
      "$$\\frac{n}{d} = q \\rem r$$\n",
      "\n",
      "where $n$ is a perfect square, and $d$, $q$ & $r$ are in a geometric progression.  Rearranging we get\n",
      "\n",
      "$$n = d*q + r$$\n",
      "\n",
      "which shows that $d$ and $q$ are interchangable.  We'll arbitarily decide that $d$ is greater than $q$.  $r$ is the remainder when $n$ is divided by $d$ or $q$, so it must be less than both $d$ and $q$.  Thus we have...\n",
      "\n",
      "$$d > q > r$$\n",
      "\n",
      "A simple algorithm would be to try all values of $n$ that are prefect squares, and test all values of $q$ up to $\\sqrt{n}$ to see if they yield $d$, $q$ & $r$ in a geometric sequence."
     ]
    },
    {
     "cell_type": "code",
     "collapsed": false,
     "input": [
      "# Maybe insert code here to show how unacceptable the\n",
      "# runtime will be with the straightforward approach"
     ],
     "language": "python",
     "metadata": {},
     "outputs": []
    },
    {
     "cell_type": "markdown",
     "metadata": {},
     "source": [
      "Unfortunately, there are $10^6$ perfect square values of $n$ below $10^{12}$, and we'd have to try $\\sqrt{n}$ different $q$s for each one, which works out to be about $0.5*10^{12}$ candidates we'd have to test.  This seems unlikely to be fast enough for our needs.  We need a better algorithm.\n",
      "\n",
      "Let's turn the problem around and generate geometric sequences that yield $n$ less than $10^{12}$ to see if that is more practical.\n",
      "\n",
      "Since $d$, $q$ & $r$ are a geometric sequence, we have\n",
      "\n",
      "$$d = (\\frac{a}{b}) q = (\\frac{a^2}{b^2}) r$$\n",
      "\n",
      "We can generate these sequences by picking valid values of $a$, $b$ and $r$.  Luckily, there are lots of constraints on these values that limit the number of valid geometric sequences.\n",
      "\n",
      "In order to avoid repeating the same geometric sequence, we have to have $(\\dfrac{a}{b})$ in its simplest form, so $a$ and $b$ can share no common factors (i.e. $a$ and $b$ must be relatively prime to each other, or $\\gcd(a, b) = 1$).\n",
      "\n",
      "Next, $r$ must be less than $\\sqrt{n}$ because when $(\\dfrac{a}{b})$ is just slightly larger than 1, we get $n = d*q + r \\approx r^2 + r$.\n",
      "\n",
      "Then, $a$ must be greater than $1$, otherwise we won't satisify $d > q > r$.\n",
      "\n",
      "Finally, $b^2$ must be a factor of $r$, which significantly limits the possible values of $b$."
     ]
    },
    {
     "cell_type": "code",
     "collapsed": false,
     "input": [
      "def gcd(a,b):\n",
      "    if (b > a):\n",
      "        a,b = b,a\n",
      "    while b:\n",
      "        a, b = b, a%b\n",
      "    return a"
     ],
     "language": "python",
     "metadata": {},
     "outputs": []
    },
    {
     "cell_type": "code",
     "collapsed": false,
     "input": [
      "def is_square(n):\n",
      "    i = 1\n",
      "    lower = 1\n",
      "    while (i**2 < n):\n",
      "        lower = i\n",
      "        i *= 2\n",
      "\n",
      "    upper = i\n",
      "    while ((upper**2 > n) & (lower**2 < n) & ((upper-lower) > 1)):\n",
      "        mid = (upper + lower) / 2\n",
      "        if (mid**2 > n):\n",
      "            upper = mid\n",
      "        else:\n",
      "            lower = mid\n",
      "\n",
      "    if ((lower**2 == n) or (upper**2 == n)):\n",
      "        return True\n",
      "    else:\n",
      "        return False"
     ],
     "language": "python",
     "metadata": {},
     "outputs": []
    },
    {
     "cell_type": "code",
     "collapsed": false,
     "input": [
      "def generate_candidates(n_limit):\n",
      "    r = 1\n",
      "    while ((r**2 + r) < n_limit):\n",
      "        for (n, d, q, r, a, b) in generate_candidates_given_r(r, n_limit): \n",
      "            yield (n, d, q, r, a, b)\n",
      "        r += 1"
     ],
     "language": "python",
     "metadata": {},
     "outputs": []
    },
    {
     "cell_type": "code",
     "collapsed": false,
     "input": [
      "def generate_candidates_given_r(r, n_limit):\n",
      "    b = 1\n",
      "    while True:  # Loop through values of b\n",
      "        a = b+1\n",
      "        while ((r % (b**2)) == 0):  # Loop through values of a\n",
      "            if (gcd(a,b) == 1):\n",
      "                q = r*a/b\n",
      "                d = r*a*a/b/b\n",
      "                n = d*q + r\n",
      "                if (n < n_limit):\n",
      "                    yield (n, d, q, r, a, b)\n",
      "                else:\n",
      "                    break\n",
      "            a += 1\n",
      "\n",
      "        b += 1\n",
      "        if (b**2 > r):\n",
      "            break"
     ],
     "language": "python",
     "metadata": {},
     "outputs": []
    },
    {
     "cell_type": "code",
     "collapsed": false,
     "input": [
      "def solve_problem(n_limit, debug=False):\n",
      "    answer = 0\n",
      "    for (n, d, q, r, a, b) in generate_candidates(n_limit):\n",
      "        if is_square(n):\n",
      "            answer += n\n",
      "            if debug:\n",
      "                print(\"{n:5} = {d}*{q} + {r}    (ratio = {a}/{b})\".format(n=n, d=d, q=q, r=r, a=a, b=b))\n",
      "    return answer"
     ],
     "language": "python",
     "metadata": {},
     "outputs": []
    },
    {
     "cell_type": "code",
     "collapsed": false,
     "input": [
      "solve_problem(100000, debug=True)  # solution should be 124657"
     ],
     "language": "python",
     "metadata": {},
     "outputs": []
    },
    {
     "cell_type": "code",
     "collapsed": false,
     "input": [
      "# Measure runtimes\n",
      "%time print(solve_problem(100000))  # n < 10^5\n",
      "print(\"================================================================\")\n",
      "\n",
      "%time print(solve_problem(1000000))  # n < 10^6\n",
      "print(\"================================================================\")\n",
      "\n",
      "%time print(solve_problem(10000000))  # n < 10^7\n",
      "print(\"================================================================\")\n",
      "\n",
      "%time print(solve_problem(100000000))  # n < 10^8\n",
      "print(\"================================================================\")\n",
      "\n",
      "%time print(solve_problem(1000000000))  # n < 10^9\n",
      "print(\"================================================================\")"
     ],
     "language": "python",
     "metadata": {},
     "outputs": []
    },
    {
     "cell_type": "markdown",
     "metadata": {},
     "source": [
      "Let's evaluate runtimes\n",
      "====\n",
      "\n",
      "With $n = 10^5$, I saw 11.6 ms runtime.\n",
      "\n",
      "With $n = 10^6$, I saw 46.9 ms runtime, or 4.0 times slower.\n",
      "\n",
      "With $n = 10^7$, I saw 192 ms runtime, or 4.1 times slower.\n",
      "\n",
      "With $n = 10^8$, I saw 732 ms runtime, or 3.8 times slower.\n",
      "\n",
      "With $n = 10^9$, I saw 3.31 s runtime, or 4.5 times slower.\n",
      "\n",
      "Let's assume a 4x slowdown for a 10x larger problem.\n",
      "\n",
      "Estimated runtime with $n = 10^{12}$ would be about 3.5 minutes.\n",
      "\n",
      "The rules of Project Euler say you should be able to solve the problem in < 1 minute, but 3.5 minutes is close enough by my book.  Normally, I would just submit the answer and see if it is correct, but since we're trying to make this interesting, lets take a look and see if we can spot any easy optimizations."
     ]
    },
    {
     "cell_type": "code",
     "collapsed": false,
     "input": [
      "# Aside, run the full problem and see how good my 3.5 minute estimate is\n",
      "%time print(solve_problem(1000000000000))  # n < 10^12"
     ],
     "language": "python",
     "metadata": {},
     "outputs": []
    },
    {
     "cell_type": "markdown",
     "metadata": {},
     "source": [
      "Looks like my estimate was off.  It took about 5.5 minutes to run.  But we weren't as far off as it looks because assuming a 4.5x slowdown for a 10x larger problem would have given us pretty much the right answer.\n",
      "\n",
      "For a truly big problem, we probably wouldn't be able to just run it and see - when an experiment takes hours or even days to run we have to be careful to minimize the number of times we run the full problem.\n",
      "\n",
      "\n",
      "Let's profile our solution (on a smaller version of the problem) and see where we're spending runtime."
     ]
    },
    {
     "cell_type": "code",
     "collapsed": false,
     "input": [
      "%prun print(solve_problem(100000000))  # n < 10^8"
     ],
     "language": "python",
     "metadata": {},
     "outputs": []
    },
    {
     "cell_type": "markdown",
     "metadata": {},
     "source": [
      "We're spending about 50% of our runtime in the is_square() function.\n",
      "\n",
      "Our is_square(n) function uses a binary search to find the value that when squared equals $n$, and goes to awkward lenghts to avoid just converting $n$ to float and calculating the square root very quickly using the floating point hardware in our CPU.  It does this because there are lots of hairy corner cases we'd need to look out for when we switch to float, but there is probably a better algorithm available.\n",
      "\n",
      "I'm going to try an approach based on the isqrt() function mentioned on: https://en.wikipedia.org/wiki/Integer_square_root"
     ]
    },
    {
     "cell_type": "code",
     "collapsed": false,
     "input": [
      "# from: https://stackoverflow.com/questions/15390807/integer-square-root-in-python\n",
      "# Calculates the integer x such that x^2 is <= n\n",
      "def isqrt(n):\n",
      "    x = n\n",
      "    y = (x + n // x) // 2\n",
      "    while y < x:\n",
      "        x = y\n",
      "        y = (x + n // x) // 2\n",
      "    return x"
     ],
     "language": "python",
     "metadata": {},
     "outputs": []
    },
    {
     "cell_type": "code",
     "collapsed": false,
     "input": [
      "# And here's our new is_square function that uses isqrt()\n",
      "def is_square(n):\n",
      "    x = isqrt(n)\n",
      "    if (x**2 == n):\n",
      "        return True\n",
      "    return False"
     ],
     "language": "python",
     "metadata": {},
     "outputs": []
    },
    {
     "cell_type": "code",
     "collapsed": false,
     "input": [
      "# Measure runtimes\n",
      "%time print(solve_problem(100000))  # n < 10^5\n",
      "print(\"================================================================\")\n",
      "\n",
      "%time print(solve_problem(1000000))  # n < 10^6\n",
      "print(\"================================================================\")\n",
      "\n",
      "%time print(solve_problem(10000000))  # n < 10^7\n",
      "print(\"================================================================\")\n",
      "\n",
      "%time print(solve_problem(100000000))  # n < 10^8\n",
      "print(\"================================================================\")\n",
      "\n",
      "%time print(solve_problem(1000000000))  # n < 10^9\n",
      "print(\"================================================================\")"
     ],
     "language": "python",
     "metadata": {},
     "outputs": []
    },
    {
     "cell_type": "markdown",
     "metadata": {},
     "source": [
      "Re-evaluate runtimes\n",
      "====\n",
      "\n",
      "With $n = 10^5$, I saw 6.8 ms runtime.\n",
      "\n",
      "With $n = 10^6$, I saw 33.6 ms runtime, or 4.9 times slower.\n",
      "\n",
      "With $n = 10^7$, I saw 146 ms runtime, or 4.3 times slower.\n",
      "\n",
      "With $n = 10^8$, I saw 504 ms runtime, or 3.5 times slower.\n",
      "\n",
      "With $n = 10^9$, I saw 2.43 ms runtime, or 4.8 times slower.\n",
      "\n",
      "So our algorithm is about 1.3x faster, but it scales maybe a little worse than before.\n",
      "\n",
      "Estimated runtime with $n = 10^{12}$ would be about 2.5 minutes.\n",
      "\n",
      "This is definitely close enough to submit to Project Euler, but before we do that, let's profile one more time just to see where we're spending our runtime."
     ]
    },
    {
     "cell_type": "code",
     "collapsed": false,
     "input": [
      "%prun print(solve_problem(100000000))  # n < 10^8"
     ],
     "language": "python",
     "metadata": {},
     "outputs": []
    },
    {
     "cell_type": "markdown",
     "metadata": {},
     "source": [
      "Now our is_square() code is about 25% of runtime, and the generate_candidates_given_r() function is the majority of the runtime.\n",
      "\n",
      "OK, its time to run our code and see if we got the right answer"
     ]
    },
    {
     "cell_type": "code",
     "collapsed": false,
     "input": [
      "%time print(solve_problem(1000000000000))  # n < 10^12"
     ],
     "language": "python",
     "metadata": {},
     "outputs": []
    },
    {
     "cell_type": "markdown",
     "metadata": {},
     "source": [
      "Let's submit this, and see if Project Euler agrees with our answer.\n",
      "\n",
      "In one test, the execution time has gone down from 6:18 to 5:04, which is a reduction of about 20%.  But we're still quite a bit slower than our target 1 minute.  Can you come up with optimizations that will make this calculation run faster?\n"
     ]
    },
    {
     "cell_type": "code",
     "collapsed": false,
     "input": [],
     "language": "python",
     "metadata": {},
     "outputs": []
    }
   ],
   "metadata": {}
  }
 ]
}