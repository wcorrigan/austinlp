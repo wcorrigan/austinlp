{
 "metadata": {
  "name": "",
  "signature": "sha256:8e3255065d97933341c76a80676a2b09b7ae464c11366757383a8223e3954311"
 },
 "nbformat": 3,
 "nbformat_minor": 0,
 "worksheets": [
  {
   "cells": [
    {
     "cell_type": "markdown",
     "metadata": {},
     "source": [
      "<img src=\"https://projecteuler.net/themes/default/pe_logo_default.png\" alt=\"Project Euler\" align=\"left\"> \n",
      "<br>\n",
      "\n",
      "# [Problem 16 - Power digit sum.](https://projecteuler.net/problem=16)\n",
      "\n",
      "\n",
      "\n",
      "$2^{15} = 32768$ and the sum of its digits is $3 + 2 + 7 + 6 + 8 = 26$.\n",
      "\n",
      "What is the sum of the digits of the number $2^{1000}$?\n"
     ]
    },
    {
     "cell_type": "markdown",
     "metadata": {},
     "source": [
      "----\n",
      "Python's ability to deal with large integers will help us significantly here.\n",
      "\n",
      "Here's the plan of attack\n",
      "- Calculate the result of 2^N\n",
      "- Convert this result to a string\n",
      "- Step through each character in this result string\n",
      "- Convert each character back to an integer, and add it to our running total"
     ]
    },
    {
     "cell_type": "code",
     "collapsed": false,
     "input": [
      "# Write a function to calculate the result, convert to a string, then sum the digits of the string\n",
      "def euler_016(n):\n",
      "    result = 2**n\n",
      "    string_result = str(result)\n",
      "    answer = 0\n",
      "    for c in string_result:\n",
      "        answer += int(c)\n",
      "    return answer"
     ],
     "language": "python",
     "metadata": {},
     "outputs": []
    },
    {
     "cell_type": "code",
     "collapsed": false,
     "input": [
      "# Test the function with the given example\n",
      "euler_016(15)\n",
      "# The result should be 26"
     ],
     "language": "python",
     "metadata": {},
     "outputs": []
    },
    {
     "cell_type": "code",
     "collapsed": false,
     "input": [
      "# Run the function to solve our problem\n",
      "euler_016(1000)"
     ],
     "language": "python",
     "metadata": {},
     "outputs": []
    },
    {
     "cell_type": "code",
     "collapsed": false,
     "input": [],
     "language": "python",
     "metadata": {},
     "outputs": []
    }
   ],
   "metadata": {}
  }
 ]
}