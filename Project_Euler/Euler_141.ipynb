{
 "metadata": {
  "name": "",
  "signature": "sha256:b00ba181108f7c2db13b2a20f4755a3bebac6183a339b298238e7df8b338f730"
 },
 "nbformat": 3,
 "nbformat_minor": 0,
 "worksheets": [
  {
   "cells": [
    {
     "cell_type": "markdown",
     "metadata": {},
     "source": [
      "<img src=\"https://projecteuler.net/themes/default/pe_logo_default.png\" alt=\"Project Euler\" align=\"left\"> \n",
      "<br>\n",
      "\n",
      "# [Problem 141 - Investigating progressive numbers, $n$, which are also square.](https://projecteuler.net/problem=141)\n",
      "====\n",
      "\n",
      "A positive integer, $n$, is divided by $d$ and the quotient and remainder are $q$ and $r$ respectively. In addition $d$, $q$, and $r$ are consecutive positive integer terms in a geometric sequence, but not necessarily in that order.\n",
      "\n",
      "For example, $58$ divided by $6$ has quotient $9$ and remainder $4$. It can also be seen that $4, 6, 9$ are consecutive terms in a geometric sequence (common ratio $3/2$).\n",
      "We will call such numbers, $n$, progressive.\n",
      "\n",
      "Some progressive numbers, such as $9$ and $10404 = 102^2$, happen to also be perfect squares.\n",
      "The sum of all progressive perfect squares below one hundred thousand is $124657$.\n",
      "\n",
      "Find the sum of all progressive perfect squares below one trillion ($10^{12}$)."
     ]
    },
    {
     "cell_type": "code",
     "collapsed": false,
     "input": [],
     "language": "python",
     "metadata": {},
     "outputs": []
    }
   ],
   "metadata": {}
  }
 ]
}