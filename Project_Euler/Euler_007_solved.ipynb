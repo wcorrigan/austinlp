{
 "metadata": {
  "name": "",
  "signature": "sha256:63bbb49d192fecc6818a3260475e753fe2292f3c88911056884c9ce7afc25315"
 },
 "nbformat": 3,
 "nbformat_minor": 0,
 "worksheets": [
  {
   "cells": [
    {
     "cell_type": "markdown",
     "metadata": {},
     "source": [
      "<img src=\"https://projecteuler.net/themes/default/pe_logo_default.png\" alt=\"Project Euler\" align=\"left\"> \n",
      "<br>\n",
      "\n",
      "# [Problem 7 - 10,001st prime.](https://projecteuler.net/problem=7)\n",
      "\n",
      "By listing the first six prime numbers: 2, 3, 5, 7, 11, and 13, we can see that the 6th prime is 13.\n",
      "\n",
      "What is the 10,001st prime number?"
     ]
    },
    {
     "cell_type": "markdown",
     "metadata": {},
     "source": [
      "----\n",
      "\n",
      "Aah, we finally get to prime numbers.  Pay attention, because lots of later Project Euler problems will use prime numbers, and the code we write here will prove useful again and again.\n",
      "\n",
      "----"
     ]
    },
    {
     "cell_type": "markdown",
     "metadata": {},
     "source": [
      "We're going to use an algorithm called the Sieve of Eratosthenes.  The algorithm is well worth understanding, and there is a nice graphical demonstration of how it works in the [Wikipedia article](https://en.wikipedia.org/wiki/Sieve_of_Eratosthenes).\n"
     ]
    },
    {
     "cell_type": "code",
     "collapsed": false,
     "input": [
      "LIMIT_PRIME = 125000  # Largest number we'll search\n",
      "prime_table = [1]*LIMIT_PRIME  # Table of largest factor\n",
      "\n",
      "def calculate_primes():\n",
      "    i = 2\n",
      "    while (i**2 < LIMIT_PRIME):\n",
      "        if (prime_table[i] == 1):\n",
      "            j = i**2\n",
      "            while (j < LIMIT_PRIME):\n",
      "                prime_table[j] = i\n",
      "                j += i\n",
      "        i += 1\n",
      "\n",
      "calculate_primes()"
     ],
     "language": "python",
     "metadata": {},
     "outputs": []
    },
    {
     "cell_type": "markdown",
     "metadata": {},
     "source": [
      "Now we've got a table in memory that contains the factors.  prime_table[n] contains 1 if n is a prime, and a factor of n if n is not a prime.\n",
      "\n",
      "Let's look at the first few entries in the table"
     ]
    },
    {
     "cell_type": "code",
     "collapsed": false,
     "input": [
      "for i in range(20):\n",
      "    print(\"prime_table[{i}] = {x}\".format(i=i, x=prime_table[i])),\n",
      "    if prime_table[i] == 1:\n",
      "        print(\"  {i} is a prime number\".format(i=i))\n",
      "    else:\n",
      "        print(\"  {i} is not a prime number, it's largest factor is {x}\".format(i=i, x=prime_table[i]))"
     ],
     "language": "python",
     "metadata": {},
     "outputs": []
    },
    {
     "cell_type": "markdown",
     "metadata": {},
     "source": [
      "We can pretty easily use this data structure to create a function that lists the prime factors of a number.  This is not required for this problem, but we'll need to do stuff like this in later Project Euler problems."
     ]
    },
    {
     "cell_type": "code",
     "collapsed": false,
     "input": [
      "def factors(n):\n",
      "    factor_list = []\n",
      "    while prime_table[n] != 1:\n",
      "        factor_list.append(prime_table[n])\n",
      "        n /= prime_table[n]\n",
      "    factor_list.append(n)\n",
      "    return factor_list"
     ],
     "language": "python",
     "metadata": {},
     "outputs": []
    },
    {
     "cell_type": "code",
     "collapsed": false,
     "input": [
      "# Test our function out\n",
      "for i in [3, 5, 12, 15, 18, 19]:\n",
      "    print(\"factors({i}) = {f}\".format(i=i, f=factors(i)))"
     ],
     "language": "python",
     "metadata": {},
     "outputs": []
    },
    {
     "cell_type": "markdown",
     "metadata": {},
     "source": [
      "OK, enough playing around, let's solve our problem.  What is the 10,001st prime?"
     ]
    },
    {
     "cell_type": "code",
     "collapsed": false,
     "input": [
      "cnt = 0\n",
      "i = 1\n",
      "while (cnt < 10001):\n",
      "    i += 1\n",
      "    if (prime_table[i] == 1):\n",
      "        cnt += 1\n",
      "print \"Answer is\", i"
     ],
     "language": "python",
     "metadata": {},
     "outputs": []
    },
    {
     "cell_type": "code",
     "collapsed": false,
     "input": [],
     "language": "python",
     "metadata": {},
     "outputs": []
    }
   ],
   "metadata": {}
  }
 ]
}