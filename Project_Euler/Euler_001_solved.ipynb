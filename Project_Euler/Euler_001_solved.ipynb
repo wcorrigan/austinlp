{
 "metadata": {
  "name": "",
  "signature": "sha256:e7a201239f9ff6c13d968839ceb1ec02b35b2b6e8b90c42c345f00931614f355"
 },
 "nbformat": 3,
 "nbformat_minor": 0,
 "worksheets": [
  {
   "cells": [
    {
     "cell_type": "markdown",
     "metadata": {},
     "source": [
      "<img src=\"https://projecteuler.net/themes/default/pe_logo_default.png\" alt=\"Project Euler\" align=\"left\"> \n",
      "<br>\n",
      "\n",
      "# [Problem 1 - Multiples of 3 and 5.](https://projecteuler.net/problem=1)\n",
      "\n",
      "If we list all the natural numbers below 10 that are multiples of 3 or 5, we get 3, 5, 6 and 9. The sum of these multiples is 23.\n",
      "\n",
      "Find the sum of all the multiples of 3 or 5 below 1000.\n"
     ]
    },
    {
     "cell_type": "markdown",
     "metadata": {},
     "source": [
      "----\n",
      "Note - we are supplied with an answer for a smaller version of the problem = the solution up to 10 is 23.\n",
      "\n",
      "With a relatively easy problem like this one, it probably isn't necessary to test our solution on a smaller version of the problem, but with later problems that are significantly harder this will become essential.\n",
      "\n",
      "We will solve the problem using a variable called size, then we will be able to test our solution with the smaller version of the problem before running it on the full size problem.\n",
      "\n",
      "----"
     ]
    },
    {
     "cell_type": "markdown",
     "metadata": {},
     "source": [
      "First approach to the problem - using a for loop\n",
      "---"
     ]
    },
    {
     "cell_type": "code",
     "collapsed": false,
     "input": [
      "def euler_1(size):\n",
      "    answer = 0\n",
      "    for x in range(1,size):\n",
      "        if (((x % 3) == 0) or\n",
      "            ((x % 5) == 0)):\n",
      "            answer += x\n",
      "    return x"
     ],
     "language": "python",
     "metadata": {},
     "outputs": []
    },
    {
     "cell_type": "code",
     "collapsed": false,
     "input": [
      "# Now, lets try it out\n",
      "print euler_1(10)\n",
      "# our answer should be 23"
     ],
     "language": "python",
     "metadata": {},
     "outputs": []
    },
    {
     "cell_type": "code",
     "collapsed": false,
     "input": [
      "# Woops, something is wrong here, it's time to do some debugging\n",
      "# I'm starting off debugging by adding print statements to tell me what is going on\n",
      "def euler_1(size):\n",
      "    print(\"Running euler_1({}), answer = sum of\".format(size)),\n",
      "    answer = 0\n",
      "    for x in range(1,size):\n",
      "        if (((x % 3) == 0) or\n",
      "            ((x % 5) == 0)):\n",
      "            answer += x\n",
      "            print(\"{},\".format(x)),\n",
      "    print(\"\")\n",
      "    return x"
     ],
     "language": "python",
     "metadata": {},
     "outputs": []
    },
    {
     "cell_type": "code",
     "collapsed": false,
     "input": [
      "print(euler_1(10))"
     ],
     "language": "python",
     "metadata": {},
     "outputs": []
    },
    {
     "cell_type": "code",
     "collapsed": false,
     "input": [
      "# Ahah, we're returning x, not our answer.  Let's fix that...\n",
      "def euler_1(size):\n",
      "    print(\"Running solution_1({}), answer = sum of \".format(size)),\n",
      "    answer = 0\n",
      "    for x in range(1,size):\n",
      "        if (((x % 3) == 0) or\n",
      "            ((x % 5) == 0)):\n",
      "            answer += x\n",
      "            print(\"{},\".format(x)),\n",
      "    print(\"\")\n",
      "    return answer"
     ],
     "language": "python",
     "metadata": {},
     "outputs": []
    },
    {
     "cell_type": "code",
     "collapsed": false,
     "input": [
      "# Test again \n",
      "print(\"euler_1({}) = {}\".format(10, euler_1(10)))\n",
      "print(\"euler_1({}) = {}\".format(15, euler_1(15)))"
     ],
     "language": "python",
     "metadata": {},
     "outputs": []
    },
    {
     "cell_type": "code",
     "collapsed": false,
     "input": [
      "# All that debug information is getting in the way, but what if I delete it and need it\n",
      "# again later?  Let's make the debug stuff optional\n",
      "def euler_1(size, debug=False):\n",
      "    if debug:\n",
      "        print(\"Running solution_1({})\".format(size)),\n",
      "        print(\"Answer = sum of\"),\n",
      "    answer = 0\n",
      "    for x in range(1,size):\n",
      "        if (((x % 3) == 0) or\n",
      "            ((x % 5) == 0)):\n",
      "            answer += x\n",
      "            if debug:\n",
      "                print(\"{},\".format(x)),\n",
      "    if debug:\n",
      "        print(\"\")\n",
      "    return answer"
     ],
     "language": "python",
     "metadata": {},
     "outputs": []
    },
    {
     "cell_type": "code",
     "collapsed": false,
     "input": [
      "# Test again with debug turned on\n",
      "print(\"euler_1({}) = {}\".format(10, euler_1(10, debug=True)))\n",
      "print(\"euler_1({}) = {}\".format(15, euler_1(15, debug=True)))"
     ],
     "language": "python",
     "metadata": {},
     "outputs": []
    },
    {
     "cell_type": "code",
     "collapsed": false,
     "input": [
      "# Test again with debug turned off\n",
      "print(\"euler_1({}) = {}\".format(10, euler_1(10)))\n",
      "print(\"euler_1({}) = {}\".format(15, euler_1(15)))"
     ],
     "language": "python",
     "metadata": {},
     "outputs": []
    },
    {
     "cell_type": "code",
     "collapsed": false,
     "input": [
      "# And finally, let's calculate the answer\n",
      "print(\"euler_1({}) = {}\".format(1000, euler_1(1000)))"
     ],
     "language": "python",
     "metadata": {},
     "outputs": []
    },
    {
     "cell_type": "code",
     "collapsed": false,
     "input": [
      "# Out of curiosity, lets see how fast our solution is\n",
      "%time euler_1(1000)"
     ],
     "language": "python",
     "metadata": {},
     "outputs": []
    },
    {
     "cell_type": "code",
     "collapsed": false,
     "input": [
      "# What if we try to solve a 100x larger version of the problem?\n",
      "%time euler_1(100000)"
     ],
     "language": "python",
     "metadata": {},
     "outputs": []
    },
    {
     "cell_type": "code",
     "collapsed": false,
     "input": [
      "# 100x bigger again?\n",
      "%time euler_1(10000000)"
     ],
     "language": "python",
     "metadata": {},
     "outputs": []
    },
    {
     "cell_type": "markdown",
     "metadata": {},
     "source": [
      "Second approach to the problem - use a formula\n",
      "----\n",
      "\n",
      "The answer we're looking for is...\n",
      "\n",
      "Sum of all multiples of 3 = 3 + 6 + 9 + 12 + <b>15</b> + 18 + 21 + 24 + 27 + <b>30</b> + 33 + ...\n",
      "\n",
      "Sum of all multiples of 5 = 5 + 10 + <b>15</b> + 20 + 25 + <b>30</b> + 35 + ...\n",
      "\n",
      "But we're double counting numbers that are multiples of 3 and 5 (or multiples of 3*5 = 15) marked in <b>bold</b>.  So we need to subtract these out of the formula.\n",
      "\n",
      "Sum of all multiples of 3*5 = 15 + 30 + 45 + ..."
     ]
    },
    {
     "cell_type": "markdown",
     "metadata": {},
     "source": [
      "Now the sum 1 + 2 + 3 + ... + n is equal to n(n+1)/2.\n",
      "\n",
      "So for a problem of size 1000, we're looking for...\n",
      "\n",
      "The sum of all multiples of 3 = 3 * (1 + 2 + 3 + ... + 333)\n",
      "\n",
      "plus the sum of all multiples of 5 = 5 * (1 + 2 + 3 + ... + 199)\n",
      "\n",
      "minus the sum of all multiples of 15 = 15 * (1 + 2 + 3 + ... + 66)"
     ]
    },
    {
     "cell_type": "code",
     "collapsed": false,
     "input": [
      "def sum_n(n):\n",
      "    return n * (n+1) / 2\n",
      "\n",
      "answer = 3*sum_n(333) + 5*sum_n(199) - 15*sum_n(66)\n",
      "print answer"
     ],
     "language": "python",
     "metadata": {},
     "outputs": []
    },
    {
     "cell_type": "code",
     "collapsed": false,
     "input": [
      "def euler_1a(size, debug=False):\n",
      "    if debug:\n",
      "        print(\"Running solution_1a({})\".format(size)),\n",
      "        print(\"Answer = 3*sum_n({}) + 5*sum_n({}) - 15*sum_n({})\".format((size-1)/3, (size-1)/5, (size-1)/15))\n",
      "    return 3*sum_n((size-1)/3) + 5*sum_n((size-1)/5) - 15*sum_n((size-1)/15)"
     ],
     "language": "python",
     "metadata": {},
     "outputs": []
    },
    {
     "cell_type": "code",
     "collapsed": false,
     "input": [
      "# Test with debug turned on\n",
      "print(\"euler_1a({}) = {}\".format(10, euler_1a(10, debug=True)))\n",
      "print(\"euler_1a({}) = {}\".format(15, euler_1a(15, debug=True)))\n",
      "print(\"euler_1a({}) = {}\".format(1000, euler_1a(1000, debug=True)))"
     ],
     "language": "python",
     "metadata": {},
     "outputs": []
    },
    {
     "cell_type": "code",
     "collapsed": false,
     "input": [
      "# Now lets test the speed again, and see how it scales with problem size\n",
      "# First test with size = 1000\n",
      "%time euler_1a(1000)"
     ],
     "language": "python",
     "metadata": {},
     "outputs": []
    },
    {
     "cell_type": "code",
     "collapsed": false,
     "input": [
      "# And already we're faster than the previous solution.\n",
      "# Let's test with a 100x larger problem\n",
      "%time euler_1a(100000)"
     ],
     "language": "python",
     "metadata": {},
     "outputs": []
    },
    {
     "cell_type": "code",
     "collapsed": false,
     "input": [
      "# Essentially the same speed as the smaller problem\n",
      "# Finally, let's test the biggest version \n",
      "%time euler_1a(10000000)"
     ],
     "language": "python",
     "metadata": {},
     "outputs": []
    },
    {
     "cell_type": "markdown",
     "metadata": {},
     "source": [
      "The above timing experiments touch on a subject in Computer Science called [Time Complexity](https://en.wikipedia.org/wiki/Time_complexity).\n",
      "\n",
      "The first version of our solution was a linear time solution, often written as O(n).\n",
      "\n",
      "The second version is a constant time solution, often written as O(1).\n",
      "\n",
      "There is a related subject called Space Complexity which refers to how much storage space your algorithm required.\n",
      "\n",
      "When you are dealing with very large problems, time & space complexity can become important issues, and a more complex but more efficient algorithm can have a huge impact on the solvability of the problem you are working on.  These concepts will become more important if you try some of the harder Project Euler problems."
     ]
    }
   ],
   "metadata": {}
  }
 ]
}