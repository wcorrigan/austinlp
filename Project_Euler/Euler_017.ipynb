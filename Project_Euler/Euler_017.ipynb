{
 "metadata": {
  "name": "",
  "signature": "sha256:9f3668017ada49a9aaf1db8999a51b6fd9fe36a891faccd1b479bda44878f4d2"
 },
 "nbformat": 3,
 "nbformat_minor": 0,
 "worksheets": [
  {
   "cells": [
    {
     "cell_type": "markdown",
     "metadata": {},
     "source": [
      "<img src=\"https://projecteuler.net/themes/default/pe_logo_default.png\" alt=\"Project Euler\" align=\"left\"> \n",
      "<br>\n",
      "\n",
      "# [Problem 17 - Number letter counts.](https://projecteuler.net/problem=17)\n",
      "\n",
      "\n",
      "\n",
      "If the numbers $1$ to $5$ are written out in words: one, two, three, four, five, then there are $3 + 3 + 5 + 4 + 4 = 19$ letters used in total.\n",
      "\n",
      "If all the numbers from $1$ to $1000$ (one thousand) inclusive were written out in words, how many letters would be used?\n",
      "\n",
      "**NOTE**: Do not count spaces or hyphens. For example, 342 (three hundred and forty-two) contains 23 letters and 115 (one hundred and fifteen) contains 20 letters. The use of \"and\" when writing out numbers is in compliance with British usage.\n"
     ]
    },
    {
     "cell_type": "code",
     "collapsed": false,
     "input": [],
     "language": "python",
     "metadata": {},
     "outputs": []
    }
   ],
   "metadata": {}
  }
 ]
}