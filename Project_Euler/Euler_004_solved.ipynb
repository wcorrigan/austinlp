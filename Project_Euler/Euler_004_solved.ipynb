{
 "metadata": {
  "name": "",
  "signature": "sha256:60ce9d73f2e50e8ff15e2c2a5fec212af09841ef07c71f6f5948061b8f064c12"
 },
 "nbformat": 3,
 "nbformat_minor": 0,
 "worksheets": [
  {
   "cells": [
    {
     "cell_type": "markdown",
     "metadata": {},
     "source": [
      "<img src=\"https://projecteuler.net/themes/default/pe_logo_default.png\" alt=\"Project Euler\" align=\"left\"> \n",
      "<br>\n",
      "\n",
      "# [Problem 4 - Largest palindrome product.](https://projecteuler.net/problem=4)\n",
      "\n",
      "A palindromic number reads the same both ways. The largest palindrome made from the product of two 2-digit numbers is $9009 = 91 \u00d7 99$.\n",
      "\n",
      "Find the largest palindrome made from the product of two 3-digit numbers.\n"
     ]
    },
    {
     "cell_type": "markdown",
     "metadata": {},
     "source": [
      "----\n",
      "\n",
      "Once again, we are supplied with a example solution for a smaller version of the problem.  We should test our solution code with this smaller version before we try the larger version.\n",
      "\n",
      "----"
     ]
    },
    {
     "cell_type": "markdown",
     "metadata": {},
     "source": [
      "First, we'll need a function to test if a number is a palindrome\n",
      "---"
     ]
    },
    {
     "cell_type": "code",
     "collapsed": false,
     "input": [
      "def is_palindrome(num):\n",
      "    snum = \"{}\".format(num)\n",
      "    lnum = len(snum)\n",
      "    for i in range(lnum/2):\n",
      "        if (snum[i] != snum[-i]):\n",
      "            return False\n",
      "    return True"
     ],
     "language": "python",
     "metadata": {},
     "outputs": []
    },
    {
     "cell_type": "code",
     "collapsed": false,
     "input": [
      "# Now lets test our is_palindrome() function\n",
      "assert is_palindrome(454) == True\n",
      "assert is_palindrome(455) == False\n",
      "assert is_palindrome(1) == True\n",
      "assert is_palindrome(12) == False\n",
      "assert is_palindrome(4567) == False\n",
      "assert is_palindrome(4554) == True\n",
      "assert is_palindrome(45654) == True\n",
      "assert is_palindrome(45678) == False"
     ],
     "language": "python",
     "metadata": {},
     "outputs": []
    },
    {
     "cell_type": "markdown",
     "metadata": {},
     "source": [
      "Oops, something is wrong.  Let's do some debug"
     ]
    },
    {
     "cell_type": "code",
     "collapsed": false,
     "input": [
      "# I suspect a problem with string indices.\n",
      "# Here's some test code to help us debug\n",
      "num = 455\n",
      "snum = \"{}\".format(num)\n",
      "print snum, len(snum)/2, range(len(snum)/2)\n",
      "for i in range(len(snum)/2):\n",
      "    print \"snum[{}] = {}, snum[{}] = {}\".format(i, snum[i], -i, snum[-i])"
     ],
     "language": "python",
     "metadata": {},
     "outputs": []
    },
    {
     "cell_type": "code",
     "collapsed": false,
     "input": [
      "# fixed is_palindrome function\n",
      "def is_palindrome(num):\n",
      "    snum = \"{}\".format(num)\n",
      "    lnum = len(snum)\n",
      "    for i in range(lnum/2):\n",
      "        if (snum[i] != snum[-i-1]):  # This line edited to fix bug\n",
      "            return False\n",
      "    return True"
     ],
     "language": "python",
     "metadata": {},
     "outputs": []
    },
    {
     "cell_type": "code",
     "collapsed": false,
     "input": [
      "# Now lets test our is_palindrome() function again\n",
      "assert is_palindrome(454) == True\n",
      "assert is_palindrome(455) == False\n",
      "assert is_palindrome(1) == True\n",
      "assert is_palindrome(12) == False\n",
      "assert is_palindrome(4567) == False\n",
      "assert is_palindrome(4554) == True\n",
      "assert is_palindrome(45654) == True\n",
      "assert is_palindrome(45678) == False"
     ],
     "language": "python",
     "metadata": {},
     "outputs": []
    },
    {
     "cell_type": "markdown",
     "metadata": {},
     "source": [
      "OK, now that we've got a function to test palindromes, lets start making them\n",
      "----"
     ]
    },
    {
     "cell_type": "code",
     "collapsed": false,
     "input": [
      "def find_biggest_palindrome(lower, upper):\n",
      "    biggest = 0\n",
      "    for x in range(lower, upper):\n",
      "        for y in range(x, upper):\n",
      "            z = x * y\n",
      "            if is_palindrome(z):\n",
      "                if z > biggest:\n",
      "                    biggest = z\n",
      "                    print(\"Found bigger palindrome {x} * {y} = {z}\".format(x=x, y=y, z=z))\n",
      "    return biggest"
     ],
     "language": "python",
     "metadata": {},
     "outputs": []
    },
    {
     "cell_type": "markdown",
     "metadata": {},
     "source": [
      "Let's find the biggest palindrome we can create by multiplying two digit numbers.\n",
      "\n",
      "Remember, we're testing numbers that <= lower, but < upper, so we need to call the function with lower = 10, and upper = 100."
     ]
    },
    {
     "cell_type": "code",
     "collapsed": false,
     "input": [
      "find_biggest_palindrome(10,100)"
     ],
     "language": "python",
     "metadata": {},
     "outputs": []
    },
    {
     "cell_type": "markdown",
     "metadata": {},
     "source": [
      "Excellent, we've found the right answer.\n",
      "\n",
      "Now lets try the full problem"
     ]
    },
    {
     "cell_type": "code",
     "collapsed": false,
     "input": [
      "find_biggest_palindrome(100,1000)"
     ],
     "language": "python",
     "metadata": {},
     "outputs": []
    },
    {
     "cell_type": "code",
     "collapsed": false,
     "input": [],
     "language": "python",
     "metadata": {},
     "outputs": []
    }
   ],
   "metadata": {}
  }
 ]
}