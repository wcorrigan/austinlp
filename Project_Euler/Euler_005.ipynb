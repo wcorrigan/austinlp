{
 "metadata": {
  "name": "",
  "signature": "sha256:8acaa5e75ecc6ae728e6cb21a7f106d079b037a20d87dae6eff1271b59b1e757"
 },
 "nbformat": 3,
 "nbformat_minor": 0,
 "worksheets": [
  {
   "cells": [
    {
     "cell_type": "markdown",
     "metadata": {},
     "source": [
      "<img src=\"https://projecteuler.net/themes/default/pe_logo_default.png\" alt=\"Project Euler\" align=\"left\"> \n",
      "<br>\n",
      "\n",
      "# [Problem 5 - Smallest multiple.](https://projecteuler.net/problem=5)\n",
      "\n",
      "2520 is the smallest number that can be divided by each of the numbers from 1 to 10 without any remainder.\n",
      "\n",
      "What is the smallest positive number that is <em>evenly divisible</em> by all of the numbers from 1 to 20?\n"
     ]
    },
    {
     "cell_type": "code",
     "collapsed": false,
     "input": [],
     "language": "python",
     "metadata": {},
     "outputs": []
    }
   ],
   "metadata": {}
  }
 ]
}