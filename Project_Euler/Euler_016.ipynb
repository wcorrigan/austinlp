{
 "metadata": {
  "name": "",
  "signature": "sha256:ada41d90542c6289e60495a813be16311417d2a486ace8c391f14a5f0b133e88"
 },
 "nbformat": 3,
 "nbformat_minor": 0,
 "worksheets": [
  {
   "cells": [
    {
     "cell_type": "markdown",
     "metadata": {},
     "source": [
      "<img src=\"https://projecteuler.net/themes/default/pe_logo_default.png\" alt=\"Project Euler\" align=\"left\"> \n",
      "<br>\n",
      "\n",
      "# [Problem 16 - Power digit sum.](https://projecteuler.net/problem=16)\n",
      "\n",
      "\n",
      "\n",
      "$2^{15} = 32768$ and the sum of its digits is $3 + 2 + 7 + 6 + 8 = 26$.\n",
      "\n",
      "What is the sum of the digits of the number $2^{1000}$?\n"
     ]
    },
    {
     "cell_type": "code",
     "collapsed": false,
     "input": [],
     "language": "python",
     "metadata": {},
     "outputs": []
    }
   ],
   "metadata": {}
  }
 ]
}