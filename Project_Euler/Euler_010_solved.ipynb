{
 "metadata": {
  "name": "",
  "signature": "sha256:f51d4b0e88bc4b22dc1dce18ef17b648d211c9909197054610456d8a628171c8"
 },
 "nbformat": 3,
 "nbformat_minor": 0,
 "worksheets": [
  {
   "cells": [
    {
     "cell_type": "markdown",
     "metadata": {},
     "source": [
      "<img src=\"https://projecteuler.net/themes/default/pe_logo_default.png\" alt=\"Project Euler\" align=\"left\"> \n",
      "<br>\n",
      "\n",
      "# [Problem 10 - Summation of primes.](https://projecteuler.net/problem=10)\n",
      "\n",
      "The sum of the primes below 10 is $2 + 3 + 5 + 7 = 17$.\n",
      "\n",
      "Find the sum of all the primes below two million."
     ]
    },
    {
     "cell_type": "markdown",
     "metadata": {},
     "source": [
      "----\n",
      "\n",
      "We're going to use the code what we wrote for problem #7 as the starting point of our solution to this problem.\n",
      "\n",
      "----"
     ]
    },
    {
     "cell_type": "code",
     "collapsed": false,
     "input": [
      "def euler_10(limit, debug=False):\n",
      "    prime_table = [1]*limit  # Table of largest factor\n",
      "    answer = 0\n",
      "    \n",
      "    i = 2\n",
      "    # Find primes up to sqrt(limit), mark their multiples as non-prime\n",
      "    # and count them in the answer\n",
      "    while (i**2 < limit):\n",
      "        if (prime_table[i] == 1):\n",
      "            if debug:\n",
      "                print i, \"is prime\"\n",
      "            answer += i\n",
      "            j = i**2\n",
      "            while (j < limit):\n",
      "                prime_table[j] = i\n",
      "                j += i\n",
      "        i += 1\n",
      "\n",
      "    # Find primes up to limit, and count them in the answer\n",
      "    while (i < limit):\n",
      "        if (prime_table[i] == 1):\n",
      "            if debug:\n",
      "                print i, \"is prime.\"\n",
      "            answer += i\n",
      "        i += 1\n",
      "                \n",
      "    return answer"
     ],
     "language": "python",
     "metadata": {},
     "outputs": []
    },
    {
     "cell_type": "markdown",
     "metadata": {},
     "source": [
      "Next, we test our solution on the smaller version of the problem where we are given the answer.\n",
      "\n",
      "By the way - maybe there are people out there who can get code like this right on the first pass, but I'm not one of them.  The code you see above works, but I needed several passes before it worked.  Turns out I had made an error in one of the edits when I cut and pasted the code from problem #7 to make this function.\n",
      "\n",
      "Part of writing code is creating tests for your code as you go, because without tests your code won't work unless you're superman or incredibly luckly, and I'm neither."
     ]
    },
    {
     "cell_type": "code",
     "collapsed": false,
     "input": [
      "euler_10(10, debug=True)"
     ],
     "language": "python",
     "metadata": {},
     "outputs": []
    },
    {
     "cell_type": "code",
     "collapsed": false,
     "input": [
      "euler_10(20, debug=True)"
     ],
     "language": "python",
     "metadata": {},
     "outputs": []
    },
    {
     "cell_type": "code",
     "collapsed": false,
     "input": [
      "euler_10(10**2)"
     ],
     "language": "python",
     "metadata": {},
     "outputs": []
    },
    {
     "cell_type": "code",
     "collapsed": false,
     "input": [
      "euler_10(2*10**6)"
     ],
     "language": "python",
     "metadata": {},
     "outputs": []
    },
    {
     "cell_type": "code",
     "collapsed": false,
     "input": [],
     "language": "python",
     "metadata": {},
     "outputs": []
    }
   ],
   "metadata": {}
  }
 ]
}