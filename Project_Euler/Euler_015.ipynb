{
 "metadata": {
  "name": "",
  "signature": "sha256:ef20d58dec058c29831041dde28bc910640517542167d3970d11c1237fe7db83"
 },
 "nbformat": 3,
 "nbformat_minor": 0,
 "worksheets": [
  {
   "cells": [
    {
     "cell_type": "markdown",
     "metadata": {},
     "source": [
      "<img src=\"https://projecteuler.net/themes/default/pe_logo_default.png\" alt=\"Project Euler\" align=\"left\"> \n",
      "<br>\n",
      "\n",
      "# [Problem 15 - Lattice paths.](https://projecteuler.net/problem=15)\n",
      "\n",
      "Starting in the top left corner of a 2\u00d72 grid, and only being able to move to the right and down, there are exactly 6 routes to the bottom right corner.\n",
      "\n",
      "<img src=\"https://projecteuler.net/project/images/p015.gif\" align=\"center\"> \n",
      "\n",
      "How many such routes are there through a 20\u00d720 grid?"
     ]
    },
    {
     "cell_type": "code",
     "collapsed": false,
     "input": [],
     "language": "python",
     "metadata": {},
     "outputs": []
    }
   ],
   "metadata": {}
  }
 ]
}