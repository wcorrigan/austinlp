{
 "metadata": {
  "name": "",
  "signature": "sha256:6abff1ef8f6b4d0442d0df55410f9a553b0cd608f6c96fa34de89e557df14e54"
 },
 "nbformat": 3,
 "nbformat_minor": 0,
 "worksheets": [
  {
   "cells": [
    {
     "cell_type": "markdown",
     "metadata": {},
     "source": [
      "<img src=\"https://projecteuler.net/themes/default/pe_logo_default.png\" alt=\"Project Euler\" align=\"left\"> \n",
      "<br>\n",
      "\n",
      "# [Problem 5 - Smallest multiple.](https://projecteuler.net/problem=5)\n",
      "\n",
      "2520 is the smallest number that can be divided by each of the numbers from 1 to 10 without any remainder.\n",
      "\n",
      "What is the smallest positive number that is <em>evenly divisible</em> by all of the numbers from 1 to 20?\n"
     ]
    },
    {
     "cell_type": "markdown",
     "metadata": {},
     "source": [
      "____\n",
      "We could work out the solution with mathematics, but this is a programming puzzle so let's try finding the solution with code"
     ]
    },
    {
     "cell_type": "code",
     "collapsed": false,
     "input": [
      "def valid(n, limit):\n",
      "    # Returns True if n is evenly divisible by 1..limit\n",
      "    for i in range(2,limit+1):\n",
      "        if (n % i) != 0:\n",
      "            return False\n",
      "    return True\n",
      "\n",
      "def find_answer(limit):\n",
      "    answer = 2\n",
      "    while not valid(answer, limit):\n",
      "        answer += 1\n",
      "    return answer"
     ],
     "language": "python",
     "metadata": {},
     "outputs": []
    },
    {
     "cell_type": "markdown",
     "metadata": {},
     "source": [
      "Let's verify that it finds the right answer for the 1..10 version of the problem"
     ]
    },
    {
     "cell_type": "code",
     "collapsed": false,
     "input": [
      "find_answer(10)"
     ],
     "language": "python",
     "metadata": {},
     "outputs": []
    },
    {
     "cell_type": "code",
     "collapsed": false,
     "input": [
      "%time find_answer(20)"
     ],
     "language": "python",
     "metadata": {},
     "outputs": []
    },
    {
     "cell_type": "markdown",
     "metadata": {},
     "source": [
      "Well that sucks, it took 3 minutes 48 seconds to find the answer when I ran it earlier.\n",
      "\n",
      "Maybe we can improve this a little bit.\n",
      "\n",
      "Since answer has to be divisible by $limit$, how about we search only multiples of $limit$."
     ]
    },
    {
     "cell_type": "code",
     "collapsed": false,
     "input": [
      "def find_answer(limit):\n",
      "    answer = limit\n",
      "    while not valid(answer, limit):\n",
      "        answer += limit\n",
      "    return answer"
     ],
     "language": "python",
     "metadata": {},
     "outputs": []
    },
    {
     "cell_type": "code",
     "collapsed": false,
     "input": [
      "%time find_answer(20)"
     ],
     "language": "python",
     "metadata": {},
     "outputs": []
    },
    {
     "cell_type": "markdown",
     "metadata": {},
     "source": [
      "OK, much better, 12.5 seconds, a speed up of ~18x."
     ]
    },
    {
     "cell_type": "markdown",
     "metadata": {},
     "source": [
      "----\n",
      "This problem is actually simple enough that we could solve it by using Python as a calculator.  Let's try that next.  First, a little analysis of the problem.\n",
      "\n",
      "First we factor all of the digits 1 to 10 as follows.\n",
      "\n",
      "- $1 = 1$\n",
      "- $2 = 2$\n",
      "- $3 = 3$\n",
      "- $4 = 2^2$\n",
      "- $5 = 5$\n",
      "- $6 = 2 * 3$\n",
      "- $7 = 7$\n",
      "- $8 = 2^3$\n",
      "- $9 = 3^2$\n",
      "- $10 = 2 * 5$\n",
      "\n",
      "So a number which is divisible by all of these must be a multiple of every prime that appears in this list, raised to the highest power that it appears raised to.\n",
      "\n",
      "So the solution for $1..10$ must be\n",
      "\n",
      "- $Solution = 2^3 * 3^2 * 5 * 7$\n",
      "\n",
      "Let's calculate this with Python\n",
      "\n",
      "----"
     ]
    },
    {
     "cell_type": "code",
     "collapsed": false,
     "input": [
      "answer = 2**3 * 3**2 * 5 * 7\n",
      "print answer"
     ],
     "language": "python",
     "metadata": {},
     "outputs": []
    },
    {
     "cell_type": "markdown",
     "metadata": {},
     "source": [
      "\n",
      "- $11 = 11$\n",
      "- $12 = 2^2 * 3$\n",
      "- $13 = 13$\n",
      "- $14 = 2 * 7$\n",
      "- $15 = 3 * 5$\n",
      "- $16 = 2^4$\n",
      "- $17 = 17$\n",
      "- $18 = 2 * 3^2$\n",
      "- $19 = 19$\n",
      "- $20 = 2^2 * 5$\n",
      "\n",
      "So a number which is divisible by all of these must be a multiple of every prime that appears in this list, raised to the highest power that it appears raised to.\n",
      "\n",
      "So the solution for $1..20$ must be\n",
      "\n",
      "- $Solution = 2^4 * 3^2 * 5 * 7 * 11 * 13 * 17 * 19$\n",
      "\n",
      "Let's calculate this with Python\n",
      "\n",
      "----"
     ]
    },
    {
     "cell_type": "code",
     "collapsed": false,
     "input": [
      "answer = 2**4 * 3**2 * 5 * 7 * 11 * 13 * 17 * 19\n",
      "print answer"
     ],
     "language": "python",
     "metadata": {},
     "outputs": []
    },
    {
     "cell_type": "markdown",
     "metadata": {},
     "source": [
      "Once again, one lesson is that a better algorithm is worth a lot.  Python might not be the absolute fastest programming language out there, but it is very expressive which means that it's easier to explore algorithms and find a better one."
     ]
    }
   ],
   "metadata": {}
  }
 ]
}