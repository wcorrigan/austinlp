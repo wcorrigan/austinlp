{
 "metadata": {
  "name": "",
  "signature": "sha256:14d6ab6e854c752c55e570bc27e1ed89b46bdfdd5f4c2b8824978dec3055ef12"
 },
 "nbformat": 3,
 "nbformat_minor": 0,
 "worksheets": [
  {
   "cells": [
    {
     "cell_type": "markdown",
     "metadata": {},
     "source": [
      "<img src=\"https://projecteuler.net/themes/default/pe_logo_default.png\" alt=\"Project Euler\" align=\"left\"> \n",
      "<br>\n",
      "\n",
      "# [Problem 14 - Longest Collatz sequence.](https://projecteuler.net/problem=14)\n",
      "\n",
      "The following iterative sequence is defined for the set of positive integers:\n",
      "\n",
      "$n \u2192 n/2$ (n is even)\n",
      "\n",
      "$n \u2192 3n + 1$ (n is odd)\n",
      "\n",
      "Using the rule above and starting with 13, we generate the following sequence:\n",
      "\n",
      "$$13 \u2192 40 \u2192 20 \u2192 10 \u2192 5 \u2192 16 \u2192 8 \u2192 4 \u2192 2 \u2192 1$$\n",
      "\n",
      "It can be seen that this sequence (starting at 13 and finishing at 1) contains 10 terms. Although it has not been proved yet (Collatz Problem), it is thought that all starting numbers finish at 1.\n",
      "\n",
      "Which starting number, under one million, produces the longest chain?\n",
      "\n",
      "NOTE: Once the chain starts the terms are allowed to go above one million.\n"
     ]
    },
    {
     "cell_type": "code",
     "collapsed": false,
     "input": [
      "# First we create a generator to calculate the sequence\n",
      "def collatz(n):\n",
      "    while (n != 1):\n",
      "        if ((n%2) == 0):\n",
      "            n = n/2\n",
      "        else:\n",
      "            n = 3*n + 1\n",
      "        yield n"
     ],
     "language": "python",
     "metadata": {},
     "outputs": []
    },
    {
     "cell_type": "code",
     "collapsed": false,
     "input": [
      "# Let's test the generator\n",
      "for n in collatz(13):\n",
      "    print n\n",
      "# The results produced should match the example in the problem description"
     ],
     "language": "python",
     "metadata": {},
     "outputs": []
    },
    {
     "cell_type": "code",
     "collapsed": false,
     "input": [
      "# Next we write a function to count the number of elements in the sequence\n",
      "def collatz_len(n):\n",
      "    len = 1  # First value of n won't be counted unless we start counting from 1\n",
      "    for i in collatz(n):\n",
      "        len += 1\n",
      "    return len"
     ],
     "language": "python",
     "metadata": {},
     "outputs": []
    },
    {
     "cell_type": "code",
     "collapsed": false,
     "input": [
      "# Again, we test using the example sequence from the problem description\n",
      "# The length should be 10\n",
      "collatz_len(13)"
     ],
     "language": "python",
     "metadata": {},
     "outputs": []
    },
    {
     "cell_type": "code",
     "collapsed": false,
     "input": [
      "# And we try to solve the problem\n",
      "def euler_014(limit):\n",
      "    longest_len = 0\n",
      "    longest_n = 0\n",
      "    for n in range(2, limit):\n",
      "        length = collatz_len(n)\n",
      "        if (length > longest_len):\n",
      "            longest_len = length\n",
      "            longest_n = n\n",
      "            print(\"The Collatz sequence starting with {} has {} terms\".format(n, length))\n",
      "    print(\"The solution is {}.\".format(longest_n))"
     ],
     "language": "python",
     "metadata": {},
     "outputs": []
    },
    {
     "cell_type": "code",
     "collapsed": false,
     "input": [
      "# Start with a smaller version of the problem\n",
      "euler_014(100)"
     ],
     "language": "python",
     "metadata": {},
     "outputs": []
    },
    {
     "cell_type": "code",
     "collapsed": false,
     "input": [
      "# Calculate the solution\n",
      "# Run with \"%time\" to verify that the solution runs in < 1 minute\n",
      "%time euler_014(1000000)"
     ],
     "language": "python",
     "metadata": {},
     "outputs": []
    },
    {
     "cell_type": "code",
     "collapsed": false,
     "input": [],
     "language": "python",
     "metadata": {},
     "outputs": []
    }
   ],
   "metadata": {}
  }
 ]
}